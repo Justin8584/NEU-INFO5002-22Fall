{
 "cells": [
  {
   "cell_type": "markdown",
   "id": "4fda94b0",
   "metadata": {},
   "source": [
    "#### Q 1 - Write a code to add item 7000 after 6000 in the following Python List\n",
    "#### Expected output:\n",
    "[10, 20, [300, 400, [5000, 6000, 7000], 500], 30, 40]"
   ]
  },
  {
   "cell_type": "code",
   "execution_count": 1,
   "id": "7549a2b3",
   "metadata": {},
   "outputs": [
    {
     "name": "stdout",
     "output_type": "stream",
     "text": [
      "[10, 20, [300, 400, [5000, 6000, 7000], 500], 30, 40]\n"
     ]
    }
   ],
   "source": [
    "nums_list = [10, 20, [300, 400, [5000, 6000], 500], 30, 40]\n",
    "a = nums_list[2][2].append(7000)\n",
    "print(nums_list)"
   ]
  },
  {
   "cell_type": "markdown",
   "id": "f450708d",
   "metadata": {},
   "source": [
    "#### Q 2 - Remove all occurrences of a 20 item from a list.\n",
    "#### Expected output:\n",
    "[5, 15, 25, 50]"
   ]
  },
  {
   "cell_type": "code",
   "execution_count": 2,
   "id": "8620b98a",
   "metadata": {},
   "outputs": [
    {
     "name": "stdout",
     "output_type": "stream",
     "text": [
      "[5, 15, 25, 50]\n"
     ]
    }
   ],
   "source": [
    "nums_list2 = [5, 20, 15, 20, 25, 50, 20]\n",
    "\n",
    "def removeValue(lst, val):\n",
    "    return [i for i in lst if i != 20]\n",
    "\n",
    "res = removeValue(nums_list2, 20)\n",
    "print(res)\n"
   ]
  },
  {
   "cell_type": "markdown",
   "id": "8a0d54e1",
   "metadata": {},
   "source": [
    "#### Q 3 - Insert 1 at index 2 for list 'A' below."
   ]
  },
  {
   "cell_type": "code",
   "execution_count": 3,
   "id": "490006b9",
   "metadata": {},
   "outputs": [
    {
     "name": "stdout",
     "output_type": "stream",
     "text": [
      "[4, 7, 1, 5]\n"
     ]
    }
   ],
   "source": [
    "A = [4, 7, 5]\n",
    "A.insert(2,1)\n",
    "print(A)"
   ]
  },
  {
   "cell_type": "markdown",
   "id": "3f769529",
   "metadata": {},
   "source": [
    "#### Q 4 - What is the difference between extend and append function? Explain giving a brief example."
   ]
  },
  {
   "cell_type": "markdown",
   "id": "f962a87e",
   "metadata": {},
   "source": [
    "Please see following example about list append and extend. \n",
    "- So, \"Append\" adds an element at the end of the list. The argument passed in the append function is added as a single element at end of the list and the length of the list is increased by 1. \"Append\" has a constant time complexity of O(1).\n",
    "- \"Extend\" adds each element of the iterable (tuple, string, or list) to the end of the list and increases the length of the list by the number of elements of the iterable passed as an argument. \"Extend\" has a time complexity of O(k) where k is the length of the iterable.\n"
   ]
  },
  {
   "cell_type": "code",
   "execution_count": 4,
   "id": "42311b07",
   "metadata": {},
   "outputs": [
    {
     "name": "stdout",
     "output_type": "stream",
     "text": [
      "['Alfa', 'Bravo', 'Charlie', 'Delta', 'Echo', [20, 40]]\n",
      "['Alfa', 'Bravo', 'Charlie', 'Delta', 'Echo', [20, 40], 'Zebar']\n"
     ]
    }
   ],
   "source": [
    "exampleList1 = [\"Alfa\",\"Bravo\",\"Charlie\",\"Delta\",\"Echo\"]\n",
    "a = 50\n",
    "b = [20, 40]\n",
    "c = \"Zebar\"\n",
    "\n",
    "exampleList1.append(b)\n",
    "print(exampleList1)\n",
    "exampleList1.append(c)\n",
    "print(exampleList1)\n"
   ]
  },
  {
   "cell_type": "code",
   "execution_count": 5,
   "id": "1a025e53",
   "metadata": {},
   "outputs": [
    {
     "name": "stdout",
     "output_type": "stream",
     "text": [
      "['Alfa', 'Bravo', 'Charlie', 'Delta', 'Echo', 20, 40]\n",
      "['Alfa', 'Bravo', 'Charlie', 'Delta', 'Echo', 20, 40, 'Z', 'e', 'b', 'a', 'r']\n"
     ]
    }
   ],
   "source": [
    "exampleList2 = [\"Alfa\",\"Bravo\",\"Charlie\",\"Delta\",\"Echo\"]\n",
    "a = 50\n",
    "b = [20, 40]\n",
    "c = \"Zebar\"\n",
    "\n",
    "exampleList2.extend(b)\n",
    "print(exampleList2)\n",
    "exampleList2.extend(c)\n",
    "print(exampleList2)"
   ]
  },
  {
   "cell_type": "markdown",
   "id": "2a795fa4",
   "metadata": {},
   "source": [
    "#### Q 5 - Delete the last 2 elements of below list"
   ]
  },
  {
   "cell_type": "code",
   "execution_count": 6,
   "id": "4ac39b3a",
   "metadata": {},
   "outputs": [],
   "source": [
    "B = [2, 4, 6, 8, 10, 12]"
   ]
  },
  {
   "cell_type": "code",
   "execution_count": 7,
   "id": "df87a29c",
   "metadata": {},
   "outputs": [
    {
     "name": "stdout",
     "output_type": "stream",
     "text": [
      "[2, 4, 6, 8]\n"
     ]
    }
   ],
   "source": [
    "# method 1\n",
    "B = [2, 4, 6, 8, 10, 12]\n",
    "for i in range(2):\n",
    "    B.pop()\n",
    "print(B)"
   ]
  },
  {
   "cell_type": "code",
   "execution_count": 8,
   "id": "af1eec46",
   "metadata": {},
   "outputs": [
    {
     "name": "stdout",
     "output_type": "stream",
     "text": [
      "[2, 4, 6, 8]\n"
     ]
    }
   ],
   "source": [
    "# method 2\n",
    "B = [2, 4, 6, 8, 10, 12]\n",
    "res = [B.pop() for _ in range(2)]\n",
    "print(B)"
   ]
  },
  {
   "cell_type": "code",
   "execution_count": 9,
   "id": "7c50ea46",
   "metadata": {},
   "outputs": [
    {
     "name": "stdout",
     "output_type": "stream",
     "text": [
      "[2, 4, 6, 8]\n"
     ]
    }
   ],
   "source": [
    "# method 3\n",
    "B = [2, 4, 6, 8, 10, 12]\n",
    "B = B[:-2]\n",
    "print(B)"
   ]
  },
  {
   "cell_type": "markdown",
   "id": "259f34a2",
   "metadata": {},
   "source": [
    "#### Q - 6 Reverse the below tuple"
   ]
  },
  {
   "cell_type": "code",
   "execution_count": 17,
   "id": "4d5e8816",
   "metadata": {},
   "outputs": [
    {
     "name": "stdout",
     "output_type": "stream",
     "text": [
      "(50, 40, 30, 20, 10)\n",
      "(50, 40, 30, 20, 10)\n"
     ]
    }
   ],
   "source": [
    "nums = (10, 20, 30, 40, 50)\n",
    "\n",
    "# method 1\n",
    "rev1 = nums[::-1]\n",
    "print(rev1)\n",
    "\n",
    "# method 2\n",
    "rev2 = tuple(reversed(nums))\n",
    "print(rev2)"
   ]
  },
  {
   "cell_type": "markdown",
   "id": "16dc8a06",
   "metadata": {},
   "source": [
    "#### Q - 7 Access value '6' from the tuple"
   ]
  },
  {
   "cell_type": "code",
   "execution_count": 18,
   "id": "66ae262f",
   "metadata": {},
   "outputs": [
    {
     "name": "stdout",
     "output_type": "stream",
     "text": [
      "6\n"
     ]
    }
   ],
   "source": [
    "tup = (\"Red\", [5, 7, 9], (2, 6, 14))\n",
    "\n",
    "res = tup[2][1]\n",
    "print(res)"
   ]
  },
  {
   "cell_type": "markdown",
   "id": "b996a507",
   "metadata": {},
   "source": [
    "#### Q 8 - Unpack the below tuple into 3 variables:"
   ]
  },
  {
   "cell_type": "code",
   "execution_count": 19,
   "id": "df8d9389",
   "metadata": {},
   "outputs": [
    {
     "name": "stdout",
     "output_type": "stream",
     "text": [
      "('New York', 2022, 'Financial Hub')\n",
      "New York\n",
      "2022\n",
      "Financial Hub\n"
     ]
    }
   ],
   "source": [
    "x = \"New York\", 2022, \"Financial Hub\"\n",
    "print(x)\n",
    "val1, val2, val3 = x\n",
    "print(val1)\n",
    "print(val2)\n",
    "print(val3)"
   ]
  },
  {
   "cell_type": "markdown",
   "id": "358b1d4a",
   "metadata": {},
   "source": [
    "#### Q 9 - Create a single variable tuple"
   ]
  },
  {
   "cell_type": "code",
   "execution_count": 13,
   "id": "baf19203",
   "metadata": {},
   "outputs": [
    {
     "name": "stdout",
     "output_type": "stream",
     "text": [
      "(5,)\n",
      "<class 'tuple'>\n"
     ]
    }
   ],
   "source": [
    "# add a comma after the item to make a single variable tuple\n",
    "a = (5,)\n",
    "print(a)\n",
    "print(type(a))"
   ]
  },
  {
   "cell_type": "markdown",
   "id": "22a59cce",
   "metadata": {},
   "source": [
    "#### Q 10 - How many times did 99 occured in below tuple"
   ]
  },
  {
   "cell_type": "code",
   "execution_count": 14,
   "id": "89f0ca79",
   "metadata": {},
   "outputs": [
    {
     "name": "stdout",
     "output_type": "stream",
     "text": [
      "2\n"
     ]
    }
   ],
   "source": [
    "nums_tuple = (10, 20, 99, 30, 99, 40, 60, 100)\n",
    "cot = nums_tuple.count(99)\n",
    "print(cot)    "
   ]
  }
 ],
 "metadata": {
  "kernelspec": {
   "display_name": "Python 3 (ipykernel)",
   "language": "python",
   "name": "python3"
  },
  "language_info": {
   "codemirror_mode": {
    "name": "ipython",
    "version": 3
   },
   "file_extension": ".py",
   "mimetype": "text/x-python",
   "name": "python",
   "nbconvert_exporter": "python",
   "pygments_lexer": "ipython3",
   "version": "3.9.7"
  }
 },
 "nbformat": 4,
 "nbformat_minor": 5
}
