{
 "cells": [
  {
   "cell_type": "markdown",
   "metadata": {},
   "source": [
    "#### Python Datetime: Manipulate Times, Dates, and Time Spans\n",
    "\n",
    "Dealing with dates and times in Python can be a hassle. There’s a built-in way of making it easier: the Python `**date, time and datetime**` module provides a number of functions to deal with `dates, times and time intervals`. \n",
    "\n",
    "The `datetime` classes in Python are categorized into main 5 classes.\n",
    "\n",
    "- `date` – Manipulate just date ( Month, day, year)\n",
    "\n",
    "- `time` – Time independent of the day (Hour, minute, second, microsecond)\n",
    "\n",
    "- `datetime` – Combination of time and date (Month, day, year, hour, second, microsecond)\n",
    "\n",
    "- `timedelta` — A duration of time used for manipulating dates\n",
    "\n",
    "- `tzinfo` — An abstract class for dealing with time zones\n",
    "\n",
    "`*datetime*`  helps to identify and process time-related elements like `dates, hours, minutes, seconds, days of the week, months, years`, etc. It offers various services like managing time zones and daylight savings time. It can work with `timestamp` data. It can extract the `day of the week`, `day of the month`, and `other date and time formats` from strings.\n",
    "\n",
    "In this notebook we will discuss different ways to get the `current date & timestamp` in python including.\n",
    "\n",
    "- Creating Date Objects\n",
    "\n",
    "- Getting `year` and `month` from the date\n",
    "\n",
    "- Getting `month day and Weekday` from `date`\n",
    "\n",
    "- Getting `hour` and `minutes` from the `date`\n",
    "\n",
    "- Getting `Week number` of the year from date\n",
    "\n",
    "- Converting `date` object into `timestamp`\n",
    "\n",
    "- Converting UNIX `timestamp` string to date object\n",
    "\n",
    "- Handling `timedelta` objects\n",
    "\n",
    "- Getting the difference between two dates and times\n",
    "\n",
    "- Formatting dates: `strftime()` and `strptime()`\n",
    "\n",
    "- Handling `timezones`\n",
    "\n",
    "- Working with Pandas datetime objects\n",
    "    - Getting year, month, day, hour, and minute\n",
    "    - Getting weekday and day of year\n",
    "    - Converting date objects into a DataFrame index"
   ]
  },
  {
   "cell_type": "markdown",
   "metadata": {},
   "source": [
    "Let us dive into these  one by one and understand how these are applied."
   ]
  },
  {
   "cell_type": "code",
   "execution_count": 1,
   "metadata": {
    "ExecuteTime": {
     "end_time": "2020-06-17T23:46:12.484816Z",
     "start_time": "2020-06-17T23:46:12.480170Z"
    }
   },
   "outputs": [],
   "source": [
    "# import datetime class from datetime module\n",
    "from datetime import datetime\n",
    "import numpy as np\n",
    "import pandas as pd\n",
    "from dateutil.parser import parse\n",
    "# import timezone from pytz module\n",
    "import pytz\n",
    "from pytz import timezone"
   ]
  },
  {
   "cell_type": "markdown",
   "metadata": {},
   "source": [
    "#### Creating Date Objects\n",
    "\n",
    "Let’s take a closer look at a `datetime*` object. Since `*datetime*` is both a module and a class within that module, we’ll start by importing the `*datetime*` class from the `*datetime*` module.\n"
   ]
  },
  {
   "cell_type": "markdown",
   "metadata": {},
   "source": [
    "#### Steps to Get Current Date and Time in Python\n",
    "\n",
    "There are many ways to get the current date and time in Python using the built-in and third-party modules. The below steps show how to get the current date and time using the `datetime` and time module.\n",
    "\n",
    "**Import datetime module**\n",
    "\n",
    "Python’s datetime module provides functions that handle many complex functionalities involving the date and time. Import the datetime class using a from datetime import datetime statement.\n",
    "\n",
    "**Use the now() function of a datetime class**\n",
    "\n",
    "The datetime.now() returns the current local date and time. By default, it represents datetime in YYYY-mm-dd hh:mm:ss.microseconds format. Note: The date and time values are stored as datetime objects, The datetime object represents both date and time\n",
    "\n",
    "**Use the today() function of a Date class**\n",
    "\n",
    "Use this step if you want only the current date and not the time. The today() method of a date class returns the current local date\n",
    "\n",
    "**Use time module**\n",
    "\n",
    "Use the time.time() function to get the current time in seconds since the epoch as a floating-point number"
   ]
  },
  {
   "cell_type": "code",
   "execution_count": null,
   "metadata": {},
   "outputs": [],
   "source": [
    "from datetime import datetime\n",
    "\n",
    "now_time= datetime.now()\n",
    "print('Current DateTime:', now_time)\n",
    "print('Type:', type(now_time))"
   ]
  },
  {
   "cell_type": "markdown",
   "metadata": {},
   "source": [
    "As you can see in the output we got the current date and time in the following format."
   ]
  },
  {
   "cell_type": "code",
   "execution_count": null,
   "metadata": {},
   "outputs": [],
   "source": [
    "YYYY-MM-DD HH:MM:SS.MS"
   ]
  },
  {
   "cell_type": "markdown",
   "metadata": {},
   "source": [
    "#### Extract Current Date and Time Separately from a Datetime Object\n",
    "\n",
    "Note: in Python, The date and datetime are objects. So when we are manipulating date and time, that means we are actually dealing with objects.\n",
    "\n",
    "For example, you can extract the current date and time separately from a datetime object\n",
    "\n",
    "- Use the date() function to get the date in yyyy-mm-dd format\n",
    "\n",
    "- Use the time() function to get the time in the hours:minutes:seconds.microseconds format."
   ]
  },
  {
   "cell_type": "code",
   "execution_count": 7,
   "metadata": {},
   "outputs": [
    {
     "name": "stdout",
     "output_type": "stream",
     "text": [
      "today date:  2022-11-20 13:28:59.457897 \n",
      "\n",
      "Date: 2022-11-20\n",
      "<class 'datetime.date'>\n",
      "\n",
      "\n",
      "Time 13:28:59.457897\n",
      "<class 'datetime.time'>\n"
     ]
    }
   ],
   "source": [
    "# import only datetime class\n",
    "from datetime import datetime\n",
    "\n",
    "# current datetime\n",
    "now = datetime.now()\n",
    "print(\"today date: \",now, \"\\n\")\n",
    "current_date = now.date()\n",
    "print('Date:', current_date)\n",
    "print(type(current_date))\n",
    "\n",
    "print('\\n')\n",
    "current_time = now.time()\n",
    "print('Time', current_time)\n",
    "print(type(current_time))"
   ]
  },
  {
   "cell_type": "markdown",
   "metadata": {},
   "source": [
    "#### Break DateTime to Get Current Year, Month, Day, Hour, Minute, Seconds\n",
    "\n",
    "#### Extract Year and Month from the Date\n",
    "\n",
    "In most data sets, date and time information is stored in string format! Also, we may not want all of this date and time data — if we’re doing something like a monthly sales analysis, breaking things down by microsecond isn’t going to be very useful.\n",
    "\n",
    "\n",
    "The datetime module provides several attributes to access the individual component such as a year, month, day, hour, minute, seconds.\n",
    "\n",
    "So now, let’s start digging into a common task in data science: extracting only the elements that we actually want from a string using datetime.\n"
   ]
  },
  {
   "cell_type": "code",
   "execution_count": null,
   "metadata": {},
   "outputs": [],
   "source": [
    "from datetime import datetime\n",
    "\n",
    "# Get current date and time\n",
    "now = datetime.now()\n",
    "\n",
    "# extract attributes \n",
    "print(\"Year:\", now.year)\n",
    "print(\"Month:\", now.month)\n",
    "print(\"Day =\", now.day)\n",
    "\n",
    "print(\"Hour:\", now.hour)\n",
    "print(\"Minute:\", now.minute)\n",
    "print(\"Second:\", now.second)\n",
    "print(\"Microsecond:\", now.microsecond)"
   ]
  },
  {
   "cell_type": "markdown",
   "metadata": {},
   "source": [
    "#### Get Current Date using the Date class\n",
    "\n",
    "Python Datetime module provides the Date class to represent and manipulate the dates. The Date class considers the Gregorian calendar.\n",
    "\n",
    "- Import the date class from the datetime module\n",
    "\n",
    "- Use the date.today() method to get the current date."
   ]
  },
  {
   "cell_type": "code",
   "execution_count": 8,
   "metadata": {},
   "outputs": [
    {
     "name": "stdout",
     "output_type": "stream",
     "text": [
      "Current Date: 2022-11-20\n"
     ]
    }
   ],
   "source": [
    "from datetime import date\n",
    "\n",
    "today = date.today()\n",
    "print('Current Date:', today)"
   ]
  },
  {
   "cell_type": "markdown",
   "metadata": {},
   "source": [
    "**Note:** The datetime.today() return the current date and time. This method is functionally equivalent to now(), but without timezone information."
   ]
  },
  {
   "cell_type": "code",
   "execution_count": 9,
   "metadata": {},
   "outputs": [
    {
     "data": {
      "text/plain": [
       "datetime.datetime(2022, 11, 20, 13, 29, 39, 287234)"
      ]
     },
     "execution_count": 9,
     "metadata": {},
     "output_type": "execute_result"
    }
   ],
   "source": [
    "datetime.today()"
   ]
  },
  {
   "cell_type": "markdown",
   "metadata": {},
   "source": [
    "#### Get Current Time in Python\n",
    "\n",
    "There are many ways to get the current time in Python using the built-in and third-party modules. Python time module provides various functions to get the current time and perform time-related activities. We will see each one by one\n",
    "\n",
    "#### Current Time in Seconds Using time.time()\n",
    "\n",
    "Use the time.time() function to get the current time in seconds since the epoch as a floating-point number.\n",
    "\n",
    "This method returns the current timestamp in a floating-point number that represents the number of seconds since Jan 1, 1970, 00:00:00.\n",
    "\n",
    "It returns the current time in seconds.microseconds format."
   ]
  },
  {
   "cell_type": "code",
   "execution_count": null,
   "metadata": {},
   "outputs": [],
   "source": [
    "import time\n",
    "\n",
    "# get current time in seconds\n",
    "t = time.time()\n",
    "print('Time:', t)"
   ]
  },
  {
   "cell_type": "markdown",
   "metadata": {},
   "source": [
    "#### Current Time Using time.ctime()\n",
    "Use the time.ctime() function to display the current time in a human-readable format. This function represents the current time in the operating system preferred way. The output may vary as per the operating system."
   ]
  },
  {
   "cell_type": "code",
   "execution_count": null,
   "metadata": {},
   "outputs": [],
   "source": [
    "import time\n",
    "\n",
    "# get current time\n",
    "print('Current Time:', time.ctime(time.time()))\n"
   ]
  },
  {
   "cell_type": "markdown",
   "metadata": {},
   "source": [
    "#### Current Time Using time.localtime()\n",
    "\n",
    "Use the time.localtime() function to return the current time expressed in seconds since the epoch to a local time in the a struct_time format.\n",
    "\n",
    "You can access year, month, day, hour, minute, seconds, and microseconds from a struct_time"
   ]
  },
  {
   "cell_type": "code",
   "execution_count": null,
   "metadata": {},
   "outputs": [],
   "source": [
    "import time\n",
    "\n",
    "# get current local time\n",
    "t = time.localtime(time.time())\n",
    "\n",
    "print('Current Time:', t)\n",
    "print('Year:', t.tm_year)\n",
    "print('Month:', t.tm_mday)\n",
    "print('Day:', t.tm_mday)\n",
    "\n",
    "print('Minutes:', t.tm_min)\n",
    "print('Hours:', t.tm_hour)\n",
    "print('Seconds:', t.tm_sec)"
   ]
  },
  {
   "cell_type": "markdown",
   "metadata": {},
   "source": [
    "#### Get Current Time in Milliseconds\n",
    "There is no specific attribute or method in Python to get the current time in milliseconds. However, as milliseconds are three decimal places away from seconds, we can convert seconds to milliseconds by multiplying seconds by 1000.\n",
    "\n",
    "- Use the time.time() to get the current time in seconds since the epoch as a floating point number\n",
    "- Multiply time by 1000 to get current time in milliseconds"
   ]
  },
  {
   "cell_type": "code",
   "execution_count": null,
   "metadata": {},
   "outputs": [],
   "source": [
    "import time\n",
    "\n",
    "t = time.time()\n",
    "ml = int(t * 1000)\n",
    "print('Current time in milliseconds:', ml)"
   ]
  },
  {
   "cell_type": "markdown",
   "metadata": {},
   "source": [
    "#### Get Current UTC Time\n",
    "UTC – Coordinated Universal Time is the common time standard across the world. So, in Python, to work with the timezone without any issues, it is recommended to use the UTC as your base timezone.\n",
    "\n",
    "- Use the datetime.now() method to get the current time\n",
    "- Use the timezone class with UTC instance with a now() method to to get the current UTC time in Python"
   ]
  },
  {
   "cell_type": "code",
   "execution_count": null,
   "metadata": {},
   "outputs": [],
   "source": [
    "from datetime import datetime, timezone\n",
    "\n",
    "now = datetime.now(timezone.utc)\n",
    "print('Current UTC Time:', now)"
   ]
  },
  {
   "cell_type": "markdown",
   "metadata": {},
   "source": [
    "#### Get Current Time in a Specific Timezone\n",
    "Use the third-party pytz module to get the current time of any timezone.\n",
    "\n",
    "Steps:\n",
    "\n",
    "- Install pytz module using the pip install pytz\n",
    "- Use the pytz.timezone('region_name') function to create the timezone object\n",
    "- Use datetime.now(timezone_obj) function to get the current datetime with timezone"
   ]
  },
  {
   "cell_type": "code",
   "execution_count": null,
   "metadata": {},
   "outputs": [],
   "source": [
    "from datetime import datetime\n",
    "import pytz\n",
    "\n",
    "dt_us_central = datetime.now(pytz.timezone('US/Central'))\n",
    "print(\"US Central Current DateTime:\", dt_us_central.strftime(\"%Y:%m:%d %H:%M:%S %Z %z\"))\n",
    "\n",
    "# extract components\n",
    "print('TimeZone Name:', dt_us_central.tzname())\n",
    "print('UTC offset:', dt_us_central.utcoffset())"
   ]
  },
  {
   "cell_type": "markdown",
   "metadata": {},
   "source": [
    "#### Get Current GMT Time\n",
    "\n",
    "- Use the time.gmtime() method to get the current GMT time in Python\n",
    "- Pass the time in seconds to this method to get the GMT representation of a time"
   ]
  },
  {
   "cell_type": "code",
   "execution_count": null,
   "metadata": {},
   "outputs": [],
   "source": [
    "import time\n",
    "\n",
    "# current GMT Time\n",
    "gmt = time.gmtime(time.time())\n",
    "\n",
    "print('GMT Time:', gmt)\n",
    "# Hours:minutes:Seconds\n",
    "print(gmt.tm_hour, ':', gmt.tm_min, ':', gmt.tm_sec)"
   ]
  },
  {
   "cell_type": "markdown",
   "metadata": {},
   "source": [
    "#### Summary of the functions\n",
    "\n",
    "| Function | Description |\n",
    "| --- | --- |\n",
    "| datetime.now() | Get the current local datetime, with no timezone information |\n",
    "|date.today()|Get the current date|\n",
    "|time.time()|Get the current time in seconds. It returns the number of seconds since Jan 1, 1970, 00:00:00.|\n",
    "|time.ctime()|Get the current time in a human-readable format|\n",
    "|time.localtime()|Get the current time expressed in seconds since the epoch to a local time in the a struct_time format|\n",
    "|int(time.time()*1000|Get the current time in milliseconds|\n",
    "|datetime.now(timezone.utc|Get the current UTC time|\n",
    "|time.gmtime(time.time()|Get the current GMT time|\n",
    "|datetime.now(pytz.timezone('tz_name'))|Get the current time in a specific timezone|\t\n"
   ]
  },
  {
   "cell_type": "markdown",
   "metadata": {},
   "source": [
    "\n",
    "#### Handling Date and Time Strings with **strptime()** and **strftime()**\n",
    "\n",
    "`*datetime*` includes two met`hods, `*strptime()*` and `*strftime()*` , for converting objects from stri`ngs to `datetime` objects and vice versa. `*strptime()*` can read strings with date and time information and convert them to datetime objects, and `*strftime()*` converts datetime objects back into strings.\n"
   ]
  },
  {
   "cell_type": "markdown",
   "metadata": {},
   "source": [
    "#### How to Format Date and Time in Python\n",
    "\n",
    "In Python, the date and time values are stored as datetime objects, but there are cases where we need to print the datetime objects into various string formats for better readability.\n",
    "\n",
    "For example, you may need to represent a date numerically in format, like “17-06-2021“. On the other hand, you want to convert dates in textual string format like “Tuesday, 23 June 2021.”\n",
    "\n",
    "The below steps show how to convert a datetime to string format using the strftime() function\n",
    "\n",
    "1. **Import datetime module**\n",
    "\n",
    "Python’s datetime module provides functions that handle many complex functionalities involving the date and time. Import datetime class using a from datetime import datetime statement.\n",
    "\n",
    "2. **Use strftime() function of a datetime class**\n",
    "\n",
    "Use datetime.strftime(format) to convert a datetime object into a string as per the corresponding format.\n",
    "\n",
    "The format codes are standard directives for mentioning in which format you want to represent datetime. For example, the %d-%m-%Y %H:%M:%S codes convert date to dd-mm-yyyy hh:mm:ss format.\n",
    "\n",
    "3. **Use strftime() function of a time module**\n",
    "\n",
    "Use this step if you want to convert a time object to string format. like, hours minutes seconds (hh:mm:ss). Use the time.strptime(string[, format]) function to convert a time object to a string format.\n",
    "\n",
    "\n",
    "#### Convert DateTime to String Format\n",
    "\n",
    "**Syntax:**\n",
    "\n",
    "datetime_object.strftime(format)\n",
    "\n",
    "- First, get the current datetime the now() function\n",
    "- Next, use the strftime() with appropriate format codes."
   ]
  },
  {
   "cell_type": "code",
   "execution_count": null,
   "metadata": {},
   "outputs": [],
   "source": [
    "from datetime import datetime\n",
    "\n",
    "# current dateTime\n",
    "now = datetime.now()\n",
    "\n",
    "# convert to string\n",
    "date_time_str = now.strftime(\"%Y-%m-%d %H:%M:%S\")\n",
    "print('DateTime String:', date_time_str)"
   ]
  },
  {
   "cell_type": "markdown",
   "metadata": {},
   "source": [
    "#### Convert individual attributes of a datetime object to a string format: –\n",
    "\n",
    "For example, you can convert only date, time, year, or day from a datetime object to a string using the appropriate format code."
   ]
  },
  {
   "cell_type": "code",
   "execution_count": null,
   "metadata": {},
   "outputs": [],
   "source": [
    "from datetime import datetime\n",
    "\n",
    "# current dateTime\n",
    "now = datetime.now()\n",
    "\n",
    "# convert to date String\n",
    "date = now.strftime(\"%d/%m/%Y\")\n",
    "print('Date String:', date)\n",
    "\n",
    "# convert to time String\n",
    "time = now.strftime(\"%H:%M:%S\")\n",
    "print('Time String:', time)\n",
    "\n",
    "# year\n",
    "year = now.strftime(\"%Y\")\n",
    "print('Year String:', year)\n",
    "\n",
    "# Month\n",
    "month = now.strftime(\"%m\")\n",
    "print('Month String:', month)\n",
    "\n",
    "# Day\n",
    "day = now.strftime(\"%d\")\n",
    "print('Day String:', day)"
   ]
  },
  {
   "cell_type": "markdown",
   "metadata": {},
   "source": [
    "#### strftime() Date Format Codes\n",
    "Dates have a default representation, but you may want to print them in a specific format. In that case, you can get a custom string representation using the different format codes\n",
    "\n",
    "The strftime() uses some standard directives to represent a datetime in a string format. The same set of directives are shared between both the strptime() and strftime() methods.\n",
    "\n",
    "Below are the character codes to format the date and time:-\n",
    "\n",
    "- %d: Returns the day of the month, from 1 to 31.\n",
    "- %m: Returns the month of the year, from 1 to 12.\n",
    "- %Y: Returns the year in four-digit format (Year with century). like, 2021.\n",
    "- %y: Reurns year in two-digit format (year without century). like, 19, 20, 21\n",
    "- %A: Returns the full name of the weekday. Like, Monday, Tuesday\n",
    "- %a: Returns the short name of the weekday (First three character.). Like, Mon, Tue\n",
    "- %B: Returns the full name of the month. Like, June, March\n",
    "- %b: Returns the short name of the month (First three character.). Like, Mar, Jun\n",
    "- %H: Returns the hour. from 01 to 23.\n",
    "- %I: Returns the hour in 12-hours format. from 01 to 12.\n",
    "- %M: Returns the minute, from 00 to 59.\n",
    "- %S: Returns the second, from 00 to 59.\n",
    "- %f: Return the microseconds from 000000 to 999999\n",
    "- %p: Return time in AM/PM format\n",
    "- %c: Returns a locale’s appropriate date and time representation\n",
    "- %x: Returns a locale’s appropriate date representation\n",
    "- %X: Returns a locale’s appropriate time representation\n",
    "- %z: Return the UTC offset in the form ±HHMM[SS[.ffffff]] (empty string if the object is naive).\n",
    "- %Z: Return the Time zone name (empty string if the object is naive).\n",
    "- %j: Returns the day of the year from 01 to 366\n",
    "- %w: Returns weekday as a decimal number, where 0 is Sunday and 6 is Saturday.\n",
    "- %U: Returns the week number of the year (Sunday as the first day of the week) from 00 to 53\n",
    "- %W: Returns the week number of the year (Monday as the first day of the week) from 00 to 53\n"
   ]
  },
  {
   "cell_type": "markdown",
   "metadata": {},
   "source": [
    "#### Represent Dates in Numerical Format\n",
    "The numerical format means to display the day, month, year, hours, minutes, seconds in numbers. like, 2022-03-22 12:19:47.864274"
   ]
  },
  {
   "cell_type": "code",
   "execution_count": null,
   "metadata": {},
   "outputs": [],
   "source": [
    "from datetime import datetime\n",
    "\n",
    "# Get current Date\n",
    "x_date = datetime.now()\n",
    "print('Current Date:', x_date)\n",
    "\n",
    "# Represent Dates in numerical format\n",
    "print(\"dd-mm-yyyy HH:MM:SS:\", x_date.strftime(\"%d-%m-%y %H:%M:%S\"))\n",
    "print(\"dd-mm-yyyy:\", x_date.strftime(\"%d-%m-%Y\"))\n",
    "print(\"dd-mm-yy Format:\", x_date.strftime(\"%d-%m-%y\"))"
   ]
  },
  {
   "cell_type": "markdown",
   "metadata": {},
   "source": [
    "#### Represent Dates in Textual Format\n",
    "The textual format means to display the month name and day name. like, Wednesday,07 July, 2021. You can print the full name and short name of a day and month.\n",
    "\n",
    "- %A: Full name of the day. Like, Monday\n",
    "- %a: Short name of the day. Like, Mon, Tue\n",
    "- %B: Full name of the month. Like, December\n",
    "- %b: Short name of the month. Like, Mar"
   ]
  },
  {
   "cell_type": "code",
   "execution_count": null,
   "metadata": {},
   "outputs": [],
   "source": [
    "from datetime import datetime\n",
    "\n",
    "# Get current Date\n",
    "x_date = datetime.now()\n",
    "print('Current Date:', x_date)\n",
    "\n",
    "# Represent Dates in full textual format\n",
    "print(\"dd-MonthName-yyyy:\", x_date.strftime(\"%d-%B-%Y\"))\n",
    "print(\"DayName-dd-MonthName-yyyy:\", x_date.strftime(\"%A,%d %B, %Y\"))\n",
    "\n",
    "# Represent dates in short textual format\n",
    "print(\"dd-MonthName-yyyy:\", x_date.strftime(\"%d-%b-%Y\"))\n",
    "print(\"DDD-dd-MMM-yyyy:\", x_date.strftime(\"%a,%d %b, %Y\"))"
   ]
  },
  {
   "cell_type": "markdown",
   "metadata": {},
   "source": [
    "#### Convert Only Date to String\n",
    "The strftime() method can be called using the date, time, or datetime objects. Let’s how to format only date object of a datetime module to string."
   ]
  },
  {
   "cell_type": "code",
   "execution_count": null,
   "metadata": {},
   "outputs": [],
   "source": [
    "from datetime import date\n",
    "\n",
    "# current date\n",
    "today = date.today()\n",
    "print(\"Today's date:\", today)\n",
    "\n",
    "# format date\n",
    "print('Date String', today.strftime(\"%d-%m-%y\"))"
   ]
  },
  {
   "cell_type": "markdown",
   "metadata": {},
   "source": [
    "**Note:** You can also extract date object from a datetime object and convert it to a string if required."
   ]
  },
  {
   "cell_type": "code",
   "execution_count": null,
   "metadata": {},
   "outputs": [],
   "source": [
    "from datetime import datetime\n",
    "\n",
    "# extract date object\n",
    "today = datetime.now().date()\n",
    "# format date\n",
    "print('Date String', today.strftime(\"%d-%m-%y\"))"
   ]
  },
  {
   "cell_type": "markdown",
   "metadata": {},
   "source": [
    "#### Convert Time Object to String Format\n",
    "Same as the date object you can convert the time object of a datetime module to a string.\n",
    "\n",
    "- Use the time() constructor to create a time object Or\n",
    "- Extract the time object from a datetime object using the datetime.time() method."
   ]
  },
  {
   "cell_type": "markdown",
   "metadata": {},
   "source": [
    "#### Represent time in 24-hours and 12-hours Format\n",
    "\n",
    "- Use the %H-%M-%S format code to display time in 24-hours format\n",
    "- Use the %I-%M-%S format code to display time in 12-hours format"
   ]
  },
  {
   "cell_type": "code",
   "execution_count": null,
   "metadata": {},
   "outputs": [],
   "source": [
    "from datetime import datetime\n",
    "\n",
    "# Get current time\n",
    "x_time = datetime.now().time()\n",
    "print('Current Time:', x_time)\n",
    "\n",
    "print(\"Time in 24 hours format:\", x_time.strftime(\"%H-%M-%S\"))\n",
    "print(\"Time in 12 hours format:\", x_time.strftime(\"%I-%M-%S\"))"
   ]
  },
  {
   "cell_type": "markdown",
   "metadata": {},
   "source": [
    "#### Represent Time in AM/PM Format\n",
    "Use the %p format code to represent time in AM/PM format."
   ]
  },
  {
   "cell_type": "code",
   "execution_count": null,
   "metadata": {},
   "outputs": [],
   "source": [
    "from datetime import datetime\n",
    "\n",
    "# Get current Datetime\n",
    "dt = datetime.now()\n",
    "print('Current Time:', dt)\n",
    "\n",
    "# %p to represent datetime in AM/PM\n",
    "print(\"Time is:\", dt.strftime(\"%d-%b-%Y %I.%M %p\"))\n",
    "\n",
    "# Represent only time in AM/PM\n",
    "print(\"Time is:\", dt.time().strftime(\"%H.%M %p\"))"
   ]
  },
  {
   "cell_type": "markdown",
   "metadata": {},
   "source": [
    "#### Converting Datetime to Int\n",
    "\n",
    "We have seen how to display the datetime in different formats as a string, but there will be requirements to store it as an integer. This is equivalent to adding all the values in the date and time with their place values.\n",
    "\n",
    "This can be done by simply giving their format strings together without space. It will add the values along with their place values."
   ]
  },
  {
   "cell_type": "code",
   "execution_count": null,
   "metadata": {},
   "outputs": [],
   "source": [
    "from datetime import datetime\n",
    "\n",
    "dt = datetime.now()\n",
    "x_int = int(dt.strftime(\"%Y%m%d%H%M%S\"))\n",
    "print(\"Current date as Integer::\", x_int)\n",
    "\n",
    "# convert back to datetime\n",
    "dt = datetime.strptime(str(x_int), '%Y%m%d%H%M%S')\n",
    "print('DateTime is:', dt)"
   ]
  },
  {
   "cell_type": "markdown",
   "metadata": {},
   "source": [
    "#### Converting Datetime to Float\n",
    "\n",
    "We can convert the datetime String to float with a precision of microseconds. Or store the date and time information separately as well."
   ]
  },
  {
   "cell_type": "code",
   "execution_count": null,
   "metadata": {},
   "outputs": [],
   "source": [
    "from datetime import datetime\n",
    "\n",
    "dt = datetime.now()\n",
    "x_float = float(dt.strftime(\"%Y%m%d%H%M%S.%f\"))\n",
    "print(\"Current date as Float::\", x_float)\n",
    "\n",
    "# convert back to datetime\n",
    "dt = datetime.strptime(str(x_float), '%Y%m%d%H%M%S.%f')\n",
    "print('DateTime is:', dt)"
   ]
  },
  {
   "cell_type": "markdown",
   "metadata": {},
   "source": [
    "#### Python String to DateTime using strptime()\n",
    "\n",
    "In some cases, date and time could be passed as a string object. To convert a string into a datetime object, we can use the strptime() function of a datetime module.\n",
    "\n",
    "For example, you may need to convert a numerical string like 13-05-2021 to a datetime object. or you want to convert string representing dates like Monday, 13 May, 2021 to a datetime object.\n",
    "\n",
    "The below steps shows how to convert a string representing a date to a datetime object\n",
    "\n",
    "1. **Import datetime module:**\n",
    "Python’s datetime module provides functions that handle many complex functionalities involving the date and time.\n",
    "Import datetime class using a from datetime import datetime statement\n",
    "\n",
    "2. **Use strptime() function of a datetime class:**\n",
    "Use datetime.strptime(date_string, format) to convert a given string into a datetime object as per the corresponding format.\n",
    "The format codes are standard directives for mentioning the format of the string for parsing. For example, The %d-%m-%Y format codes are for dd-mm-yyyy\n",
    "3. **Use strptime() function of a time module:**\n",
    "Use this step if you want to convert a string to a time object. Use the time.strptime(string[, format]) function. This function converts time in string format to a time object in time.struct_time format.\n",
    "\n",
    "#### Parse String to Datetime\n",
    "\n",
    "**Syntax**\n",
    "\n",
    "$datetime.strptime(datestring, format)$\n"
   ]
  },
  {
   "cell_type": "code",
   "execution_count": null,
   "metadata": {},
   "outputs": [],
   "source": [
    "from datetime import datetime\n",
    "\n",
    "# Date String in dd/mm/yyyy HH:MM:SS format\n",
    "dt_string = \"16/03/2022 09:15:32\"\n",
    "\n",
    "# Convert string to datetime object\n",
    "dt_object = datetime.strptime(dt_string, \"%d/%m/%Y %H:%M:%S\")\n",
    "print(dt_object)\n"
   ]
  },
  {
   "cell_type": "markdown",
   "metadata": {},
   "source": [
    "#### String to Date Object\n",
    "- First, convert a string to a datetime object using the strptime() function\n",
    "- Use datetime.date() function to extract only the date object from the datetime instance."
   ]
  },
  {
   "cell_type": "code",
   "execution_count": null,
   "metadata": {},
   "outputs": [],
   "source": [
    "from datetime import datetime\n",
    "\n",
    "# convert yyyy-mm-dd string to date object\n",
    "dt_object = datetime.strptime(\"2022/03/16 09:15:32\", \"%Y/%m/%d %H:%M:%S\").date()\n",
    "print(dt_object)"
   ]
  },
  {
   "cell_type": "markdown",
   "metadata": {},
   "source": [
    "**Note:** If a string represents the date without time, use only %d/%m/%Y format codes."
   ]
  },
  {
   "cell_type": "code",
   "execution_count": null,
   "metadata": {},
   "outputs": [],
   "source": [
    "d_object = datetime.strptime(\"2021/06/27\", \"%Y/%m/%d\").date()\n",
    "print(d_object)"
   ]
  },
  {
   "cell_type": "markdown",
   "metadata": {},
   "source": [
    "#### String to time Object\n",
    "\n",
    "Also, you can use the datetime.time class to convert a string containing the time to a time object.\n",
    "\n",
    "- First, convert a string to a datetime object\n",
    "- Use datetime.time() function to extract only the time object from the datetime instance."
   ]
  },
  {
   "cell_type": "code",
   "execution_count": null,
   "metadata": {},
   "outputs": [],
   "source": [
    "from datetime import datetime\n",
    "\n",
    "# Convert string to datetime.time object\n",
    "time_obj = datetime.strptime(\"12/06/2021 09:15:32\", \"%d/%m/%Y %H:%M:%S\").time()\n",
    "print(time_obj)"
   ]
  },
  {
   "cell_type": "markdown",
   "metadata": {},
   "source": [
    "**Note:** If a string represents the time without date, use only %H/%M/%S format codes.\n",
    "    "
   ]
  },
  {
   "cell_type": "code",
   "execution_count": null,
   "metadata": {},
   "outputs": [],
   "source": [
    "t_object = datetime.strptime(\"11:45:23\", \"%H:%M:%S\").time()\n",
    "print(t_object)"
   ]
  },
  {
   "cell_type": "markdown",
   "metadata": {},
   "source": [
    "#### String to time Object using Time Module\n",
    "We can use the time module’s strptime() method to convert time in string format to a time object in time.struct_time format.\n",
    "\n",
    "**Syntax**\n",
    "\n",
    "$time.strptime(string[,format])$"
   ]
  },
  {
   "cell_type": "code",
   "execution_count": null,
   "metadata": {},
   "outputs": [],
   "source": [
    "import time\n",
    "\n",
    "# time hours-minutes-seconds format\n",
    "time_string = \"09-15-09\"\n",
    "format_codes = \"%H-%M-%S\"\n",
    "\n",
    "time_obj = time.strptime(time_string, format_codes)\n",
    "print(\"Time Object\", time_obj)\n",
    "print(type(time_obj))"
   ]
  },
  {
   "cell_type": "markdown",
   "metadata": {},
   "source": [
    "#### strptime() Date Format Codes\n",
    "Dates have a default representation, but you may want to print them in a specific format. In that case, you can get a custom string representation using the different format codes\n",
    "\n",
    "The strptime() uses some standard directives to represent a datetime in a string format. The same set of directives are shared between both the strptime() and strftime() methods.\n",
    "\n",
    "Below are the character codes to format the date and time:-\n",
    "\n",
    "|Directive | Description |\n",
    "| --- | --- |\n",
    "| %d |Day of the month as a zero-padded decimal number. |\n",
    "|%m|Month of the year as a zero-padded decimal number.|\n",
    "|%Y|A year with a century in four-digit format|\n",
    "|%y|A year without a century in two-digit format|\n",
    "|%A|Full name of a weekday as per the locale’s name|\n",
    "|%a|Short name of a weekday as the locale’s abbreviated|\n",
    "|%B|Full name of a month as per the locale’s name|\t\n",
    "|%b|Short name of a month as the locale’s abbreviated name.|\t\n",
    "|%H|Hour (24-hour clock) as a zero-padded decimal number.|\n",
    "|%I|Hour (12-hour clock) as a zero-padded decimal number.\t|\n",
    "|%p|Locale’s equivalent of either AM or PM.\t|\n",
    "|%M|Minute as a zero-padded decimal number.|\n",
    "|%S|Second as a zero-padded decimal number.|\n",
    "|%f|Microsecond as a decimal number, zero-padded on the left.|\t\n",
    "|%z|UTC offset in the form ±HHMM[SS[.ffffff]] (empty string if the object is naive).|\t\n",
    "|%Z|Time zone name (empty string if the object is naive).|\n",
    "|%j|Day of the year as a zero-padded decimal number.|\t\n",
    "|%U|Week number of the year (Sunday as the first day of the week) as a zero-padded decimal number. All days in a new year preceding the first Sunday are considered to|\n",
    "|%W|Week number of the year (Monday as the first day of the week) as a decimal number. All days in a new year preceding the first Monday are considered to be in week 0.|\n",
    "|%c|\tLocale’s appropriate date and time representation.|\n",
    "|%x|Locale’s appropriate date representation.|\n",
    "|%X|Locale’s appropriate time representation.|\n",
    "|%%|\tA literal '%' character.|"
   ]
  },
  {
   "cell_type": "markdown",
   "metadata": {},
   "source": [
    "#### String with Day and Month Name to Datetime\n",
    "We can parse a string with full or abbreviated weekday and full or abbreviated month names to a datetime object using the following format codes.\n",
    "\n",
    "- %A: Returns the full name of the weekday. Like, Monday, Tuesday\n",
    "- %a: Returns the short name of the weekday (First three character.). Like, Mon, Tue\n",
    "- %B: Returns the full name of the month. Like, June, March\n",
    "- %b: Returns the short name of the month (First three character.). Like, Mar, Jun\n"
   ]
  },
  {
   "cell_type": "code",
   "execution_count": null,
   "metadata": {},
   "outputs": [],
   "source": [
    "from datetime import datetime\n",
    "\n",
    "# String with full day and month name\n",
    "date_str = \"Wednesday,16 March,2022 19:19:45\"\n",
    "\n",
    "# %A is to parse weekday and %B to parse month name\n",
    "dt_obj = datetime.strptime(date_str, \"%A,%d %B,%Y %H:%M:%S\")\n",
    "print(\"Date Object:\", dt_obj)"
   ]
  },
  {
   "cell_type": "code",
   "execution_count": null,
   "metadata": {},
   "outputs": [],
   "source": [
    "#String with abbreviated Day and Month Names\n",
    "\n",
    "from datetime import datetime\n",
    "\n",
    "# String with full day and month name\n",
    "date_str = \"Wed,16 Mar,22\"\n",
    "\n",
    "# %a is to parse short weekday and %b to parse short month name\n",
    "dt_obj = datetime.strptime(date_str, \"%a,%d %b,%y\")\n",
    "print(\"Date Object:\", dt_obj)"
   ]
  },
  {
   "cell_type": "markdown",
   "metadata": {},
   "source": [
    "#### Parse String with AM/PM to a Datetime\n",
    "We can parse a string with AM/PM details to a datetime object using the format directive %p.\n",
    "\n"
   ]
  },
  {
   "cell_type": "code",
   "execution_count": null,
   "metadata": {},
   "outputs": [],
   "source": [
    "from datetime import datetime\n",
    "\n",
    "# String with Am Pm\n",
    "date_str = \"16-Mar-2022 09.15 AM\"\n",
    "\n",
    "# %p is to parse Am/Pm\n",
    "dt_obj = datetime.strptime(date_str, \"%d-%b-%Y %I.%M %p\")\n",
    "print(\"DateTime Object:\", dt_obj)"
   ]
  },
  {
   "cell_type": "code",
   "execution_count": null,
   "metadata": {},
   "outputs": [],
   "source": [
    "date_string = '2022-03-16'\n",
    "\n",
    "# Create date object in given time format yyyy-mm-dd\n",
    "my_date = datetime.strptime(date_string, \"%Y-%m-%d\")\n",
    "\n",
    "print(my_date)\n",
    "print('Type: ',type(my_date))"
   ]
  },
  {
   "cell_type": "markdown",
   "metadata": {},
   "source": [
    "Note that *strptime()* took two arguments: the string (date_string) and \"%Y-%m-%d\", another string that tells *strptime()* how to interpret the input string my_string. *%Y*, for example, tells it to expect the first four characters of the string to be the year. The various patterns are available in the documenation . \n",
    "https://docs.python.org/2/library/datetime.html#\n",
    "\n",
    "We want to separate out specific elements of the date for our analysis. One way can do that using the built-in class attributes of a datetime object, like .month or .year:\n"
   ]
  },
  {
   "cell_type": "markdown",
   "metadata": {},
   "source": [
    "#### Formatting Dates: More on strftime() and strptime()\n",
    "\n",
    "Let's take a closer look at *strftime()* and *strptime()*, as they’re often important for data analysis.\n",
    "\n",
    "*strptime()* is the method can turn a date and time that’s formatted as a text string into a datetime object, in the following format:\n",
    "\n",
    "time.strptime(string, format)\n",
    "\n",
    "Note that it takes two arguments:\n",
    "\n",
    "- string − the time in string format that we want to convert\n",
    "\n",
    "- format − the specific formatting of the time in the string, so that strptime() can parse it correctly\n",
    "\n",
    "\n",
    "https://strftime.org/ is a useful reference for finding the formatting codes needed.   \n",
    "\n",
    "\n",
    "With the help of \"Strftime\" function we can also retrieve local system time, date or both.\n",
    "\n",
    "1. %C- indicates the local date and time\n",
    "2. %x- indicates the local date\n",
    "3. %X- indicates the local time"
   ]
  },
  {
   "cell_type": "code",
   "execution_count": null,
   "metadata": {},
   "outputs": [],
   "source": [
    "date_string = \"1, April, 2020\"\n",
    "\n",
    "# format date\n",
    "date_object = datetime.strptime(date_string, \"%d, %B, %Y\")\n",
    "\n",
    "print(\"date_object: \", date_object)"
   ]
  },
  {
   "cell_type": "markdown",
   "metadata": {},
   "source": [
    "Now let’s do something a bit more advanced to practice everything we’ve learned so far! We’ll start with a date in string format, convert it to a datetime object, and look at a couple different ways of formatting it (dd/mm and mm/dd)."
   ]
  },
  {
   "cell_type": "code",
   "execution_count": null,
   "metadata": {},
   "outputs": [],
   "source": [
    "dt_string = \"04/05/2020 09:15:30\"\n",
    "\n",
    "# Considering date is in dd/mm/yyyy format\n",
    "date_obj1 = datetime.strptime(dt_string, \"%d/%m/%Y %H:%M:%S\")\n",
    "print(\"date_object1:\", date_obj1)\n",
    "\n",
    "# Considering date is in mm/dd/yyyy format\n",
    "date_obj2 = datetime.strptime(dt_string, \"%m/%d/%Y %H:%M:%S\")\n",
    "print(\"date_object2:\", date_obj2)\n",
    "\n",
    "# Convert dt_object1 to Unix Timestamp\n",
    "timestamp = datetime.timestamp(date_obj2)\n",
    "print('Unix Timestamp: ', timestamp)\n",
    "\n",
    "\n",
    "# Convert back into datetime\n",
    "date_time = datetime.fromtimestamp(timestamp)\n",
    "d = date_time.strftime(\"%c\")# local date and time \n",
    "print(\"Output 1:\", d)\n",
    "d = date_time.strftime(\"%x\")   # Local date\n",
    "print(\"Output 2:\", d)\n",
    "d = date_time.strftime(\"%X\")   # local time \n",
    "print(\"Output 3:\", d)\n",
    "\n",
    "\n",
    "# The \"strftime function\" allows you to call the time in any \n",
    "# format 24 hours or 12 hours.\n",
    "\n",
    "print(date_obj1.strftime(\"%H:%M\"))   # 24- hour-Minute\n",
    "print(date_obj1.strftime(\"%I:%M:%S %p\"))  # 12-Hour-Minute-Seconds"
   ]
  },
  {
   "cell_type": "markdown",
   "metadata": {},
   "source": [
    "Let's get some more examples\n"
   ]
  },
  {
   "cell_type": "code",
   "execution_count": null,
   "metadata": {},
   "outputs": [],
   "source": [
    "# current date and time\n",
    "now = datetime.now()\n",
    "\n",
    "# get year from date\n",
    "year = now.strftime(\"%Y\")\n",
    "print(\"Year:\", year)\n",
    "\n",
    "# get month from date\n",
    "month = now.strftime(\"%m\")\n",
    "print(\"Month;\", month)\n",
    "\n",
    "# get day from date\n",
    "day = now.strftime(\"%d\")\n",
    "print(\"Day:\", day)\n",
    "\n",
    "# format time in HH:MM:SS\n",
    "time = now.strftime(\"%H:%M:%S\")\n",
    "print(\"Time:\", time)\n",
    "\n",
    "# format date\n",
    "date_time = now.strftime(\"%m/%d/%Y, %H:%M:%S\")\n",
    "print(\"Date and Time:\",date_time)"
   ]
  },
  {
   "cell_type": "code",
   "execution_count": null,
   "metadata": {},
   "outputs": [],
   "source": [
    "print('Month: ', my_date.month) # To Get month from date\n",
    "print('Year: ', my_date.year) # To Get month from year"
   ]
  },
  {
   "cell_type": "markdown",
   "metadata": {},
   "source": [
    "#### Getting Day of the Month and Day of the Week from a Date"
   ]
  },
  {
   "cell_type": "code",
   "execution_count": null,
   "metadata": {},
   "outputs": [],
   "source": [
    "print('Day of Month:',my_date.day)\n",
    "\n",
    "# to get name of day(in number) from date\n",
    "print('Day of Week (number): ', my_date.weekday())"
   ]
  },
  {
   "cell_type": "markdown",
   "metadata": {},
   "source": [
    "As  we see *Datetime* gives us the day of the week as a number using its *.weekday()* function, but this can be converted to a text format (i.e. Monday, Tuesday, Wednesday…) using the *calendar* module and a method called *day_name*"
   ]
  },
  {
   "cell_type": "code",
   "execution_count": null,
   "metadata": {},
   "outputs": [],
   "source": [
    "import calendar\n",
    "\n",
    "# to get name of day from date\n",
    "print('Day of Week (name): ', calendar.day_name[my_date.weekday()])"
   ]
  },
  {
   "cell_type": "markdown",
   "metadata": {},
   "source": [
    "**Note:** Python starts weeks on Monday and counts from the index 0 rather than starting at 1. So it makes sense that the number 6 is converted to “Sunday” as we saw above."
   ]
  },
  {
   "cell_type": "markdown",
   "metadata": {},
   "source": [
    "#### Getting Hours and Minutes "
   ]
  },
  {
   "cell_type": "code",
   "execution_count": null,
   "metadata": {},
   "outputs": [],
   "source": [
    "print('Hour:', my_date.hour)\n",
    "\n",
    "print('Minute:', my_date.minute)"
   ]
  },
  {
   "cell_type": "markdown",
   "metadata": {},
   "source": [
    "#### Getting Week of the Year\n",
    "We can get the year, week of the year, and day of the week from a datetime object with the .isocalendar() function. Specifically, isocalendar() returns a tuple with ISO year, week number and weekday"
   ]
  },
  {
   "cell_type": "code",
   "execution_count": null,
   "metadata": {},
   "outputs": [],
   "source": [
    "my_date.isocalendar()"
   ]
  },
  {
   "cell_type": "markdown",
   "metadata": {},
   "source": [
    "**Note** in the ISO calendar, the week starts counting from 1, so here 7 represents the correct day of the week: Sunday.\n",
    "\n",
    "\n",
    "Let us get week of year from the above"
   ]
  },
  {
   "cell_type": "code",
   "execution_count": null,
   "metadata": {},
   "outputs": [],
   "source": [
    "my_date.isocalendar()[1]"
   ]
  },
  {
   "cell_type": "markdown",
   "metadata": {},
   "source": [
    "#### Timestamp \n",
    "\n",
    "A timestamp is encoded information generally used in UNIX, which indicates the date and time at which a particular event has occurred. This information could be accurate to the microseconds. It is a POSIX timestamp corresponding to the datetime instance.\n",
    "\n",
    "The reason we are using the UNIX epoch time as 1 January 1970 is because of the fact that UNIX came into business around that time frame."
   ]
  },
  {
   "cell_type": "markdown",
   "metadata": {},
   "source": [
    "#### Get Current Timestamp\n",
    "\n",
    "To get the current timestamp in Python, use any of the following three modules.\n",
    "\n",
    "- datetime\n",
    "- time\n",
    "- calendar"
   ]
  },
  {
   "cell_type": "code",
   "execution_count": null,
   "metadata": {},
   "outputs": [],
   "source": [
    "from datetime import datetime\n",
    "\n",
    "# Getting the current date and time\n",
    "dt = datetime.now()\n",
    "\n",
    "# getting the timestamp\n",
    "ts = datetime.timestamp(dt)\n",
    "\n",
    "print(\"Date and time is:\", dt)\n",
    "print(\"Timestamp is:\", ts)"
   ]
  },
  {
   "cell_type": "markdown",
   "metadata": {},
   "source": [
    "#### Converting a Date Object into Unix Timestamp and Vice Versa"
   ]
  },
  {
   "cell_type": "code",
   "execution_count": null,
   "metadata": {},
   "outputs": [],
   "source": [
    "timestamp = datetime.timestamp(todays_date)\n",
    "\n",
    "print(\"Date and Time :\", todays_date)\n",
    "print(\"Timestamp:\", timestamp)"
   ]
  },
  {
   "cell_type": "markdown",
   "metadata": {},
   "source": [
    "#### Converting a Timestamp to Date "
   ]
  },
  {
   "cell_type": "code",
   "execution_count": null,
   "metadata": {},
   "outputs": [],
   "source": [
    "#convert timestamp to datetime object\n",
    "date_object = datetime.fromtimestamp(timestamp)\n",
    "\n",
    "print(\"date_object:\", date_object)\n",
    "print(\"type(dt_object): \", type(date_object))"
   ]
  },
  {
   "cell_type": "markdown",
   "metadata": {},
   "source": [
    "#### Convert Timestamp to String\n",
    "We can convert the timestamp string using the datetime formatting.\n",
    "\n",
    "- First, convert the timestamp to a datetime instance.\n",
    "- Next, use the strftime() with formatting codes to convert timestamp to string format\n",
    "\n",
    "It returns the local date and time corresponding to the POSIX timestamp, such as is returned by time.time().\n",
    "\n",
    "If optional argument tz is None or not specified, the timestamp is converted to the platform’s local date and time, and the returned datetime object is naive."
   ]
  },
  {
   "cell_type": "code",
   "execution_count": null,
   "metadata": {},
   "outputs": [],
   "source": [
    "from datetime import datetime\n",
    "\n",
    "timestamp = 1625309675.37865\n",
    "# convert to datetime\n",
    "date_time = datetime.fromtimestamp(timestamp)\n",
    "\n",
    "# convert timestamp to string in dd-mm-yyyy HH:MM:SS\n",
    "str_date_time = date_time.strftime(\"%d-%m-%Y, %H:%M:%S\")\n",
    "print(\"Result 1:\", str_date_time)\n",
    "\n",
    "# convert timestamp to string in dd month_name, yyyy format\n",
    "str_date = date_time.strftime(\"%d %B, %Y\")\n",
    "print(\"Result 2:\", str_date)\n",
    "\n",
    "# convert timestamp in HH:AM/PM MM:SS\n",
    "str_time = date_time.strftime(\"%I%p %M:%S\")\n",
    "print(\"Result 3:\", str_time)"
   ]
  },
  {
   "cell_type": "markdown",
   "metadata": {},
   "source": [
    "#### Measuring Time Span with Timedelta Objects\n",
    "\n",
    "Often, we may want to measure a span of time, or a duration, using Python datetime. We can do this with its built-in timedelta class. \n",
    "\n",
    "A timedelta represents a duration which is the difference between two dates, time, or datetime instances, to the microsecond resolution.\n",
    "\n",
    "We can use this to measure time spans, or manipulate dates or times by adding and subtracting from them, etc.\n",
    "\n",
    "https://docs.python.org/2/library/datetime.html#timedelta-objects\n",
    "\n"
   ]
  },
  {
   "cell_type": "markdown",
   "metadata": {},
   "source": [
    "#### Calculate the difference between two dates "
   ]
  },
  {
   "cell_type": "code",
   "execution_count": null,
   "metadata": {},
   "outputs": [],
   "source": [
    "from datetime import datetime\n",
    "\n",
    "# given datetime\n",
    "current_date = datetime.now()\n",
    "\n",
    "x_date_time = datetime(year=2022, month=3, day=10, hour=12, minute=30)\n",
    "\n",
    "# Difference between two dates\n",
    "# Get timedelta\n",
    "timedelta = current_date - x_date_time\n",
    "print(current_date)\n",
    "print(x_date_time)\n",
    "print(timedelta)\n",
    "print(type(timedelta))"
   ]
  },
  {
   "cell_type": "markdown",
   "metadata": {},
   "source": [
    "#### Calculate Future Datetime\n",
    "\n",
    "Let’s see how to use timedelta class to calculate future dates by adding four weeks to a given date."
   ]
  },
  {
   "cell_type": "code",
   "execution_count": null,
   "metadata": {},
   "outputs": [],
   "source": [
    "from datetime import datetime, timedelta\n",
    "\n",
    "current_date = datetime.now()\n",
    "print('Given Date:', current_date)\n",
    "\n",
    "# add 4 weeks in given date\n",
    "new_date = current_date + timedelta(weeks=4)\n",
    "print('Future Date:', new_date)"
   ]
  },
  {
   "cell_type": "markdown",
   "metadata": {},
   "source": [
    "#### TimeDelta Object\n",
    "The timedelta object has seven arguments: days, seconds, minutes, hours, weeks, milliseconds, and microseconds.\n",
    "\n",
    "- All seven arguments are optional, and the default value is 0.\n",
    "- We can give either integer or float values to these arguments.\n",
    "Use any of the above arguments to calculate past and future dates from a given date.\n",
    "\n",
    "Create a timedelta object in Python using the following method. It returns a timedetlta object"
   ]
  },
  {
   "cell_type": "code",
   "execution_count": null,
   "metadata": {},
   "outputs": [],
   "source": [
    "datetime.timedelta(days=0, seconds=0, microseconds=0, milliseconds=0, minutes=0, hours=0, weeks=0)\n"
   ]
  },
  {
   "cell_type": "code",
   "execution_count": null,
   "metadata": {},
   "outputs": [],
   "source": [
    "from datetime import timedelta\n",
    "\n",
    "# create timedelta\n",
    "sample_timedelta = timedelta(\n",
    "    days=45,\n",
    "    seconds=5,\n",
    "    microseconds=2,\n",
    "    milliseconds=1500,\n",
    "    minutes=10,\n",
    "    hours=22,\n",
    "    weeks=2\n",
    ")\n",
    "\n",
    "# all values will be changed to seconds, microseconds and days\n",
    "print(sample_timedelta)\n",
    "print(type(sample_timedelta))"
   ]
  },
  {
   "cell_type": "markdown",
   "metadata": {},
   "source": [
    "#### TimeDelta Attributes\n",
    "We can access each attribute from the timedelta object. Below table shows all 6 attributes and their meaning.\n",
    "\n",
    "These attributes are helpful when we calculate the difference between two dates using timedelta. We can access an individual difference, like the difference between two dates in seconds or minutes, or days.\n",
    "\n",
    "|Attribute|Meaning|\n",
    "|----|----|\n",
    "|timedelta.days|\tReturns days from timedelta|\n",
    "|timedelta.microseconds|\tReturns microseconds from timedelta|\n",
    "|timedelta.seconds|\tReturns seconds from timedelta|\n",
    "|timedelta.max|\tReturns the maximum positive timedelta value, it will be |datetime.timedelta(999999999, 86399, 999999)|\n",
    "|timedelta.min|\tReturns the most negative timedelta value and its value is |datetime.timedelta(-999999999)|\n",
    "|timedelta.resolution|\tThe smallest possible difference between two nonequal time delta objects is 1 microsecond.|\n",
    "|timedelta.total_seconds()|\tReturns total seconds in the duration|\n"
   ]
  },
  {
   "cell_type": "code",
   "execution_count": null,
   "metadata": {},
   "outputs": [],
   "source": [
    "from datetime import datetime\n",
    "\n",
    "d1 = datetime(year=2021, month=3, day=17, hour=12, minute=30)\n",
    "d2 = datetime(year=2022, month=1, day=12, hour=18, minute=15)\n",
    "\n",
    "# Get timedelta by subtracting two dates\n",
    "td = d2 - d1\n",
    "\n",
    "# access timedelta attributes\n",
    "print(\"Days:\", td.days)\n",
    "print(\"Microseconds:\", td.microseconds)\n",
    "print(\"seconds:\", td.seconds)\n",
    "print(\"Max:\", td.max)\n",
    "print(\"Min:\", td.min)\n",
    "print(\"Resolution:\", td.resolution)\n",
    "print(\"Total Seconds:\", td.total_seconds())"
   ]
  },
  {
   "cell_type": "markdown",
   "metadata": {},
   "source": [
    "#### TimeDelta with Weeks\n",
    "We can use the week attribute of the timedelta class to add or subtract weeks from a given date to compute future and past dates in Python.\n",
    "\n"
   ]
  },
  {
   "cell_type": "code",
   "execution_count": null,
   "metadata": {},
   "outputs": [],
   "source": [
    "from datetime import datetime, timedelta\n",
    "\n",
    "current_date = datetime.now()\n",
    "print(\"Current Date and Time : \", current_date)\n",
    "\n",
    "# Subtracting 6 weeks\n",
    "past_date = current_date - timedelta(weeks=6)\n",
    "print(\"Past Date: \", past_date)\n",
    "\n",
    "# Adding 2 weeks\n",
    "future_date = current_date - timedelta(weeks=2)\n",
    "print(\"Future Date : \", future_date)"
   ]
  },
  {
   "cell_type": "markdown",
   "metadata": {},
   "source": [
    "#### Time Delta with Seconds and MicroSeconds\n",
    "Use the seconds and milliseconds attribute of a timedelta object to compute the time before or after a few seconds/milliseconds."
   ]
  },
  {
   "cell_type": "code",
   "execution_count": null,
   "metadata": {},
   "outputs": [],
   "source": [
    "from datetime import datetime, timedelta\n",
    "\n",
    "current_date = datetime.now()\n",
    "print(\"Current Date and Time : \", current_date)\n",
    "\n",
    "# add 60 seconds\n",
    "future_date = current_date + timedelta(seconds=6)\n",
    "print(\"60 seconds After: \", future_date)\n",
    "\n",
    "# subtract 500 milliseconds\n",
    "past_date = current_date - timedelta(milliseconds=500)\n",
    "print(\"500 Milliseconds Before: \", past_date)"
   ]
  },
  {
   "cell_type": "markdown",
   "metadata": {},
   "source": [
    "#### TimeDelta to Seconds\n",
    "\n",
    "A time delta object instance has a method called total_seconds() to calculate the total number of seconds in duration.\n",
    "\n",
    "This returns a floating-point value of total seconds, up to microseconds accuracy. But for larger intervals like 270 years, this method loses the microsecond accuracy.\n",
    "\n",
    "So this method is most commonly used to convert a timedelta object to a floating-point number."
   ]
  },
  {
   "cell_type": "code",
   "execution_count": null,
   "metadata": {},
   "outputs": [],
   "source": [
    "from datetime import timedelta\n",
    "\n",
    "td = timedelta(minutes=10)\n",
    "print(\"Number of seconds in timedelta:\", td.total_seconds())\n",
    "\n",
    "# Output 300.0"
   ]
  },
  {
   "cell_type": "markdown",
   "metadata": {},
   "source": [
    "#### Time Delta with Days\n",
    "We can compute the future date and past dates by adding or subtracting the current date with a timedelta object by passing the desired number of days to timedelta object."
   ]
  },
  {
   "cell_type": "code",
   "execution_count": null,
   "metadata": {},
   "outputs": [],
   "source": [
    "from datetime import datetime, timedelta\n",
    "\n",
    "current_date = datetime.now()\n",
    "print(\"Current Date and Time : \", current_date)\n",
    "\n",
    "# add 100 days\n",
    "future_date = current_date + timedelta(days=100)\n",
    "print(\"Date 100 days later: \", future_date)\n",
    "\n",
    "# subtract 100 days\n",
    "past_date = current_date - timedelta(days=100)\n",
    "print(\"Date 100 days before: \", past_date)"
   ]
  },
  {
   "cell_type": "markdown",
   "metadata": {},
   "source": [
    "#### TimeDelta with Hours\n",
    "We can compute hours before or after the current time using the timedelta by mentioning the number of hours."
   ]
  },
  {
   "cell_type": "code",
   "execution_count": null,
   "metadata": {},
   "outputs": [],
   "source": [
    "from datetime import datetime, timedelta\n",
    "\n",
    "current_date = datetime.now()\n",
    "print(\"Current Time : \", current_date.time())\n",
    "\n",
    "# add 12 hours\n",
    "future_date = current_date + timedelta(hours=12)\n",
    "print(\"Date 12 hours later: \", future_date.time())\n",
    "\n",
    "# subtract 6 hours\n",
    "past_date = current_date - timedelta(hours=6)\n",
    "print(\"Date 12 hours before: \", past_date.time())"
   ]
  },
  {
   "cell_type": "markdown",
   "metadata": {},
   "source": [
    "#### Add or Subtract Two timedelta Objects.\n",
    "While finding the difference between two dates, we get timedelta objects consisting of days and seconds displayed separately. But sometimes, for further calculations, we need to add or subtract two timedelta objects.\n",
    "\n",
    "By subtracting we get the difference between two timedelta.\n",
    "\n",
    "For example, you want to fetch reports that are two weeks, two days, 12 hours, and 30 minutes old. And save the new report date, which is two weeks, one days, 11 hours, and 30 minutes away from a current date."
   ]
  },
  {
   "cell_type": "code",
   "execution_count": null,
   "metadata": {},
   "outputs": [],
   "source": [
    "from datetime import datetime, timedelta\n",
    "\n",
    "current_date = datetime.now()\n",
    "\n",
    "print(\"Current Date : \", current_date)\n",
    "print(\"Current Time : \", current_date.time())\n",
    "\n",
    "\n",
    "# create timedelta\n",
    "td1 = timedelta(weeks=3, days=5)\n",
    "td2 = timedelta(hours=10, minutes=40)\n",
    "\n",
    "# add two timedelta\n",
    "td = td1 + td2\n",
    "# add timedelta to current date\n",
    "future_date = current_date + td\n",
    "print(\"Future report date: \", future_date)\n",
    "\n",
    "# Subtract two timedelta\n",
    "td = td1 - td2\n",
    "# add timedelta to current date\n",
    "past_date = current_date - td\n",
    "print(\"Past report date: \", past_date)"
   ]
  },
  {
   "cell_type": "markdown",
   "metadata": {},
   "source": [
    "In addition to adding and subtracting two timedelta objects, we can perform the following operations with them.\n",
    "\n",
    "- Multiplying with a Floating point value: We can multiply a timedelta object with an integer or float, and the result is rounded to the nearest timedelta.resolution multiple.\n",
    "- Modulo Operation: Performing the modulo(%) operation with two timedelta objects, the remainder is computed as a timedelta object."
   ]
  },
  {
   "cell_type": "code",
   "execution_count": null,
   "metadata": {},
   "outputs": [],
   "source": [
    "from datetime import timedelta\n",
    "\n",
    "td1 = timedelta(days=340)\n",
    "\n",
    "# Time Delta multiplied with Floating Point Number\n",
    "td2 = 2 * td1\n",
    "print(td2)\n",
    "\n",
    "\n",
    "# Modulo Operation on timedelta\n",
    "td3 = td2 % td1\n",
    "print(td3)\n"
   ]
  },
  {
   "cell_type": "markdown",
   "metadata": {},
   "source": [
    "Compare two TimeDelta\n",
    "Use the relational operators to comparing two timedelta objects.\n",
    "\n",
    "- The == or != operator always returns a boolean even if we compare a timedelta object with an integer.\n",
    "- You will get a TypeError: '>' not supported between instances of 'datetime.timedelta' and 'int' if we try to compare a timedelta object to an object of another type."
   ]
  },
  {
   "cell_type": "code",
   "execution_count": null,
   "metadata": {},
   "outputs": [],
   "source": [
    "from datetime import timedelta\n",
    "\n",
    "# Creating two timedelta objects\n",
    "d1 = timedelta(hours=57)\n",
    "d2 = timedelta(hours=25, seconds=2)\n",
    "\n",
    "# not equal check\n",
    "print(d2 != d1)  # True\n",
    "\n",
    "# check if timedelta are same\n",
    "print(d2 == 25)  # False\n",
    "\n",
    "d1 = timedelta(hours=57)\n",
    "d2 = timedelta(hours=25)"
   ]
  },
  {
   "cell_type": "markdown",
   "metadata": {},
   "source": [
    "#### Formatting a Timedelta\n",
    "After computing the future or past durations using the timedelta, we can use the date formatting strftime() function to display the timedelta e in the desired format.\n",
    "\n"
   ]
  },
  {
   "cell_type": "code",
   "execution_count": null,
   "metadata": {},
   "outputs": [],
   "source": [
    "from datetime import datetime, timedelta\n",
    "\n",
    "present_date = datetime.now()\n",
    "print(\"Present Date:\", str(present_date))\n",
    "\n",
    "# add timedelta to date\n",
    "# add 20 days\n",
    "month_later = present_date + timedelta(days=20)\n",
    "\n",
    "# format datetime in dd/mm/yyyy HH:MM:SS AM/PM\n",
    "print(\"Formatted DateTime:\", month_later.strftime('%Y/%m/%d %H:%M:%S %p'))"
   ]
  },
  {
   "cell_type": "code",
   "execution_count": null,
   "metadata": {},
   "outputs": [],
   "source": [
    "#import datetime\n",
    "from datetime import timedelta\n",
    "\n",
    "# create timedelta object with difference of 2 weeks\n",
    "d = timedelta(weeks=2)\n",
    "\n",
    "print(d)\n",
    "print(type(d))\n",
    "print(d.days)"
   ]
  },
  {
   "cell_type": "markdown",
   "metadata": {},
   "source": [
    "Note that we can get our time duration in days by using the timedelta class attribute .days. As we can see in its documentation, we can also get this time duration in seconds or microseconds."
   ]
  },
  {
   "cell_type": "code",
   "execution_count": null,
   "metadata": {},
   "outputs": [],
   "source": [
    "year = timedelta(days=365)\n",
    "print(year)"
   ]
  },
  {
   "cell_type": "markdown",
   "metadata": {},
   "source": [
    "let’s do some math using *timedelta* objects together with *datetime*objects! Specifically, let’s add a few diffeent time durations to the current time and date to see what date it will be after few days say 10 days, what date it was one week ago.\n",
    "\n",
    "To do this, we can use the + or - operators to add or subtract the timedelta object to/from a *datetime* object. The result will be the datetime object plus or minus the duration of time specified in our timedelta object. Cool, right?"
   ]
  },
  {
   "cell_type": "code",
   "execution_count": null,
   "metadata": {},
   "outputs": [],
   "source": [
    "#import datetime\n",
    "from datetime import datetime, timedelta\n",
    "\n",
    "# get current time\n",
    "today_date = datetime.now()\n",
    "print (\"Today's date: \", str(today_date))\n",
    "\n",
    "\n",
    "#add 15 days to current date\n",
    "future_date_after_10days = today_date + timedelta(days = 10)\n",
    "print('Date after 10 days: ', future_date_after_10days)\n",
    "\n",
    "#subtract 1 week from current date\n",
    "one_week_ago = today_date - timedelta(weeks = 1)\n",
    "print('Date one week ago: ', one_week_ago)\n",
    "print('one_week_ago object type: ', type(one_week_ago))"
   ]
  },
  {
   "cell_type": "code",
   "execution_count": null,
   "metadata": {},
   "outputs": [],
   "source": [
    "#bDtermine how many days past the New year\n",
    "today_date = datetime.now()\n",
    "newyear_date = datetime(today_date.year,1,1)\n",
    "if (newyear_date <today_date):\n",
    "    print(\"New year day is already sent by %d dasy ago\", ((today_date-newyear_date).days))"
   ]
  },
  {
   "cell_type": "markdown",
   "metadata": {},
   "source": [
    "#### Find the Difference Between Two Dates and Times\n",
    "\n",
    "Similar to what we did above, we can also subtract one date from another date to find the timespan between them using datetime.\n",
    "\n",
    "Because the result of this math is a duration, the object produced when we subtract one date from another will be a timedelta object."
   ]
  },
  {
   "cell_type": "code",
   "execution_count": null,
   "metadata": {},
   "outputs": [],
   "source": [
    "date1 = datetime.now()\n",
    "#date2 = date1+timedelta(days =10)\n",
    "\n",
    "date2 = datetime(2020, 5, 16)\n",
    "# Difference between two dates\n",
    "delta = date2 - date1\n",
    "\n",
    "\n",
    "print(\"Difference: \", delta)\n",
    "print(\"Difference: \", delta.days, \"days\")\n",
    "print('delta object type: ', type(delta))\n"
   ]
  },
  {
   "cell_type": "markdown",
   "metadata": {},
   "source": [
    "#### Working with TimeZones\n",
    "\n",
    "A time zone represents the standardized time depending on which part of the world is being considered.\n",
    "\n",
    "In simple terms, timezone refers to the local time of a region. UTC (Coordinated Universal Time) is the astronomical time based on earth’s rotation, is the standard against which the world’s region-based time is coordinated.\n",
    "Python provides the datetime.tzinfo abstract base class which provides methods to handle timezone. But this class is an abstract base class and should not be instantiated directly. We need to define a subclass of tzinfo to capture information about a particular time zone.\n",
    "\n",
    "The pytz library has implemented a timezone class for handling arbitrary fixed offsets from UTC and timezones. This library allows accurate and cross-platform timezone calculations and also solves the issue of ambiguous times at the end of daylight saving time.\n",
    "\n",
    "pytz is a concrete implementation of the abstract base class tzinfo and is used to create timezone-aware datetime objects.\n",
    "\n",
    "For example, The datetime.now() function returns the current local date-time without any timezone information. Using the pytz library, we can pass the timezone name to this function to get the current datetime in the given timezone.\n",
    "\n",
    "We’ll use the following attributes and methods of the pytz module to work with timezone in Python.\n",
    "\n",
    "- pytz.utc: Get the standard UTC timezone\n",
    "- pytz.timezone('region'): Create the timezone object of a particular region\n",
    "- pytz.astimezone(): Convert the time of a particular time zone into another time zone\n",
    "\n"
   ]
  },
  {
   "cell_type": "code",
   "execution_count": null,
   "metadata": {},
   "outputs": [],
   "source": [
    "import pytz\n",
    "\n",
    "print('Timezones')\n",
    "for timeZone in pytz.all_timezones:\n",
    "    print(timeZone)"
   ]
  },
  {
   "cell_type": "markdown",
   "metadata": {},
   "source": [
    "There is another attribute that returns a set of timezones instead of a list."
   ]
  },
  {
   "cell_type": "code",
   "execution_count": null,
   "metadata": {},
   "outputs": [],
   "source": [
    "print('Timezones')\n",
    "for timeZone in pytz.all_timezones_set:\n",
    "    print(timeZone)"
   ]
  },
  {
   "cell_type": "markdown",
   "metadata": {},
   "source": [
    "#### Get Timezone of a Any Country\n",
    "Use the pytz.country_timezones['country_name'] attribute to get the timezone of any country.\n",
    "\n",
    "Let’s see how to get all the timezone of the united states."
   ]
  },
  {
   "cell_type": "code",
   "execution_count": null,
   "metadata": {},
   "outputs": [],
   "source": [
    "print('US TimeZones')\n",
    "for timeZone in pytz.country_timezones['US']:\n",
    "    print(timeZone)"
   ]
  },
  {
   "cell_type": "markdown",
   "metadata": {},
   "source": [
    "Note: Use pytz.country_names to get the all country names if you don’t know the exact name of the country."
   ]
  },
  {
   "cell_type": "code",
   "execution_count": null,
   "metadata": {},
   "outputs": [],
   "source": [
    "print('country Names with Code')\n",
    "for code, name in pytz.country_names.items():\n",
    "    print(code, ':', name)\n",
    "\n",
    "print('Country full name =', pytz.country_names['IN'])"
   ]
  },
  {
   "cell_type": "markdown",
   "metadata": {},
   "source": [
    "To make the old/existing datetime timezone aware, use the following code."
   ]
  },
  {
   "cell_type": "code",
   "execution_count": null,
   "metadata": {},
   "outputs": [],
   "source": [
    "from datetime import datetime\n",
    "import pytz\n",
    "\n",
    "unaware = datetime(2021, 6, 15, 8, 45, 17, 5)\n",
    "print('Timezone naive:', unaware)\n",
    "\n",
    "# Convert unaware Datetime to UTC timezone aware Datetime\n",
    "aware = unaware.replace(tzinfo=pytz.UTC)\n",
    "print(aware)"
   ]
  },
  {
   "cell_type": "code",
   "execution_count": null,
   "metadata": {},
   "outputs": [],
   "source": [
    "from datetime import datetime\n",
    "import pytz\n",
    "\n",
    "datetime_us_central = datetime.now(pytz.timezone('US/Central'))\n",
    "print(\"Formatted DateTime in IST : \", datetime_us_central.strftime('%Y:%m:%d %H:%M:%S %Z %z'))"
   ]
  },
  {
   "cell_type": "markdown",
   "metadata": {},
   "source": [
    "#### Create TimeZone Aware Datetime Object Using timezone class\n",
    "Let’s see how create a timezone aware datetime object without pytz.\n",
    "\n",
    "The datetime modules have the timezone class, which in turn is the subclass of the abstract base class tzinfo. Each instance created of the timezone class represents the offset of the timezone from the Coordinated Universal Time (UTC).\n",
    "\n",
    "We can create an UTC-aware datetime object by assigning the timezone.utc\n",
    "\n",
    "**Syntax**\n",
    "\n",
    "datetime.timezone(offset, name = None)\n",
    "\n",
    "Here offset represents the difference between the local time and the UTC (Coordinated Universal Time). It can be a time delta object ranging from hours=-24 to +24."
   ]
  },
  {
   "cell_type": "code",
   "execution_count": null,
   "metadata": {},
   "outputs": [],
   "source": [
    "from datetime import datetime, timezone, timedelta\n",
    "\n",
    "# naive\n",
    "naive = datetime.now()\n",
    "print(\"Naive DateTime:\", naive)\n",
    "\n",
    "# UTC aware\n",
    "UTC = datetime.now(timezone.utc)\n",
    "print(\"UTC DateTime\", UTC)\n",
    "\n",
    "# Creating a datetime with JST (Japan) TimeZone\n",
    "jst_dateTime = datetime.now(timezone(timedelta(hours=+9), 'JST'))\n",
    "print(\"In JST::\", jst_dateTime)"
   ]
  },
  {
   "cell_type": "markdown",
   "metadata": {},
   "source": [
    "**Note:** we are setting the UTC offset using the timedelta class timedelta(hours=+9)\n",
    "\n",
    "#### Get Current Time in Different Timezone\n",
    "Using the pytz module we can get the current date and time of any timezone.\n",
    "\n",
    "Syntax:\n",
    "datetime.now(pytz.timezone('timezone name'))"
   ]
  },
  {
   "cell_type": "code",
   "execution_count": null,
   "metadata": {},
   "outputs": [],
   "source": [
    "from datetime import datetime\n",
    "import pytz\n",
    "\n",
    "dt_us_central = datetime.now(pytz.timezone('America/Mexico_City'))\n",
    "print(\"US Central DateTime:\", dt_us_central.strftime(\"%Y:%m:%d %H:%M:%S %Z %z\"))\n",
    "\n",
    "dt_us_pacific = datetime.now(pytz.timezone('America/Tijuana'))\n",
    "print(\"US Pacific timezone DateTime:\", dt_us_pacific.strftime(\"%Y:%m:%d %H:%M:%S %Z %z\"))\n",
    "\n",
    "dt_us_eastern = datetime.now(pytz.timezone('America/New_York'))\n",
    "print(\"US Eastern timezone DateTime:\", dt_us_eastern.strftime(\"%Y:%m:%d %H:%M:%S %Z %z\"))\n",
    "\n",
    "dt_us_mountain = datetime.now(pytz.timezone('America/Chihuahua'))\n",
    "print(\"US Mountain timezone DateTime:\", dt_us_mountain.strftime(\"%Y:%m:%d %H:%M:%S %Z %z\"))"
   ]
  },
  {
   "cell_type": "markdown",
   "metadata": {},
   "source": [
    "#### Other TimeZones\n"
   ]
  },
  {
   "cell_type": "code",
   "execution_count": null,
   "metadata": {},
   "outputs": [],
   "source": [
    "from datetime import datetime\n",
    "import pytz\n",
    "\n",
    "dt_japan = datetime.now(pytz.timezone('Asia/Tokyo'))\n",
    "print(\"Japan DateTime:\", dt_japan.strftime(\"%Y:%m:%d %H:%M:%S %Z %z\"))\n",
    "\n",
    "dt_brazil = datetime.now(pytz.timezone('America/Sao_Paulo'))\n",
    "print(\"Brazil DateTime:\", dt_brazil.strftime(\"%Y:%m:%d %H:%M:%S %Z %z\"))\n",
    "\n",
    "dt_uk = datetime.now(pytz.timezone('Europe/London'))\n",
    "print(\"Uk DateTime:\", dt_uk.strftime(\"%Y:%m:%d %H:%M:%S %Z %z\"))\n",
    "\n",
    "dt_germany = datetime.now(pytz.timezone('Europe/Berlin'))\n",
    "print(\"Germany DateTime:\", dt_germany.strftime(\"%Y:%m:%d %H:%M:%S %Z %z\"))\n",
    "\n",
    "dt_aus = datetime.now(pytz.timezone('Australia/Canberra'))\n",
    "print(\"Australia Oceanic DateTime:\", dt_aus.strftime(\"%Y:%m:%d %H:%M:%S %Z %z\"))\n",
    "\n",
    "dt_africa = datetime.now(pytz.timezone('Africa/Maputo'))\n",
    "print(\"Central Africa: DateTime:\", dt_africa.strftime(\"%Y:%m:%d %H:%M:%S %Z %z\"))"
   ]
  },
  {
   "cell_type": "markdown",
   "metadata": {},
   "source": [
    "#### Get TimeZone Information Using tzinfo\n",
    "The datetime.tzinfo is an abstract base class containing information about the date or time object passed to them.\n",
    "\n",
    "The tzinfo generally contains the following information: –\n",
    "\n",
    "The time zone name of a Datetime\n",
    "Offset from the UTC (Coordinated Universal Time)\n",
    "The DST(Daylight saving).\n",
    "The tzinfo class provides the following method to get the timezone information: \n",
    "\n",
    "- tzinfo.tzname(dt): Returns the time zone name corresponding to the datetime object dt. This method returns the name that is used while creating the timezone object\n",
    "- tzinfo.utcoffset(dt): This method returns the total offset from the UTC which should be a timedelta object. The values of the timedelta is positive if it is east of UTC and negative for the west of UTC. The total offset includes both timezone and the DST(Day light savings) values. The range of the timedelta is therfore between -timedelta(hours=24) to timedelta(hours=24)\n",
    "- tzinfo.dst(dt): This method returns dst offset in the zones where dst is in effect. In other cases it will return only timedelta(0). The dst information is already part of the the utcoffset therefore the tz.utcoffset(dt) - tz.dst(dt) should return the standard offset of the timezone irrespective of the date and time but only on the geographic location."
   ]
  },
  {
   "cell_type": "code",
   "execution_count": null,
   "metadata": {},
   "outputs": [],
   "source": [
    "from datetime import datetime\n",
    "import pytz\n",
    "\n",
    "# timezone: US Central Time\n",
    "dt_us_central = datetime.now(pytz.timezone('America/Mexico_City'))\n",
    "print(\"US Central DateTime:\", dt_us_central.strftime(\"%Y:%m:%d %H:%M:%S %Z %z\"))\n",
    "\n",
    "# Get current TimeZone name\n",
    "print(dt_us_central.tzname())\n",
    "\n",
    "# Get UTC Offset\n",
    "print(dt_us_central.utcoffset())\n",
    "\n",
    "# Get the daylight saving time (DST offset) adjustment\n",
    "print(dt_us_central.dst())"
   ]
  },
  {
   "cell_type": "markdown",
   "metadata": {},
   "source": [
    "#### Converting Between Timezones\n",
    "Use the datetime.astimezone() method to convert the datetime from one timezone to another. This method uses an instance of the datetime object and returns a new datetime of a given timezone."
   ]
  },
  {
   "cell_type": "code",
   "execution_count": null,
   "metadata": {},
   "outputs": [],
   "source": [
    "import datetime\n",
    "import pytz\n",
    "\n",
    "# UTC timezone Datetime\n",
    "dt_local = datetime.datetime.now(pytz.utc)\n",
    "print(\"UTC DateTime:\", dt_local.strftime(\"%Y:%m:%d %H:%M:%S %Z %z\"))\n",
    "\n",
    "# convert UTC timezone to 'US/Central'\n",
    "dt_us_central = dt_local.astimezone(pytz.timezone('US/Central'))\n",
    "print(\"US Central DateTime:\", dt_us_central.strftime(\"%Y:%m:%d %H:%M:%S %Z %z\"))\n",
    "\n",
    "# Convert 'US/Central' timezone to US/Eastern\n",
    "dt_us_eastern = dt_us_central.astimezone(pytz.timezone('America/New_York'))\n",
    "print(\"US Eastern DateTime:\", dt_us_eastern.strftime(\"%Y:%m:%d %H:%M:%S %Z %z\"))\n",
    "\n",
    "# Convert US/Eastern timezone to IST (India) timezone\n",
    "dt_ind = dt_us_eastern.astimezone(pytz.timezone('Asia/Kolkata'))\n",
    "print(\"India DateTime:\", dt_ind.strftime(\"%Y:%m:%d %H:%M:%S %Z %z\"))"
   ]
  },
  {
   "cell_type": "markdown",
   "metadata": {},
   "source": [
    "#### Working with Local Timezones\n",
    "**Note:** To work with the timezone without any issues, it is recommended to use the UTC as your base timezone not a local time.\n",
    "\n",
    "As already mentioned, we can convert a naive datetime to an aware datetime instance with a timezone value set to a local standardized value.\n",
    "\n",
    "We can do it with one of the pytz methods called localize() .This method is used to convert a naive to local time. It accepts the two arguments, namely the datetime object to localize and an optional is_dst flag.\n",
    "\n",
    "This flag is set to true if we want to localize and the daylight saving information and false if we want only the standard offset time and false otherwise.\n",
    "\n",
    "As mentioned above the tzinfo has a method called dst() which will return the Daylight Saving Time(DST) information if the flag is set to true."
   ]
  },
  {
   "cell_type": "code",
   "execution_count": null,
   "metadata": {},
   "outputs": [],
   "source": [
    "from datetime import datetime\n",
    "\n",
    "import pytz\n",
    "\n",
    "fmt = '%Y-%m-%d %H:%M:%S %Z%z'\n",
    "\n",
    "# Indian Standard Time\n",
    "tz_india = pytz.timezone('Asia/Kolkata')\n",
    "ist_local = tz_india.localize(datetime.now())\n",
    "print(\"Indian Standard Time::\", ist_local.strftime(fmt))\n",
    "\n",
    "# Europe/Amsterdam Time\n",
    "amdam_tz = pytz.timezone('Europe/Amsterdam')\n",
    "dt = datetime(1983, 8, 3, 2, 0, 0)\n",
    "cest_local = amdam_tz.localize(dt, is_dst=True)\n",
    "print(\"Amsterdam with daylight saving time::\", cest_local.strftime(fmt))\n",
    "\n",
    "# Day Light Saving\n",
    "print(\"Daylight saving time in amsterdam on 3/8/83::\", cest_local.tzinfo.dst(cest_local))"
   ]
  },
  {
   "cell_type": "code",
   "execution_count": null,
   "metadata": {},
   "outputs": [],
   "source": []
  },
  {
   "cell_type": "code",
   "execution_count": null,
   "metadata": {},
   "outputs": [],
   "source": []
  },
  {
   "cell_type": "code",
   "execution_count": null,
   "metadata": {},
   "outputs": [],
   "source": []
  },
  {
   "cell_type": "code",
   "execution_count": null,
   "metadata": {},
   "outputs": [],
   "source": [
    "from datetime import datetime\n",
    "import pytz\n",
    "\n",
    "# current Datetime\n",
    "unaware = datetime.now()\n",
    "print('Timezone naive:', unaware)\n",
    "\n",
    "# Standard UTC timezone aware Datetime\n",
    "aware = datetime.now(pytz.utc)\n",
    "print('Timezone Aware:', aware)\n",
    "\n",
    "# US/Central timezone datetime\n",
    "aware_us_central = datetime.now(pytz.timezone('US/Central'))\n",
    "print('US Central DateTime', aware_us_central)"
   ]
  },
  {
   "cell_type": "code",
   "execution_count": null,
   "metadata": {},
   "outputs": [],
   "source": []
  },
  {
   "cell_type": "code",
   "execution_count": null,
   "metadata": {},
   "outputs": [],
   "source": []
  },
  {
   "cell_type": "code",
   "execution_count": null,
   "metadata": {},
   "outputs": [],
   "source": [
    "\n",
    "\n",
    "# Create timezone US/Eastern\n",
    "east = timezone('US/Pacific')\n",
    "# Localize date\n",
    "loc_dt = east.localize(datetime(2020, 4, 5, 7, 27, 0))\n",
    "print(loc_dt)\n",
    "\n",
    "\n",
    "tz_NY = pytz.timezone('America/New_York') \n",
    "datetime_NY = datetime.now(tz_NY)\n",
    "print(\"NY:\", datetime_NY.strftime(\"%m/%d/%Y, %H:%M:%S\"))\n",
    "\n",
    "tz_London = pytz.timezone('Europe/London')\n",
    "datetime_London = datetime.now(tz_London)\n",
    "print(\"London:\", datetime_London.strftime(\"%m/%d/%Y, %H:%M:%S\"))\n",
    "\n",
    "# Convert localized date into Asia/Kolkata timezone\n",
    "Kolkata = timezone(\"Asia/Kolkata\")\n",
    "print( \"KolKata:\", loc_dt.astimezone(Kolkata))\n"
   ]
  },
  {
   "cell_type": "markdown",
   "metadata": {},
   "source": [
    "#### Working with pandas Datetime Objects\n",
    "\n",
    "pandas has both *datetime* and *timedelta* objects for specifying dates and times and durations, respectively.\n",
    "\n",
    "We can convert date, time, and duration text strings into pandas Datetime objects using these functions:\n",
    "\n",
    "- **to_datetime():** Converts string dates and times into Python datetime objects.\n",
    "\n",
    "- **to_timedelta():** Finds differences in times in terms of days, hours, minutes, and seconds.\n",
    "\n",
    "\n",
    "pandas.to_datetime(arg, errors='raise', dayfirst=False, yearfirst=False, utc=None, box=True, format=None, exact=True, unit=None, infer_datetime_format=False, origin='unix', cache=True)\n",
    "\n",
    "\n",
    "I*mportant parameters* :\n",
    "\n",
    "- **arg** : Element to be converted to datetime type like int, float, string, datetime, list, tuple, 1-d array or Series.\n",
    "- **errors** : Way to handle error. It can be : {‘ignore’, ‘raise’, ‘coerce’}, default value is ‘raise’\n",
    "    - ‘raise’: In case of invalid parsing raise an exception\n",
    "    - 'coerce’: In case of invalid parsing set as NaT\n",
    "    - ‘ignore’: In case of invalid parsing return the input\n",
    "- **format** : string, default None\n",
    "    - Like we pass in strftime to parse date & time string in format eg “%d/%m/%Y” etc.\n",
    "\n",
    "\n",
    "*Returns* \n",
    "\n",
    "It Converts the given value to date time format and return value depends on the input, for example,\n",
    "\n",
    "- If a series of string is passed then it will return a series of datetime64 type.\n",
    "- If a scalar entity is passed then it returns a datetime64 object.\n",
    "\n",
    "Let's look at some examples:"
   ]
  },
  {
   "cell_type": "code",
   "execution_count": null,
   "metadata": {},
   "outputs": [],
   "source": [
    "# create date object using to_datetime() function\n",
    "date = pd.to_datetime(\"5th of apr, 2020\")\n",
    "print(date)"
   ]
  },
  {
   "cell_type": "markdown",
   "metadata": {},
   "source": [
    "We can also use pandas (and some of its affiliated numpy functionality) to create date ranges automatically as pandas Series. Below, for example, we create a series of twelve dates starting from the day we defined above. Then we create a different series of dates starting from a predefined date using pd.date_range():"
   ]
  },
  {
   "cell_type": "code",
   "execution_count": null,
   "metadata": {},
   "outputs": [],
   "source": [
    "# Create date series using numpy and to_timedelta() function\n",
    "date_series = date + pd.to_timedelta(np.arange(12), 'D')\n",
    "print(date_series)\n",
    "\n",
    "#  Create date series using date_range() function\n",
    "date_series = pd.date_range('04/05/2020', periods = 12, freq ='D')\n",
    "print(date_series)"
   ]
  },
  {
   "cell_type": "markdown",
   "metadata": {},
   "source": [
    "#### Get Year, Month, Day, Hour, Minute in pandas\n",
    "We can easily get year, month, day, hour, or minute from dates in a column of a pandas dataframe using dt attributes for all columns. For example, we can use df['date'].dt."
   ]
  },
  {
   "cell_type": "code",
   "execution_count": null,
   "metadata": {},
   "outputs": [],
   "source": [
    "# Create a DataFrame with one column date\n",
    "df = pd.DataFrame()\n",
    "df['date'] = date_series\n",
    "df.head()"
   ]
  },
  {
   "cell_type": "markdown",
   "metadata": {},
   "source": [
    "Now, let’s create separate columns for each element of the date by using the relevant Python datetime (accessed with dt) attributes:\n"
   ]
  },
  {
   "cell_type": "code",
   "execution_count": null,
   "metadata": {},
   "outputs": [],
   "source": [
    "# Extract year, month, day, hour, and minute. Assign all these date component to new column.\n",
    "df['year'] = df['date'].dt.year\n",
    "df['month'] = df['date'].dt.month\n",
    "df['day'] = df['date'].dt.day\n",
    "df['hour'] = df['date'].dt.hour\n",
    "df['minute'] = df['date'].dt.minute\n",
    "df.head()"
   ]
  },
  {
   "cell_type": "markdown",
   "metadata": {},
   "source": [
    "#### Get Weekday and Day of Year\n",
    "Pandas is also capable of getting other elements, like the day of the week and the day of the year, from its datetime objects. Again, we can use dt attributes to do this. Note that here, as in Python generally, the week starts on Monday at index 0, so day of the week 5 is Saturday."
   ]
  },
  {
   "cell_type": "code",
   "execution_count": null,
   "metadata": {},
   "outputs": [],
   "source": [
    "# get Weekday and Day of Year. Assign all these date component to new column.\n",
    "df['weekday'] = df['date'].dt.weekday\n",
    "df['day_name'] = df['date'].dt.weekday_name\n",
    "df['dayofyear'] = df['date'].dt.dayofyear\n",
    "df.head()"
   ]
  },
  {
   "cell_type": "code",
   "execution_count": null,
   "metadata": {},
   "outputs": [],
   "source": [
    "'''Convert the Data type of a column from string to datetime64'''\n",
    "\n",
    "empoyees = [('jack', '29/10/1988', 'Sydney', 155) ,\n",
    "            ('Riti', '23/11/1981', 'Delhi' , 177) ,\n",
    "            ('Aadi', '10/04/1982', 'Mumbai', 81) ,\n",
    "            ('Mohit', '21/05/1983','Delhi' , 167) ,\n",
    "            ('Veena', '16/08/1984', 'Delhi' , 144) ,\n",
    "            ('Shaunak', '07/09/1985', 'Mumbai', 135 ),\n",
    "            ('Shaun', '11/10/1998', 'Colombo', 111)\n",
    "           ]\n",
    " \n",
    "# Create a DataFrame object\n",
    "empDfObj = pd.DataFrame(empoyees, columns=['Name', 'DOB', 'City', 'Marks'])\n",
    " \n",
    "print(empDfObj,'\\n')\n",
    "\n",
    "\t\n",
    "print(empDfObj.dtypes)"
   ]
  },
  {
   "cell_type": "code",
   "execution_count": null,
   "metadata": {},
   "outputs": [],
   "source": [
    "'''Now to convert the data type of column ‘DOB’ to datetime64 we will use pandas.to_datetime()'''\n",
    "\n",
    "# Convert the data type of column 'DOB' from string (DD/MM/YYYY) to datetime64\n",
    "empDfObj['DOB'] = pd.to_datetime(empDfObj['DOB'])\n",
    "\n",
    "print(empDfObj,'\\n')\n",
    "\n",
    "\n",
    "'''  Lets check the data types of columns '''\n",
    "\n",
    "print(empDfObj.dtypes)\n",
    "\n",
    "'''pd.to_datetime() converts the date time strings in ISO8601 format to datetime64 type. \n",
    "Strings type that it can automatically handles are,\n",
    "\n",
    "‘DD-MM-YYYY HH:MM AM/PM’\n",
    "‘YYYY-MM-DDTHH:MM:SS’\n",
    "‘YYYY-MM-DDT HH:MM:SS.ssssss’\n",
    "etc.'''"
   ]
  },
  {
   "cell_type": "code",
   "execution_count": null,
   "metadata": {},
   "outputs": [],
   "source": [
    "'''Convert the Data type of a column from custom format string to datetime64\n",
    "\n",
    "There might be cases when our dataframe have columns which contains date & time column in custom formats like,\n",
    "DDMMYYYY\n",
    "DD–MM–YY\n",
    "\n",
    "To convert data type of column from these custom strings formats to datetime, we need to pass the \n",
    "format argument in pd.to_datetime(). \n",
    "Let’s see an example where we have column in dataframe which contains dates in custom string format i.e. DDMMYYYY,\n",
    "\n",
    "'''\n",
    "\n",
    "# List of Tuples\n",
    "empoyees = [('Shaunak', '07091985', 'Mumbai', 135),\n",
    "            ('Riti', '11101998', 'Colombo', 111)\n",
    "            ]\n",
    " \n",
    "# Create a DataFrame object\n",
    "empDfObj = pd.DataFrame(empoyees, columns=['Name', 'DOB', 'City', 'Marks'])\n",
    " \n",
    "print(empDfObj,'\\n')\n",
    "\n",
    "# Convert the data type of column 'DOB' from string of custom formats to datetime64\n",
    "empDfObj['DOB'] = pd.to_datetime(empDfObj['DOB'], format='%m%d%Y')\n",
    "\n",
    "print(empDfObj)\n"
   ]
  },
  {
   "cell_type": "code",
   "execution_count": null,
   "metadata": {},
   "outputs": [],
   "source": [
    "'''Convert the Data type of a column from string to datetime by extracting date & time strings from big string\n",
    "\n",
    "There might be scenarios when our column in dataframe contains some text and we need to fetch date & time from those texts like,\n",
    "\n",
    " date of birth is 07091985\n",
    " 11101998 is DOB\n",
    "\n",
    "To fetch datetime from this big text we need to pass exact argument in pd.to_dataframe(), if passed as False it will try to\n",
    "match the format anywhere in string. Let’s understand by an example,\n",
    "\n",
    "\n",
    "'''\n",
    "\n",
    "empoyees = [('Shaunak', 'date of birth is 07091985', 'Mumbai', 135),\n",
    "            ('Riti', '11101998 is DOB', 'Colombo', 111)\n",
    "            ]\n",
    " \n",
    "# Create a DataFrame object\n",
    "empDfObj = pd.DataFrame(empoyees, columns=['Name', 'DOB', 'City', 'Marks'])\n",
    " \n",
    "print(\"Contents of the Dataframe : \")\n",
    "print(empDfObj,'\\n')\n",
    "\n",
    "\n",
    "# extract the date & time from string in DOB column and convert type of column to datetime64\n",
    "empDfObj['DOB'] = pd.to_datetime(empDfObj['DOB'], format='%m%d%Y', exact=False)\n",
    "\n",
    "print(empDfObj,'\\n')\n",
    "\n",
    "'''Another Example : Extract date & time from big string in a column and add new columns of datetime64 format'''\n",
    "\n",
    "empoyees = [('Shaunak', '11:00 PM on the date 07091985', 'Mumbai', 135),\n",
    "            ('Riti', '11101998 and morining 8:00 AM', 'Colombo', 111)\n",
    "            ]\n",
    " \n",
    "# Create a DataFrame object\n",
    "empDfObj = pd.DataFrame(empoyees, columns=['Name', 'DOB', 'City', 'Marks'])\n",
    " \n",
    "print(\"Contents of the Dataframe : \")\n",
    "print(empDfObj)\n",
    "\n",
    "\n",
    "empDfObj['DOB_time'] = pd.to_datetime(empDfObj['DOB'], format='%H:%M %p', exact=False)\n",
    "empDfObj['DOB_date'] = pd.to_datetime(empDfObj['DOB'], format='%m%d%Y', exact=False)\n",
    " \n",
    "print('Modified dataframe :')\n",
    "print(empDfObj)"
   ]
  },
  {
   "cell_type": "code",
   "execution_count": null,
   "metadata": {},
   "outputs": [],
   "source": [
    "'''\n",
    "\n",
    "Handle error while Converting the Data type of a column from string to datetime\n",
    "To handle errors while converting data type of a column we can pass the errors arguments to \n",
    "customize the behavior i.e.\n",
    "\n",
    "‘raise’: In case of invalid parsing raise an exception\n",
    "‘coerce’: In case of invalid parsing set as NaT\n",
    "‘ignore’: In case of invalid parsing return the input\n",
    "\n",
    "'''\n",
    "\n",
    "empoyees = [('Shaunak', '07091985', 'Mumbai', 135),\n",
    "            ('Riti', '11101998', 'Colombo', 111)\n",
    "            ]\n",
    " \n",
    "# Create a DataFrame object\n",
    "empDfObj = pd.DataFrame(empoyees, columns=['Name', 'DOB', 'City', 'Marks'])\n",
    " \n",
    "print(\"Contents of the Dataframe : \")\n",
    "print(empDfObj)\n",
    " \n",
    "print('Data types of columns in original dataframe')\n",
    "print(empDfObj.dtypes)\n",
    " \n",
    "# Ignore errors while converting the type of column from string to datetime\n",
    "empDfObj['DOB'] = pd.to_datetime(empDfObj['DOB'], errors='ignore')\n",
    " \n",
    "print(\"Contents of the Dataframe : \")\n",
    "print(empDfObj)\n",
    " \n",
    "print('Data types of columns in modified dataframe')\n",
    "print(empDfObj.dtypes)"
   ]
  },
  {
   "cell_type": "markdown",
   "metadata": {},
   "source": [
    "#### More example and analysis\n",
    "\n",
    "#### Load and process sample temporal data"
   ]
  },
  {
   "cell_type": "code",
   "execution_count": null,
   "metadata": {
    "ExecuteTime": {
     "end_time": "2020-06-17T23:48:38.106493Z",
     "start_time": "2020-06-17T23:48:37.775772Z"
    }
   },
   "outputs": [],
   "source": [
    "time_stamps = ['2015-03-08 10:30:00.360000+00:00', '2017-07-13 15:45:05.755000-07:00',\n",
    "               '2012-01-20 22:30:00.254000+05:30', '2016-12-25 00:30:00.000000+10:00']\n",
    "df = pd.DataFrame(time_stamps, columns=['Time'])\n",
    "df"
   ]
  },
  {
   "cell_type": "code",
   "execution_count": null,
   "metadata": {
    "ExecuteTime": {
     "end_time": "2020-06-17T23:49:29.394780Z",
     "start_time": "2020-06-17T23:49:29.371931Z"
    }
   },
   "outputs": [],
   "source": [
    "ts_objs = np.array([pd.Timestamp(item) for item in np.array(df.Time)])\n",
    "df['TS_obj'] = ts_objs\n",
    "ts_objs"
   ]
  },
  {
   "cell_type": "markdown",
   "metadata": {},
   "source": [
    "#### Date based features"
   ]
  },
  {
   "cell_type": "code",
   "execution_count": null,
   "metadata": {
    "ExecuteTime": {
     "end_time": "2020-06-17T23:54:37.636426Z",
     "start_time": "2020-06-17T23:54:37.598996Z"
    },
    "scrolled": true
   },
   "outputs": [],
   "source": [
    "df['Year'] = df['TS_obj'].apply(lambda d: d.year)\n",
    "df['Month'] = df['TS_obj'].apply(lambda d: d.month)\n",
    "df['Day'] = df['TS_obj'].apply(lambda d: d.day)\n",
    "df['DayOfWeek'] = df['TS_obj'].apply(lambda d: d.dayofweek)\n",
    "df['DayName'] = df['TS_obj'].apply(lambda d: d.weekday_name)\n",
    "df['DayOfYear'] = df['TS_obj'].apply(lambda d: d.dayofyear)\n",
    "df['WeekOfYear'] = df['TS_obj'].apply(lambda d: d.weekofyear)\n",
    "df['Quarter'] = df['TS_obj'].apply(lambda d: d.quarter)\n",
    "df"
   ]
  },
  {
   "cell_type": "markdown",
   "metadata": {},
   "source": [
    "#### Time based features"
   ]
  },
  {
   "cell_type": "code",
   "execution_count": null,
   "metadata": {
    "ExecuteTime": {
     "end_time": "2020-06-17T23:58:48.837370Z",
     "start_time": "2020-06-17T23:58:48.795540Z"
    }
   },
   "outputs": [],
   "source": [
    "df['Hour'] = df['TS_obj'].apply(lambda d: d.hour)\n",
    "df['Minute'] = df['TS_obj'].apply(lambda d: d.minute)\n",
    "df['Second'] = df['TS_obj'].apply(lambda d: d.second)\n",
    "df['MUsecond'] = df['TS_obj'].apply(lambda d: d.microsecond)\n",
    "df['UTC_offset'] = df['TS_obj'].apply(lambda d: d.utcoffset())\n",
    "\n",
    "df[['Time', 'Hour', 'Minute', 'Second', 'MUsecond', 'UTC_offset']]"
   ]
  },
  {
   "cell_type": "markdown",
   "metadata": {},
   "source": [
    "#### Creating categories "
   ]
  },
  {
   "cell_type": "code",
   "execution_count": null,
   "metadata": {
    "ExecuteTime": {
     "end_time": "2020-06-18T00:02:31.674682Z",
     "start_time": "2020-06-18T00:02:31.541369Z"
    }
   },
   "outputs": [],
   "source": [
    "hour_bins = [-1, 5, 11, 16, 21, 23]\n",
    "bin_names = ['Late Night', 'Morning', 'Afternoon', 'Evening', 'Night']\n",
    "df['TimeOfDayBin'] = pd.cut(df['Hour'], \n",
    "                            bins=hour_bins, labels=bin_names)\n",
    "df[['Time', 'Hour', 'TimeOfDayBin']]"
   ]
  },
  {
   "cell_type": "markdown",
   "metadata": {},
   "source": [
    "#### Zone"
   ]
  },
  {
   "cell_type": "code",
   "execution_count": null,
   "metadata": {
    "ExecuteTime": {
     "end_time": "2020-06-18T00:03:59.798653Z",
     "start_time": "2020-06-18T00:03:58.721870Z"
    }
   },
   "outputs": [],
   "source": [
    "df['TZ_info'] = df['TS_obj'].apply(lambda d: d.tzinfo)\n",
    "df['TimeZones'] = df['TS_obj'].apply(lambda d: list({d.astimezone(tz).tzname() \n",
    "                                   for tz in map(pytz.timezone, \n",
    "                                                 pytz.all_timezones_set)\n",
    "                                       if d.astimezone(tz).utcoffset() == d.utcoffset()}))\n",
    "\n",
    "df[['Time', 'UTC_offset', 'TZ_info', 'TimeZones']]"
   ]
  },
  {
   "cell_type": "code",
   "execution_count": null,
   "metadata": {
    "ExecuteTime": {
     "end_time": "2020-06-18T00:05:20.858838Z",
     "start_time": "2020-06-18T00:05:20.819215Z"
    }
   },
   "outputs": [],
   "source": [
    "df['TimeUTC'] = df['TS_obj'].apply(lambda d: d.tz_convert(pytz.utc))\n",
    "df['Epoch'] = df['TimeUTC'].apply(lambda d: d.timestamp())\n",
    "df['GregOrdinal'] = df['TimeUTC'].apply(lambda d: d.toordinal())\n",
    "\n",
    "df[['Time', 'TimeUTC', 'Epoch', 'GregOrdinal']]"
   ]
  },
  {
   "cell_type": "code",
   "execution_count": null,
   "metadata": {
    "ExecuteTime": {
     "end_time": "2020-06-18T00:06:28.737254Z",
     "start_time": "2020-06-18T00:06:28.404292Z"
    }
   },
   "outputs": [],
   "source": [
    "curr_ts = datetime.now(pytz.utc)\n",
    "# compute days elapsed since today\n",
    "df['DaysElapsedEpoch'] = (curr_ts.timestamp() - df['Epoch']) / (3600*24)\n",
    "df['DaysElapsedOrdinal'] = (curr_ts.toordinal() - df['GregOrdinal']) \n",
    "\n",
    "df[['Time', 'TimeUTC', 'DaysElapsedEpoch', 'DaysElapsedOrdinal']]"
   ]
  },
  {
   "cell_type": "code",
   "execution_count": null,
   "metadata": {},
   "outputs": [],
   "source": []
  },
  {
   "cell_type": "code",
   "execution_count": null,
   "metadata": {},
   "outputs": [],
   "source": []
  },
  {
   "cell_type": "markdown",
   "metadata": {},
   "source": [
    "\n",
    "\n",
    "we’ve taken a deep dive into Python datetime, and also done some work with pandas and the calendar module. We’ve covered a lot, but remember: the best way to learn something is by actually writing code yourself! If you’d like to practice writing datetime code with interactive answer-checking.\n",
    "\n",
    "Mantra for success **\"Practice, Practice and Practice\"**"
   ]
  },
  {
   "cell_type": "markdown",
   "metadata": {},
   "source": [
    "#### Reference: \n",
    "\n",
    "https://docs.python.org/2/library/datetime.html#\n",
    "\n",
    "https://www.dataquest.io/blog/python-datetime-tutorial/\n",
    "\n",
    "https://realpython.com/python-time-module/  \n",
    "\n",
    "https://thispointer.com/learn-python/\n",
    "\n",
    "https://pynative.com/python/datetime/"
   ]
  }
 ],
 "metadata": {
  "kernelspec": {
   "display_name": "Python 3 (ipykernel)",
   "language": "python",
   "name": "python3"
  },
  "language_info": {
   "codemirror_mode": {
    "name": "ipython",
    "version": 3
   },
   "file_extension": ".py",
   "mimetype": "text/x-python",
   "name": "python",
   "nbconvert_exporter": "python",
   "pygments_lexer": "ipython3",
   "version": "3.9.7"
  }
 },
 "nbformat": 4,
 "nbformat_minor": 2
}
