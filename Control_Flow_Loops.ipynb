{
 "cells": [
  {
   "cell_type": "markdown",
   "metadata": {},
   "source": [
    "#### Control Flow\n",
    "First and foremost, what is control flow? Well, in simple terms it is the order in which certain operations are executed at runtime based on a condition. In programming, if we want to do a specific task or operation, we need to do simple smaller steps. These steps can for example include decision making or repetition of a task for a given number of times. Control Flow is one of the most important topics related to programming, and it certainly differs a useful from a useless code. Everywhere from simple data exploration to “State-of-the-Art” Neural Networks, we deal with Control Flow of some kind. Control flow contains statement or condition and body or block of the loop. \n",
    "\n",
    "Most of the programming languages like C, C++ and Java use braces {} to define a block of code, Python, however, uses indentation. A code block (body of a loop) starts with indentation and ends with the first unintended line. The amount of indentation is up to you, but it must be consistent throughout that block. Generally, four white spaces are used for indentation and are preferred over tabs.The indentation makes the code look neat and clean. Indentation can be ignored in line continuation, but it’s always a good idea to indent. It makes the code more readable. \n",
    "\n",
    "The flow control statements can be divided into following three categories:\n",
    "\n",
    "1.\tConditional statements\n",
    "2.\tIterative statements\n",
    "3.\tTransfer statements \n",
    "\n",
    "Python has several built-in keywords for conditional logic, loops, and other standard control flow concepts found in other programming languages.\n",
    "\n"
   ]
  },
  {
   "cell_type": "code",
   "execution_count": 1,
   "metadata": {},
   "outputs": [
    {
     "data": {
      "image/png": "[encoded data removed]",
      "text/plain": [
       "<IPython.core.display.Image object>"
      ]
     },
     "execution_count": 1,
     "metadata": {},
     "output_type": "execute_result"
    }
   ],
   "source": [
    "from IPython.display import Image\n",
    "from IPython.core.display import HTML \n",
    "Image(\"flow-control-statements.png\")"
   ]
  },
  {
   "cell_type": "markdown",
   "metadata": {},
   "source": [
    "#### Conditional statements\n",
    "\n",
    "Condition statements act depending on whether a given condition is true or false. one can execute different blocks of codes depending on the outcome of a condition. Condition statements always evaluate to either True or False.\n",
    "\n",
    "Following are the different types of conditional statements.\n",
    "\n",
    "- if statement\n",
    "- if-else\n",
    "- if-elif-else\n",
    "\n",
    "\n",
    "#### Iterative statements\n",
    "Iterative statements allow to execute a block of code repeatedly as long as the condition is True. These are known as a loop statements.\n",
    "\n",
    "Python provides the following two loop statement to perform some actions repeatedly\n",
    "\n",
    "- for loop\n",
    "- while loop\n",
    "\n",
    "\n",
    "#### Transfer statements\n",
    "Transfer statements are used to alter the program’s way of execution in a certain manner. For this purpose,there are three types of transfer statements.\n",
    "\n",
    "- break statement\n",
    "- continue statement\n",
    "- pass statements\n",
    "\n"
   ]
  },
  {
   "cell_type": "markdown",
   "metadata": {},
   "source": [
    "#### If statement in Python\n",
    "In control statements, if statement is the simplest form. It takes a condition and evaluates to either True or False.\n",
    "\n",
    "If the condition is True, then the block of code will be executed, and if the condition is False, then the block of code is skipped, and The controller moves to the next line\n",
    "\n",
    "##### Syntax of the if statement"
   ]
  },
  {
   "cell_type": "code",
   "execution_count": null,
   "metadata": {},
   "outputs": [],
   "source": [
    "if condition:\n",
    "    statement 1\n",
    "    statement 2\n",
    "    ...\n",
    "    statement n"
   ]
  },
  {
   "cell_type": "markdown",
   "metadata": {},
   "source": [
    "<img src=\"if-statements.png\" width=\"240\" height=\"240\" align=\"center\"/>"
   ]
  },
  {
   "cell_type": "markdown",
   "metadata": {},
   "source": [
    "In the example we declare the variable x to be positive. We check if x is positive, since this statement is True (x > 0), the print command gets executed, and the sentence “x is positive!” is printed out."
   ]
  },
  {
   "cell_type": "code",
   "execution_count": 3,
   "metadata": {
    "ExecuteTime": {
     "end_time": "2020-06-11T06:03:08.211320Z",
     "start_time": "2020-06-11T06:03:08.200680Z"
    }
   },
   "outputs": [],
   "source": [
    "x = 10\n",
    "if x>0:\n",
    "    print(\"x is positive!\")"
   ]
  },
  {
   "cell_type": "markdown",
   "metadata": {},
   "source": [
    "What about the case when this statement is not True? Then, this script would do nothing.\n",
    "If we wanted a script that does something when the statement is False we need to modify it a little.\n",
    "\n",
    "#### if-else statement\n",
    "\n",
    "This statement allows us to add a second possibility to the script, what to do when the condition is False.The if-else statement checks the condition and executes the if block of code when the condition is True, and if the condition is False, it will execute the else block of code.\n",
    "\n",
    "\n",
    "##### Syntax of the if-else statement"
   ]
  },
  {
   "cell_type": "code",
   "execution_count": null,
   "metadata": {},
   "outputs": [],
   "source": [
    "if condition:\n",
    "    statement 1\n",
    "else:\n",
    "    statement 2"
   ]
  },
  {
   "cell_type": "markdown",
   "metadata": {},
   "source": [
    "If the condition is True, then statement 1 will be executed If the condition is False, statement 2 will be executed. \n",
    "<img src=\"if-else-statement.png\" align = \"center\"/>\n",
    "\n",
    "To mark the end of the else block, the code must be unintended to the same level as the starting if line.\n"
   ]
  },
  {
   "cell_type": "code",
   "execution_count": 5,
   "metadata": {
    "ExecuteTime": {
     "end_time": "2020-06-11T06:04:02.334644Z",
     "start_time": "2020-06-11T06:04:02.318599Z"
    }
   },
   "outputs": [
    {
     "name": "stdout",
     "output_type": "stream",
     "text": [
      " Number is not positive\n"
     ]
    }
   ],
   "source": [
    "x = 10\n",
    "if x<0:\n",
    "    print(\"Number is positive\")\n",
    "else:\n",
    "    print (\" Number is not positive\")"
   ]
  },
  {
   "cell_type": "markdown",
   "metadata": {},
   "source": [
    "In the example we declare the variable x to be positive. We check if x is positive,if statement is True (x > 0), it prints out that Number is positive, but if number if not positive, it prints out number is not positive"
   ]
  },
  {
   "cell_type": "markdown",
   "metadata": {},
   "source": [
    "#### if-elif-else statement\n",
    "The **elif** keyword can be thought as **else if**, we used it if we want a more distinct division between if and else. The Python **elif** statement allows for continued checks to be performed after an initial if statement. An **elif** statement differs from the else statement because another expression is provided to be checked, just as with the initial if statement.\n",
    "\n",
    "<img src=\"if-elif-else-statemnt.png\" align = \"center\"/>"
   ]
  },
  {
   "cell_type": "markdown",
   "metadata": {},
   "source": [
    "If the expression is **True**, the indented code following the **elif** gets executed. If the expression evaluates to **False**, the code can continue to an optional else statement. Multiple **elif** statements can be used following an initial if to perform a series of checks. Once an **elif** expression evaluates to True, no further **elif** or the else statement is being executed.\n",
    "\n",
    "##### Syntax of the if-elif-else statement"
   ]
  },
  {
   "cell_type": "code",
   "execution_count": null,
   "metadata": {},
   "outputs": [],
   "source": [
    "if condition-1:  \n",
    "     statement 1 \n",
    "elif condition-2:\n",
    "     statement 2 \n",
    "elif condition-3:\n",
    "     statement 3 \n",
    "     ...         \n",
    "else:            \n",
    "     statement   "
   ]
  },
  {
   "cell_type": "code",
   "execution_count": 6,
   "metadata": {
    "ExecuteTime": {
     "end_time": "2020-06-11T06:05:36.618953Z",
     "start_time": "2020-06-11T06:05:36.604517Z"
    }
   },
   "outputs": [
    {
     "name": "stdout",
     "output_type": "stream",
     "text": [
      "Positive and larger than to 0\n"
     ]
    }
   ],
   "source": [
    "x = 10\n",
    "if x<0:\n",
    "    print(\"It's negative\")\n",
    "elif x==0:\n",
    "    print('Equal to zero')\n",
    "else:\n",
    "    print('Positive and larger than to 0')"
   ]
  },
  {
   "cell_type": "code",
   "execution_count": 7,
   "metadata": {},
   "outputs": [
    {
     "name": "stdout",
     "output_type": "stream",
     "text": [
      "name found\n"
     ]
    }
   ],
   "source": [
    "x = 'Pramod'\n",
    "if x=='Pramod':\n",
    "    print(\"name found\")"
   ]
  },
  {
   "cell_type": "markdown",
   "metadata": {},
   "source": [
    "The code first checks if the number is less than 0, if **True**, it prints out It's negative, If **False**, it checks if it is equal to 0, if **True**, it prints out equal to zero, If both the statements are **False**, the else statement get executed and prints out Positive and larger than or equal to zero.  "
   ]
  },
  {
   "cell_type": "markdown",
   "metadata": {},
   "source": [
    "#### Ternary expressions\n",
    "A ternary expression in Python allows you to combine an if-else block that produces a value into a single line or expression. The syntax for this in Python is:\n",
    "\n",
    "value = true-expr if condition else false-expr\n",
    "\n",
    "Here, true-expr and false-expr can be any Python expressions. It has the identical effect as the more verbose:\n",
    "\n",
    "if condition:\n",
    "    value = true-expr\n",
    "else:\n",
    "    value = false-expr"
   ]
  },
  {
   "cell_type": "code",
   "execution_count": null,
   "metadata": {
    "format": "column"
   },
   "outputs": [],
   "source": [
    "x=5\n",
    "'Non-negative' if x >= 0 else 'Negative'"
   ]
  },
  {
   "cell_type": "markdown",
   "metadata": {},
   "source": [
    "#### Loops\n",
    "\n",
    "Loops are for iterating over a collection (like a list or tuple) or an iterator. Often referred as repetition statements, are used to repeat a block of instruction.There are two types of loops\n",
    "\n",
    "- for loops\n",
    "\n",
    "- while loops\n",
    "\n",
    "*for* loop is used for fixed number of iterations where as *while* loop is used with unknown number of time. "
   ]
  },
  {
   "cell_type": "markdown",
   "metadata": {},
   "source": [
    "#### for loops\n",
    "\n",
    "**For** loops are used when we iterate over a sequence of data, i.e. a list, tuple, dictionary, string etc. They are used when we iterate for a known (or desired) number of times, since we know how many elements there are in a list or string. The keywords to apply a for loop are **for** and **in**.\n",
    "\n",
    "\n",
    "\n",
    "<img src = \"python-for-loop.png\" align = \"center\"/>"
   ]
  },
  {
   "cell_type": "markdown",
   "metadata": {},
   "source": [
    "We initialize a sequence (list, string, tuple…), the loop checks if the item is the last, if **True** the loop stops, if **False** the code gets executed and the loop repeats on next item in the sequence. With the help of for loop, we can iterate over each item present in the sequence and executes the same set of operations for each item. Using a for loops in Python we can automate and repeat tasks in an efficient manner. Until the code gets executed for the last item, the loop will repeat itself.\n",
    "\n",
    "##### Syntax of *for* loop"
   ]
  },
  {
   "cell_type": "code",
   "execution_count": null,
   "metadata": {},
   "outputs": [],
   "source": [
    "for element in collection:\n",
    "    body of for loop\n"
   ]
  },
  {
   "cell_type": "code",
   "execution_count": null,
   "metadata": {},
   "outputs": [],
   "source": [
    "3 5 7 9"
   ]
  },
  {
   "cell_type": "code",
   "execution_count": 12,
   "metadata": {},
   "outputs": [],
   "source": [
    "print?"
   ]
  },
  {
   "cell_type": "markdown",
   "metadata": {},
   "source": [
    "Example to display first 5 numbers using *for* loop"
   ]
  },
  {
   "cell_type": "code",
   "execution_count": 13,
   "metadata": {},
   "outputs": [
    {
     "name": "stdout",
     "output_type": "stream",
     "text": [
      "3 5 7 9 "
     ]
    }
   ],
   "source": [
    "for i in range(3,10,2):\n",
    "    print(i, end = ' ')\n",
    "    #print(i)"
   ]
  },
  {
   "cell_type": "code",
   "execution_count": 14,
   "metadata": {},
   "outputs": [
    {
     "name": "stdout",
     "output_type": "stream",
     "text": [
      "element in seq: 1\n",
      "total value: 1\n",
      "element in seq: 2\n",
      "total value: 3\n",
      "element in seq: 4\n",
      "total value: 7\n",
      "element in seq: 5\n",
      "total value: 12\n",
      "12\n"
     ]
    }
   ],
   "source": [
    "seq1 = [1, 2, 4,5] \n",
    "total = 0\n",
    "for value in (seq1):\n",
    "    print(\"element in seq:\",value)\n",
    "    total += value\n",
    "    #total = total + value\n",
    "    print(\"total value:\",total)\n",
    "\n",
    "print(total)"
   ]
  },
  {
   "cell_type": "code",
   "execution_count": null,
   "metadata": {},
   "outputs": [],
   "source": [
    "seq1[0]+seq1[1]+seq1[2]+seq1[3]"
   ]
  },
  {
   "cell_type": "code",
   "execution_count": 15,
   "metadata": {
    "ExecuteTime": {
     "end_time": "2020-06-11T06:11:01.032583Z",
     "start_time": "2020-06-11T06:11:01.009273Z"
    }
   },
   "outputs": [
    {
     "name": "stdout",
     "output_type": "stream",
     "text": [
      "index: 0\n",
      "subtotal: 1\n",
      "index: 1\n",
      "subtotal: 3\n",
      "index: 2\n",
      "subtotal: 7\n",
      "index: 3\n",
      "subtotal: 12\n",
      "12\n"
     ]
    }
   ],
   "source": [
    "seq1 = [1, 2, 4,5] \n",
    "total = 0\n",
    "\n",
    "for i in range(len(seq1)):\n",
    "    print('index:',i)\n",
    "    #total += i\n",
    "    total = total+seq1[i]\n",
    "    print('subtotal:', total)\n",
    "\n",
    "print(total)"
   ]
  },
  {
   "cell_type": "markdown",
   "metadata": {},
   "source": [
    "#### Why use *for* loop? \n",
    "\n",
    "- **Definite Iteration:** When we know how many times we wanted to run a loop, then we use count-controlled loops such as for loops. It is also known as definite iteration. For example, Calculate the percentage of 50 students. here we know we need to iterate a loop 50 times (1 iteration for each student).\n",
    "\n",
    "- **Reduces the code’s complexity:** Loop repeats a specific block of code a fixed number of times. It reduces the repetition of lines of code, thus reducing the complexity of the code. Using for loops and while loops we can automate and repeat tasks in an efficient manner.\n",
    "\n",
    "- **Loop through sequences:** used for iterating over lists, strings, tuples, dictionaries, etc., and perform various operations on it, based on the conditions specified by the user."
   ]
  },
  {
   "cell_type": "markdown",
   "metadata": {},
   "source": [
    "#### while loops\n",
    "\n",
    "**while** loops are used to iterate until a certain condition is satisfied. Basically, the loop is executed as many times as the condition remains True. when if becomes False, the loop stops.\n",
    "A while loop specifies a condition and a block of code that is to be executed until the condition evaluates to False\n",
    "\n",
    "\n",
    "<img src = \"python-while-loop.png\" align = \"center\"/>\n",
    "\n",
    "A simple while loop works as follows. The argument gets evaluated, according to a expression, the code gets executed until the argument is evaluated as True. When it becomes False, the loop stops.\n",
    "\n",
    "\n",
    "***VERY IMPORTANT: In every step of the while loop we need to change the argument in order to avoid an endless loop.**\n",
    "\n",
    "\n",
    "##### Syntax of *while* loop"
   ]
  },
  {
   "cell_type": "code",
   "execution_count": null,
   "metadata": {},
   "outputs": [],
   "source": [
    "while condition :\n",
    "    body of while loop"
   ]
  },
  {
   "cell_type": "code",
   "execution_count": 16,
   "metadata": {},
   "outputs": [
    {
     "name": "stdout",
     "output_type": "stream",
     "text": [
      "value of x: 128\n",
      "total: 256\n",
      "value of x: 64\n",
      "total: 384\n",
      "value of x: 32\n",
      "total: 448\n",
      "value of x: 16\n",
      "total: 480\n",
      "value of x: 8\n",
      "total: 496\n",
      "value of x: 4\n",
      "total: 504\n",
      "value of x: 2\n",
      "total: 508\n",
      "value of x: 1\n",
      "total: 510\n",
      "value of x: 0\n",
      "total: 511\n"
     ]
    }
   ],
   "source": [
    "x=256 \n",
    "total = 0 \n",
    "while x>0:\n",
    "    total  = total+x \n",
    "    #total +=x\n",
    "    x=x//2\n",
    "    #print(x, end = ' ')\n",
    "    print(\"value of x:\", x)\n",
    "    print(\"total:\",total)"
   ]
  },
  {
   "cell_type": "code",
   "execution_count": 17,
   "metadata": {},
   "outputs": [
    {
     "name": "stdout",
     "output_type": "stream",
     "text": [
      "13\n"
     ]
    }
   ],
   "source": [
    "# give the total of even numbers Answer: 20\n",
    "seq1 = [1,2,4,5,6,7,8] \n",
    "total = 0\n",
    "\n",
    "for value in (seq1):\n",
    "    if(value%2 ==1):\n",
    "        total = total+value\n",
    "\n",
    "print(total)"
   ]
  },
  {
   "cell_type": "markdown",
   "metadata": {},
   "source": [
    "#### Break Statement\n",
    "\n",
    "The break statement is used inside the loop to exit out of the loop. when a *break* statement is encountered inside a loop, the loop is immediately terminated, and the program control transfer to the next statement following the loop. In simple words, A break keyword terminates the loop containing it. If the break statement is used inside a nested loop (loop inside another loop), it will terminate the innermost loop.\n",
    "\n",
    "<img src = \"break-statement.png\" align = \"center\"/>"
   ]
  },
  {
   "cell_type": "code",
   "execution_count": 18,
   "metadata": {},
   "outputs": [
    {
     "name": "stdout",
     "output_type": "stream",
     "text": [
      "current number 10\n",
      "current number 40\n"
     ]
    }
   ],
   "source": [
    "numbers = [10, 40, 120,230]\n",
    "for i in numbers:\n",
    "    if i > 100:\n",
    "        break\n",
    "    print('current number', i)"
   ]
  },
  {
   "cell_type": "markdown",
   "metadata": {},
   "source": [
    "#### Continue statement\n",
    "\n",
    "The **continue** statement is somewhat similar to the break statement, but instead of breaking the loop, it will start the next iteration. when the continue statement is encountered inside the loop, it skips all the statements below it and immediately jumps to the next iteration. In simple words, the continue statement is used inside loops. Whenever the continue statement is encountered inside a loop, control directly jumps to the start of the loop for the next iteration, skipping the rest of the code present inside the loop’s body for the current iteration.\n",
    "\n",
    "In some situations, it is helpful to skip executing some statement inside a loop’s body if a particular condition occurs and directly move to the next iteration. \n",
    "\n",
    "The visualization on the left help us get a clearer understanding.\n",
    "\n",
    "<img src = 'continue-statement.png' align = 'center' />"
   ]
  },
  {
   "cell_type": "code",
   "execution_count": 19,
   "metadata": {},
   "outputs": [
    {
     "name": "stdout",
     "output_type": "stream",
     "text": [
      "Current Number is 2\n",
      "Square of a current number is 4\n",
      "Current Number is 3\n",
      "Square of a current number is 9\n",
      "Current Number is 11\n",
      "Current Number is 7\n",
      "Square of a current number is 49\n"
     ]
    }
   ],
   "source": [
    "numbers = [2, 3, 11, 7]\n",
    "for i in numbers:\n",
    "    print('Current Number is', i)\n",
    "    # skip below statement if number is greater than 10\n",
    "    if i > 10:\n",
    "        continue\n",
    "        #break\n",
    "    square = i * i\n",
    "    print('Square of a current number is', square)"
   ]
  },
  {
   "cell_type": "code",
   "execution_count": null,
   "metadata": {},
   "outputs": [],
   "source": [
    "2 4\n",
    "3 9\n",
    "11\n",
    "7 49\n"
   ]
  },
  {
   "cell_type": "markdown",
   "metadata": {},
   "source": [
    "#### Pass statement\n",
    "\n",
    "he pass is the keyword In Python, which won’t do anything. Sometimes there is a situation in programming where we need to define a syntactically empty block. We can define that block with the pass keyword.\n",
    "\n",
    "A pass statement is a Python null statement. When the interpreter finds a pass statement in the program, it returns no operation. Nothing happens when the pass statement is executed.\n",
    "\n",
    "It is useful in a situation where we are implementing new methods or also in exception handling. It plays a role like a placeholder."
   ]
  },
  {
   "cell_type": "code",
   "execution_count": null,
   "metadata": {},
   "outputs": [],
   "source": [
    "months = ['January', 'June', 'March', 'April']\n",
    "for mon in months:\n",
    "    pass\n",
    "\n",
    "print(months)"
   ]
  },
  {
   "cell_type": "markdown",
   "metadata": {},
   "source": [
    "https://pynative.com/python-control-flow-statements/\n",
    "\n",
    "https://towardsdatascience.com/python-for-beginners-control-flow-b086713ba6bf"
   ]
  },
  {
   "cell_type": "code",
   "execution_count": null,
   "metadata": {},
   "outputs": [],
   "source": []
  }
 ],
 "metadata": {
  "kernelspec": {
   "display_name": "Python 3.10.2 64-bit",
   "language": "python",
   "name": "python3"
  },
  "language_info": {
   "codemirror_mode": {
    "name": "ipython",
    "version": 3
   },
   "file_extension": ".py",
   "mimetype": "text/x-python",
   "name": "python",
   "nbconvert_exporter": "python",
   "pygments_lexer": "ipython3",
   "version": "3.10.2"
  },
  "vscode": {
   "interpreter": {
    "hash": "aee8b7b246df8f9039afb4144a1f6fd8d2ca17a180786b69acc140d282b71a49"
   }
  },
  "widgets": {
   "state": {},
   "version": "1.1.2"
  }
 },
 "nbformat": 4,
 "nbformat_minor": 2
}
