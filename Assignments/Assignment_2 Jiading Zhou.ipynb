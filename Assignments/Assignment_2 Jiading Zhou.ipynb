{
 "cells": [
  {
   "cell_type": "markdown",
   "id": "cacf249a",
   "metadata": {},
   "source": [
    "## Python Basics"
   ]
  },
  {
   "cell_type": "markdown",
   "id": "ecc965c7",
   "metadata": {},
   "source": [
    "#### Q1 - Find the area of circle of radius 5cm"
   ]
  },
  {
   "cell_type": "code",
   "execution_count": null,
   "id": "a5002a2e",
   "metadata": {},
   "outputs": [],
   "source": [
    "import math as M\n",
    "Radius = 5\n",
    "area = M.pi* float(Radius) * float(Radius)  \n",
    "print (\"The area of the given circle is: {:.2f} cm^2. \". format(area))"
   ]
  },
  {
   "cell_type": "markdown",
   "id": "bdab1df4",
   "metadata": {},
   "source": [
    "#### Q2 -\n",
    "x = True<br>\n",
    "y = False\n",
    "\n",
    "<br>\n",
    "i )  - What will be x and y<br>\n",
    "ii)  - What will be x or y<br>\n",
    "iii) - What will be not x"
   ]
  },
  {
   "cell_type": "markdown",
   "id": "8abeab7a",
   "metadata": {},
   "source": [
    "i ) - x and y will return \"False\" <br>\n",
    "ii) - x or y will return \"True\" <br>\n",
    "iii) - not x will return \"False\""
   ]
  },
  {
   "cell_type": "markdown",
   "id": "d16e401a",
   "metadata": {},
   "source": [
    "#### Q3 - Input a list using input() and range() function and print the list."
   ]
  },
  {
   "cell_type": "code",
   "execution_count": null,
   "id": "e322b340",
   "metadata": {},
   "outputs": [],
   "source": [
    "lst = [ ]\n",
    "n = int(input(\"How many elements are in your list? \"))\n",
    "\n",
    "for i in range(0, n):\n",
    "    ele = [input(\"Enter the name of your element: \"), int(input(\"Enter your number: \"))]\n",
    "    lst.append(ele)\n",
    "    \n",
    "print(lst)\n"
   ]
  },
  {
   "cell_type": "markdown",
   "id": "18346d96",
   "metadata": {},
   "source": [
    "#### Q4 - Write a line of code to use string.format() method to format the following 2 variables as per the expected output\n",
    "\n",
    "totalMoney = 1000 <br>\n",
    "quantity = 2<br><br>\n",
    "\n",
    "\"I will buy 2 cars using $1000k savings.\"\n",
    "\n",
    "\n"
   ]
  },
  {
   "cell_type": "code",
   "execution_count": null,
   "id": "84421f27",
   "metadata": {},
   "outputs": [],
   "source": [
    "totalMoney = 1000\n",
    "quantity = 2\n",
    "print(\"I will buy {} cars using ${}k savings.\".format(quantity, totalMoney))"
   ]
  },
  {
   "cell_type": "markdown",
   "id": "602e7e47",
   "metadata": {},
   "source": [
    "#### Q4 - Write a code to create a new string made of the first characters of each word of input string.\n",
    "string_1 = 'Thor is the best avenger'\n",
    "\n",
    "Example <br>\n",
    "\n",
    "Input String =  'Northeastern is one of the best university in USA'<br>\n",
    "Output = 'NIOOTBUIU'"
   ]
  },
  {
   "cell_type": "code",
   "execution_count": null,
   "id": "fdc71ada",
   "metadata": {},
   "outputs": [],
   "source": [
    "string_1 = 'Thor is the best avenger'\n",
    "\n",
    "newStr=\"\"\n",
    "for s in string_1.split():\n",
    "    newStr = newStr + s[0]\n",
    "print(newStr.upper())"
   ]
  },
  {
   "cell_type": "markdown",
   "id": "7359ecc6",
   "metadata": {},
   "source": [
    "#### Q5 - Convert the value of txt to upper case.\n",
    "txt = 'hello jason'"
   ]
  },
  {
   "cell_type": "code",
   "execution_count": null,
   "id": "5750db1f",
   "metadata": {},
   "outputs": [],
   "source": [
    "txt = 'hello jason'\n",
    "print(txt.upper())"
   ]
  },
  {
   "cell_type": "markdown",
   "id": "b795d1c8",
   "metadata": {},
   "source": [
    "#### Q6 - Replace the character H with a J.\n",
    "\n",
    "txt = 'Hello Jason'"
   ]
  },
  {
   "cell_type": "code",
   "execution_count": null,
   "id": "b403e713",
   "metadata": {},
   "outputs": [],
   "source": [
    "txt = 'Hello Jason'\n",
    "newTxt = txt.replace(\"H\", \"J\")\n",
    "print(newTxt)"
   ]
  },
  {
   "cell_type": "markdown",
   "id": "fc59d09e",
   "metadata": {},
   "source": [
    "#### Q7 - Concatenate the below variables\n",
    "\n",
    "a = 'Hi, I am Mark' <br>\n",
    "b =  'My age is'<br>\n",
    "c = 8<br>\n",
    "d = 'years'<br>"
   ]
  },
  {
   "cell_type": "code",
   "execution_count": 4,
   "id": "7e31634f",
   "metadata": {},
   "outputs": [
    {
     "name": "stdout",
     "output_type": "stream",
     "text": [
      "Hi, I am Mark. My age is 8 years.\n"
     ]
    }
   ],
   "source": [
    "a = 'Hi, I am Mark'\n",
    "b = 'My age is'\n",
    "c = 8\n",
    "d = 'years'\n",
    "\n",
    "res = a + \". \" + b + \" \" + str(c) + \" \" + d + \".\"\n",
    "print(res)"
   ]
  },
  {
   "cell_type": "markdown",
   "id": "3b38979d",
   "metadata": {},
   "source": [
    "#### Q8 Add the below 2 variables \n",
    "\n",
    "a = 123 <br>\n",
    "b = \"456\""
   ]
  },
  {
   "cell_type": "code",
   "execution_count": null,
   "id": "73be662b",
   "metadata": {},
   "outputs": [],
   "source": [
    "a = 123\n",
    "b = \"456\"\n",
    "\n",
    "# not sure which one does professor look for, string concatenate or number plus?\n",
    "# can both concatenate in string, or simple math plus. Anyway, I print both results.\n",
    "res1 = str(a) + b\n",
    "print(res1)\n",
    "\n",
    "res2 = a + int(b)\n",
    "print(res2)"
   ]
  },
  {
   "cell_type": "code",
   "execution_count": null,
   "id": "11831aba",
   "metadata": {},
   "outputs": [],
   "source": []
  },
  {
   "cell_type": "markdown",
   "id": "09c9730b",
   "metadata": {},
   "source": [
    "#### Q9 <br>\n",
    "x3 = [1,2,3] <br>\n",
    "y3 = [1,2,3]<br>\n",
    "\n",
    "Why <br>x3 is y3 False <br> x3 == y3 True <br>\n",
    "Explain briefly"
   ]
  },
  {
   "cell_type": "code",
   "execution_count": 3,
   "id": "cbdfda72",
   "metadata": {},
   "outputs": [
    {
     "name": "stdout",
     "output_type": "stream",
     "text": [
      "False\n",
      "True\n"
     ]
    }
   ],
   "source": [
    "x3 = [1,2,3]\n",
    "y3 = [1,2,3]\n",
    "\n",
    "print(x3 is y3) # False\n",
    "print(x3 == y3) # True"
   ]
  },
  {
   "cell_type": "markdown",
   "id": "d85463fa",
   "metadata": {},
   "source": [
    "- So, in python language, keyword \"is\" is used to test if two variables refer to the same object.<br>\n",
    "In this case, x3 and y3 are not the same objects, they both point to the two different locations in memory. <br>\n",
    "- However, \"==\" operator in python is used to compare the values of two variables are equal or not. <br> In this case, x3 and y3 both are equal, with same values in list."
   ]
  },
  {
   "cell_type": "markdown",
   "id": "10376a82",
   "metadata": {},
   "source": [
    "#### Q10 -  Write a code to find how many times substring “Harry” appears in the given string. <br>\n",
    "string_1 = \"Harry is good developer. Harry is a writer\"\n"
   ]
  },
  {
   "cell_type": "code",
   "execution_count": 2,
   "id": "c4e25454",
   "metadata": {},
   "outputs": [
    {
     "name": "stdout",
     "output_type": "stream",
     "text": [
      "2\n"
     ]
    }
   ],
   "source": [
    "string_1 = \"Harry is good developer. Harry is a writer\"\n",
    "substring = 'Harry'\n",
    "cot = string_1.count(substring)\n",
    "print(cot)"
   ]
  },
  {
   "cell_type": "code",
   "execution_count": null,
   "id": "be5a09ed",
   "metadata": {},
   "outputs": [],
   "source": []
  }
 ],
 "metadata": {
  "kernelspec": {
   "display_name": "Python 3 (ipykernel)",
   "language": "python",
   "name": "python3"
  },
  "language_info": {
   "codemirror_mode": {
    "name": "ipython",
    "version": 3
   },
   "file_extension": ".py",
   "mimetype": "text/x-python",
   "name": "python",
   "nbconvert_exporter": "python",
   "pygments_lexer": "ipython3",
   "version": "3.9.7"
  }
 },
 "nbformat": 4,
 "nbformat_minor": 5
}
