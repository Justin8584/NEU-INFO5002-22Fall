{
 "cells": [
  {
   "cell_type": "markdown",
   "id": "93fc7684",
   "metadata": {},
   "source": [
    "#### Q1 - Create a dictionary using the below two list.\n",
    "keys = ['Ten', 'Twenty', 'Thirty'] <br/>\n",
    "values = [10, 20, 30]"
   ]
  },
  {
   "cell_type": "code",
   "execution_count": null,
   "id": "fafd37a9",
   "metadata": {},
   "outputs": [],
   "source": [
    "keys = ['Ten', 'Twenty', 'Thirty']\n",
    "values = [10, 20, 30]"
   ]
  },
  {
   "cell_type": "code",
   "execution_count": null,
   "id": "ae180272",
   "metadata": {},
   "outputs": [],
   "source": [
    "sol1 = {k:v for k, v in zip(keys,values)}\n",
    "print(sol1)"
   ]
  },
  {
   "cell_type": "code",
   "execution_count": null,
   "id": "523c5f43",
   "metadata": {},
   "outputs": [],
   "source": [
    "sol2 = dict(zip(keys,values))\n",
    "print(sol2)"
   ]
  },
  {
   "cell_type": "markdown",
   "id": "4caae9c7",
   "metadata": {},
   "source": [
    "#### Q2 - Print the value of key ‘ManchesterUnited’ from the below"
   ]
  },
  {
   "cell_type": "code",
   "execution_count": null,
   "id": "a42aff4b",
   "metadata": {},
   "outputs": [],
   "source": [
    "sampleDict = {\n",
    "    \"country\": {\n",
    "        \"player\": {\n",
    "            \"name\": \"Ronaldo\",\n",
    "            \"club\": {\n",
    "                \"ManchesterUnited\": 106,\n",
    "                \"RealMadrid\": 450\n",
    "            }\n",
    "        }\n",
    "    }\n",
    "}"
   ]
  },
  {
   "cell_type": "code",
   "execution_count": null,
   "id": "1f5a8ce7",
   "metadata": {},
   "outputs": [],
   "source": [
    "print(sampleDict['country']['player']['club']['ManchesterUnited'])"
   ]
  },
  {
   "cell_type": "markdown",
   "id": "d9feae9b",
   "metadata": {},
   "source": [
    "#### Q3 - Delete any 2 keys from a dictionary"
   ]
  },
  {
   "cell_type": "code",
   "execution_count": null,
   "id": "8104370c",
   "metadata": {},
   "outputs": [],
   "source": [
    "user_one = {\n",
    "    \"name\": \"Kelly\",\n",
    "    \"age\": 25,\n",
    "    \"salary\": 8000,\n",
    "    \"city\": \"New york\"\n",
    "}"
   ]
  },
  {
   "cell_type": "code",
   "execution_count": null,
   "id": "9a3c9af1",
   "metadata": {},
   "outputs": [],
   "source": [
    "# del function will work, just delete the keys\n",
    "user_one = {\n",
    "    \"name\": \"Kelly\",\n",
    "    \"age\": 25,\n",
    "    \"salary\": 8000,\n",
    "    \"city\": \"New york\"\n",
    "}\n",
    "\n",
    "del user_one['name']\n",
    "del user_one['city']\n",
    "print(user_one)"
   ]
  },
  {
   "cell_type": "code",
   "execution_count": null,
   "id": "e3d45527",
   "metadata": {},
   "outputs": [],
   "source": [
    "# also pop function to delete the keys\n",
    "user_one = {\n",
    "    \"name\": \"Kelly\",\n",
    "    \"age\": 25,\n",
    "    \"salary\": 8000,\n",
    "    \"city\": \"New york\"\n",
    "}\n",
    "rmKeys = [\"name\", \"city\"]\n",
    "\n",
    "for rm in rmKeys:\n",
    "    user_one.pop(rm)\n",
    "print(user_one)"
   ]
  },
  {
   "cell_type": "markdown",
   "id": "5539bbc5",
   "metadata": {},
   "source": [
    "#### Q4 - Get the key of a minimum value from the following dictionary"
   ]
  },
  {
   "cell_type": "code",
   "execution_count": null,
   "id": "01a91a0e",
   "metadata": {},
   "outputs": [],
   "source": [
    "marks = {\n",
    "  'Physics': 82,\n",
    "  'Math': 65,\n",
    "  'history': 75\n",
    "}"
   ]
  },
  {
   "cell_type": "code",
   "execution_count": null,
   "id": "7aa2940a",
   "metadata": {},
   "outputs": [],
   "source": [
    "minValue = min(marks.values())\n",
    "res = [k for k in marks if marks[k]==minValue]\n",
    "print(res)"
   ]
  },
  {
   "cell_type": "code",
   "execution_count": null,
   "id": "7897dd01",
   "metadata": {},
   "outputs": [],
   "source": [
    "# min function works...no loop need\n",
    "print(min(marks))"
   ]
  },
  {
   "cell_type": "markdown",
   "id": "ec42900c",
   "metadata": {},
   "source": [
    "#### Q5 - Write a code to change Brad’s salary to 8500 in the following dictionary."
   ]
  },
  {
   "cell_type": "code",
   "execution_count": null,
   "id": "7cccd075",
   "metadata": {},
   "outputs": [],
   "source": [
    "emp_dict = {\n",
    "    'emp1': {'name': 'Jhon', 'salary': 7500},\n",
    "    'emp2': {'name': 'Emma', 'salary': 8000},\n",
    "    'emp3': {'name': 'Brad', 'salary': 500}\n",
    "}"
   ]
  },
  {
   "cell_type": "code",
   "execution_count": null,
   "id": "13775e24",
   "metadata": {},
   "outputs": [],
   "source": [
    "emp_dict['emp3']['salary'] = 8500\n",
    "print(emp_dict['emp3']['salary'])"
   ]
  },
  {
   "cell_type": "markdown",
   "id": "a373412e",
   "metadata": {},
   "source": [
    "#### Q6 - Write a code to sum all the values of a dictionary."
   ]
  },
  {
   "cell_type": "code",
   "execution_count": null,
   "id": "05d03057",
   "metadata": {},
   "outputs": [],
   "source": [
    "dict1 = {'key 1': 200, 'key 2': 300}"
   ]
  },
  {
   "cell_type": "code",
   "execution_count": null,
   "id": "185cea48",
   "metadata": {},
   "outputs": [],
   "source": [
    "# sum all values in for loop\n",
    "def sumAll(dict):\n",
    "    tmp = 0\n",
    "    for v in dict.values():\n",
    "        tmp += v\n",
    "    return tmp\n",
    "print(sumAll(dict1))"
   ]
  },
  {
   "cell_type": "code",
   "execution_count": null,
   "id": "42fdcadf",
   "metadata": {},
   "outputs": [],
   "source": [
    "# turns out that just sum function will work, no for loop needed.\n",
    "sumV = sum(dict1.values())\n",
    "print(sumV)"
   ]
  },
  {
   "cell_type": "markdown",
   "id": "edce16c9",
   "metadata": {},
   "source": [
    "#### Q7 - Return a new set of identical items from two sets"
   ]
  },
  {
   "cell_type": "code",
   "execution_count": null,
   "id": "36d1df19",
   "metadata": {},
   "outputs": [],
   "source": [
    "set1 = {10, 20, 30, 40, 50}\n",
    "set2 = {30, 40, 50, 60, 70}"
   ]
  },
  {
   "cell_type": "code",
   "execution_count": null,
   "id": "4157685b",
   "metadata": {},
   "outputs": [],
   "source": [
    "newSet = set1.intersection(set2)\n",
    "print(newSet)"
   ]
  },
  {
   "cell_type": "markdown",
   "id": "f584939c",
   "metadata": {},
   "source": [
    "#### Q8 - Write a code to remove items 10, 20, 30 from the following set at once."
   ]
  },
  {
   "cell_type": "code",
   "execution_count": null,
   "id": "6cfe199a",
   "metadata": {},
   "outputs": [],
   "source": [
    "nums = {10, 20, 30, 40, 50}"
   ]
  },
  {
   "cell_type": "code",
   "execution_count": null,
   "id": "ca515de6",
   "metadata": {},
   "outputs": [],
   "source": [
    "nums = {10, 20, 30, 40, 50}\n",
    "nums.difference_update({10, 20, 30})\n",
    "print(nums)"
   ]
  },
  {
   "cell_type": "markdown",
   "id": "7b9232ed",
   "metadata": {},
   "source": [
    "#### Q9 - Write a Python code to return a new set with unique items from both sets by removing duplicates."
   ]
  },
  {
   "cell_type": "code",
   "execution_count": null,
   "id": "699e44e1",
   "metadata": {},
   "outputs": [],
   "source": [
    "set1 = {10, 20, 30, 40, 50}\n",
    "set2 = {30, 40, 50, 60, 70}"
   ]
  },
  {
   "cell_type": "code",
   "execution_count": null,
   "id": "2a45260f",
   "metadata": {},
   "outputs": [],
   "source": [
    "set1.symmetric_difference_update(set2)\n",
    "print(set1)"
   ]
  },
  {
   "cell_type": "markdown",
   "id": "d806f975",
   "metadata": {},
   "source": [
    "#### Q10 -  Explain when set is used and when dictionary is used?\n"
   ]
  },
  {
   "cell_type": "markdown",
   "id": "d80fe5ae",
   "metadata": {},
   "source": [
    "- \"Set\" is the unique build-in data structure in python. It is good at storing the similar items, especialy under same catagory, because it is unordered, unchangable, and not duplicated. \n",
    "- \"Dictionary\" is the another build-in data structure in python. It stores in the pair of key and value that very useful when the data has a unique reference that can be associated with the value, for example telephone number book. Dictionary is very efficient for the lookup of elements and takes less time to traverse. Dictionary is easy to read and change the data. "
   ]
  }
 ],
 "metadata": {
  "kernelspec": {
   "display_name": "Python 3 (ipykernel)",
   "language": "python",
   "name": "python3"
  },
  "language_info": {
   "codemirror_mode": {
    "name": "ipython",
    "version": 3
   },
   "file_extension": ".py",
   "mimetype": "text/x-python",
   "name": "python",
   "nbconvert_exporter": "python",
   "pygments_lexer": "ipython3",
   "version": "3.9.7"
  }
 },
 "nbformat": 4,
 "nbformat_minor": 5
}
