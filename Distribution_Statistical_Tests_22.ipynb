{
 "cells": [
  {
   "cell_type": "code",
   "execution_count": 1,
   "metadata": {
    "ExecuteTime": {
     "end_time": "2020-07-30T14:23:42.586003Z",
     "start_time": "2020-07-30T14:23:38.228058Z"
    }
   },
   "outputs": [],
   "source": [
    "import pandas as pd\n",
    "import numpy as np\n",
    "import matplotlib.pyplot as plt\n",
    "%matplotlib inline\n",
    "import seaborn as sns"
   ]
  },
  {
   "cell_type": "markdown",
   "metadata": {},
   "source": [
    "#### Combinations\n",
    "\n",
    "This method takes a list and a input r as a input and return a object list of tuples which contain all possible combination of length r in a list form."
   ]
  },
  {
   "cell_type": "code",
   "execution_count": 2,
   "metadata": {
    "ExecuteTime": {
     "end_time": "2020-07-30T14:24:39.554004Z",
     "start_time": "2020-07-30T14:24:31.018268Z"
    }
   },
   "outputs": [
    {
     "name": "stdout",
     "output_type": "stream",
     "text": [
      "Enter n\n",
      "5\n",
      "Enter r\n",
      "3\n",
      "10.0 combinations\n"
     ]
    }
   ],
   "source": [
    "import math\n",
    "n = int(input('Enter n\\n'))\n",
    "r = int(input('Enter r\\n'))\n",
    "i = n - r\n",
    "C = (math.factorial(n))/(math.factorial(i)*math.factorial(r))\n",
    "print(str(C) + ' combinations')"
   ]
  },
  {
   "cell_type": "code",
   "execution_count": 3,
   "metadata": {
    "ExecuteTime": {
     "end_time": "2020-07-30T14:24:54.780868Z",
     "start_time": "2020-07-30T14:24:54.752534Z"
    }
   },
   "outputs": [
    {
     "data": {
      "text/plain": [
       "10.0"
      ]
     },
     "execution_count": 3,
     "metadata": {},
     "output_type": "execute_result"
    }
   ],
   "source": [
    "from scipy.special import comb\n",
    "r = 3\n",
    "n = 5\n",
    "comb(5,3)"
   ]
  },
  {
   "cell_type": "code",
   "execution_count": 4,
   "metadata": {
    "ExecuteTime": {
     "end_time": "2020-07-30T14:25:40.069316Z",
     "start_time": "2020-07-30T14:25:40.037886Z"
    }
   },
   "outputs": [
    {
     "name": "stdout",
     "output_type": "stream",
     "text": [
      "(1, 2, 3)\n",
      "(1, 2, 4)\n",
      "(1, 2, 5)\n",
      "(1, 3, 4)\n",
      "(1, 3, 5)\n",
      "(1, 4, 5)\n",
      "(2, 3, 4)\n",
      "(2, 3, 5)\n",
      "(2, 4, 5)\n",
      "(3, 4, 5)\n"
     ]
    }
   ],
   "source": [
    "from itertools import combinations\n",
    "\n",
    "combi = combinations ([1,2,3,4,5],3)\n",
    "\n",
    "#len(list(combi))\n",
    "\n",
    "# print the list of combinations\n",
    "\n",
    "for i in list(combi):\n",
    "    print(i)"
   ]
  },
  {
   "cell_type": "markdown",
   "metadata": {},
   "source": [
    "#### Combinations with replacement\n",
    "\n",
    "If we want to make combination of same element to same element then we use combinations_with_replacement."
   ]
  },
  {
   "cell_type": "code",
   "execution_count": 5,
   "metadata": {},
   "outputs": [
    {
     "name": "stdout",
     "output_type": "stream",
     "text": [
      "(1, 1, 1)\n",
      "(1, 1, 2)\n",
      "(1, 1, 3)\n",
      "(1, 1, 4)\n",
      "(1, 1, 5)\n",
      "(1, 2, 2)\n",
      "(1, 2, 3)\n",
      "(1, 2, 4)\n",
      "(1, 2, 5)\n",
      "(1, 3, 3)\n",
      "(1, 3, 4)\n",
      "(1, 3, 5)\n",
      "(1, 4, 4)\n",
      "(1, 4, 5)\n",
      "(1, 5, 5)\n",
      "(2, 2, 2)\n",
      "(2, 2, 3)\n",
      "(2, 2, 4)\n",
      "(2, 2, 5)\n",
      "(2, 3, 3)\n",
      "(2, 3, 4)\n",
      "(2, 3, 5)\n",
      "(2, 4, 4)\n",
      "(2, 4, 5)\n",
      "(2, 5, 5)\n",
      "(3, 3, 3)\n",
      "(3, 3, 4)\n",
      "(3, 3, 5)\n",
      "(3, 4, 4)\n",
      "(3, 4, 5)\n",
      "(3, 5, 5)\n",
      "(4, 4, 4)\n",
      "(4, 4, 5)\n",
      "(4, 5, 5)\n",
      "(5, 5, 5)\n"
     ]
    }
   ],
   "source": [
    "from itertools import combinations_with_replacement\n",
    "\n",
    "combi1 = combinations_with_replacement([1,2,3,4,5],3)\n",
    "\n",
    "#len(list(combi1))\n",
    "\n",
    "# print the list of combinations\n",
    "\n",
    "for i in list(combi1):\n",
    "    print(i)"
   ]
  },
  {
   "cell_type": "markdown",
   "metadata": {},
   "source": [
    "Elements are treated as unique based on their position, not on their value. So if the input elements are unique, there will be no repeat values in each combination."
   ]
  },
  {
   "cell_type": "code",
   "execution_count": 6,
   "metadata": {},
   "outputs": [
    {
     "name": "stdout",
     "output_type": "stream",
     "text": [
      "(2, 2)\n",
      "(2, 3)\n",
      "(2, 3)\n"
     ]
    }
   ],
   "source": [
    "# A Python program to print all combinations  \n",
    "# of given length with duplicates in input \n",
    "from itertools import combinations \n",
    "  \n",
    "# Get all combinations of [2, 2, 3] \n",
    "# and length 2 \n",
    "comb = combinations([2, 2, 3], 2) \n",
    "  \n",
    "# Print the obtained combinations \n",
    "for i in list(comb): \n",
    "    print(i) "
   ]
  },
  {
   "cell_type": "markdown",
   "metadata": {},
   "source": [
    "#### Permutations\n",
    "First import itertools package to implement permutations method in python. This method takes a list as an input and return an object list of tuples that contain all permutation in a list form."
   ]
  },
  {
   "cell_type": "code",
   "execution_count": null,
   "metadata": {
    "ExecuteTime": {
     "end_time": "2020-07-30T14:27:35.579394Z",
     "start_time": "2020-07-30T14:27:29.995532Z"
    }
   },
   "outputs": [],
   "source": [
    "#P(n,r) = n!/(n-r)!\n",
    "\n",
    "import math\n",
    "n = int(input('Enter n\\n'))\n",
    "r = int(input('Enter r\\n'))\n",
    "i = n - r\n",
    "P = (math.factorial(n))/math.factorial(i)\n",
    "print(str(P) + ' permutations')"
   ]
  },
  {
   "cell_type": "code",
   "execution_count": null,
   "metadata": {
    "ExecuteTime": {
     "end_time": "2020-07-30T14:28:13.797500Z",
     "start_time": "2020-07-30T14:28:13.756644Z"
    }
   },
   "outputs": [],
   "source": [
    "from itertools import permutations\n",
    "\n",
    "Perm_number = permutations([1,2,3])\n",
    "\n",
    "#print(len(list(Perm_number)))\n",
    "\n",
    "for i in list(Perm_number):\n",
    "    print(i)"
   ]
  },
  {
   "cell_type": "markdown",
   "metadata": {},
   "source": [
    "It generates n! permutations if length of input sequence is n.\n",
    "\n",
    "If want want to get permutations of length r then implement it in this way."
   ]
  },
  {
   "cell_type": "code",
   "execution_count": null,
   "metadata": {},
   "outputs": [],
   "source": [
    "# Defining the number of elements chosen \n",
    "from itertools import permutations\n",
    "\n",
    "Perm_number1 = permutations([1,2,3,4, 5],2 )\n",
    "\n",
    "#print(len(list(Perm_number1)))\n",
    "\n",
    "for i in list(Perm_number1):\n",
    "    print(i)"
   ]
  },
  {
   "cell_type": "markdown",
   "metadata": {},
   "source": [
    "#### Creating the Normal Curve\n",
    "\n",
    "Suppose we have data of the heights of adults in a town and the data follows a normal distribution, we have a sufficient sample size with mean equals 5.3 and the standard deviation is 1."
   ]
  },
  {
   "cell_type": "markdown",
   "metadata": {},
   "source": [
    "#### Normal Distribution\n",
    "\n",
    "The Normal Distribution is one of the most important distributions.\n",
    "\n",
    "It is also called the Gaussian Distribution after the German mathematician Carl Friedrich Gauss.\n",
    "\n",
    "Use the  <font color = 'red'>**scipy.stats.norm()**</font> method to get a Normal Data  Distribution. It has three parameters:\n",
    "\n",
    "- <font color='red'>loc</font> - (Mean) where the peak of the bell exists\n",
    "- <font color='red'>scale</font> - (Standard Deviation) how flat the graph should be\n",
    "- <font color='red'>size</font> - The shape of the returned array\n",
    "\n",
    "- cdf(x, loc=0, scale=1)    Cumulative distribution function. \n",
    "\n",
    "$cdf(x<val)$\n",
    "\n",
    "$cdf(x>val) = 1-cdf(val)$\n",
    "\n",
    "$(v_1<x<v_2) = cdf(v2)-cdf(v1$  \n",
    "\n",
    "- pdf(x, loc=0, scale=1)    Probability density function.\n"
   ]
  },
  {
   "cell_type": "code",
   "execution_count": null,
   "metadata": {},
   "outputs": [],
   "source": [
    "# import required libraries\n",
    "from scipy.stats import norm\n",
    "import numpy as np\n",
    "import matplotlib.pyplot as plt\n",
    "import seaborn as sb\n"
   ]
  },
  {
   "cell_type": "code",
   "execution_count": null,
   "metadata": {},
   "outputs": [],
   "source": [
    "# Creating the distribution\n",
    "data = np.arange(1,10,0.01)\n",
    "pdf = norm.pdf(data , loc = 5.3 , scale = 1 )\n",
    " \n",
    "#Visualizing the distribution\n",
    " \n",
    "sb.set_style('whitegrid')\n",
    "sb.lineplot(data, pdf , color = 'black')\n",
    "plt.xlabel('Heights')\n",
    "plt.ylabel('Probability Density')"
   ]
  },
  {
   "cell_type": "markdown",
   "metadata": {},
   "source": [
    "The norm.pdf( ) class method requires *loc* and scale along with the data as an input argument and gives the probability density value. *loc* is nothing but the mean and the *scale* is the standard deviation of data.\n"
   ]
  },
  {
   "cell_type": "code",
   "execution_count": null,
   "metadata": {},
   "outputs": [],
   "source": [
    "### Plot the distribution.\n",
    "x = np.linspace(-3,3, 100)\n",
    "plt.plot(x,norm.pdf(x),'r-')\n",
    "plt.grid(True)"
   ]
  },
  {
   "cell_type": "code",
   "execution_count": null,
   "metadata": {},
   "outputs": [],
   "source": [
    "# pdf function it return the value at x, i.e. height of normal curve\n",
    "x1 = norm.pdf(1)\n",
    "print(x1)"
   ]
  },
  {
   "cell_type": "code",
   "execution_count": null,
   "metadata": {},
   "outputs": [],
   "source": [
    "## cdf function gives cumulative density function\n",
    "x_cum = norm.cdf(1)\n",
    "\n",
    "print(x_cum)"
   ]
  },
  {
   "cell_type": "markdown",
   "metadata": {},
   "source": [
    "#### Calculating Probability of Specific Data Occurance\n",
    "Now, if we were asked to pick one person randomly from this distribution, then what is the probability that the height of the person will be smaller than 4.5 ft. ?"
   ]
  },
  {
   "cell_type": "markdown",
   "metadata": {},
   "source": [
    "<img src=\"Area-under-the-curve-as-probability.jpeg\" width=\"400\" height=\"400\" align=\"center\"/>\n"
   ]
  },
  {
   "cell_type": "markdown",
   "metadata": {},
   "source": [
    "The area under the curve as shown in the figure above will be the probability that the height of the person will be smaller than 4.5 ft if chosen randomly from the distribution. Let’s see how we can calculate this in python.\n",
    "\n",
    "The area under the curve is nothing but just the Integration of the density function with limits equals -∞ to 4.5."
   ]
  },
  {
   "cell_type": "code",
   "execution_count": null,
   "metadata": {},
   "outputs": [],
   "source": [
    "norm.cdf(4.5 , loc = 5.3 , scale = 1 )"
   ]
  },
  {
   "cell_type": "markdown",
   "metadata": {},
   "source": [
    "It is observed that there is a 21.18% chance that if a person is chosen randomly from the normal distribution with a mean of 5.3 and a standard deviation of 1, then the height of the person will be below 4.5 ft.\n",
    "\n",
    "Here we have used the method .cdf() which is cumulative probability value. The cumulative distribution function (CDF) calculates the cumulative probability for a given x-value. \n",
    "\n",
    "Cumulative probability value from -∞ to ∞ will be equal to 1.\n",
    "\n",
    "\n"
   ]
  },
  {
   "cell_type": "markdown",
   "metadata": {},
   "source": [
    "#### Example\n",
    "Assume that the test scores of a college entrance exam fits a normal distribution. Furthermore, the mean test score is 72, and the standard deviation is 15.2. What is the percentage of students scoring 84 or more in the exam?"
   ]
  },
  {
   "cell_type": "code",
   "execution_count": null,
   "metadata": {},
   "outputs": [],
   "source": [
    "1-norm.cdf(84,72,15.2)"
   ]
  },
  {
   "cell_type": "code",
   "execution_count": null,
   "metadata": {},
   "outputs": [],
   "source": [
    "norm.cdf(84,72,15.2)"
   ]
  },
  {
   "cell_type": "code",
   "execution_count": null,
   "metadata": {},
   "outputs": [],
   "source": [
    "norm.cdf(84)"
   ]
  },
  {
   "cell_type": "markdown",
   "metadata": {},
   "source": [
    "Now, again we were asked to pick one person randomly from this distribution, then what is the probability that the height of the person will be between 6.5 and 4.5 ft. ?"
   ]
  },
  {
   "cell_type": "markdown",
   "metadata": {},
   "source": [
    "<img src=\"Area-under-the-curve-between-4.5-and-6.5-ft.jpeg\" width=\"400\" height=\"400\" align=\"center\"/>"
   ]
  },
  {
   "cell_type": "code",
   "execution_count": null,
   "metadata": {},
   "outputs": [],
   "source": [
    "cdf_upper = norm.cdf(6.5 , loc = 5.3 , scale = 1 )\n",
    "cdf_lower = norm.cdf(4.5 , loc = 5.3 , scale = 1 )\n",
    "prob = cdf_upper - cdf_lower\n",
    "print(prob)"
   ]
  },
  {
   "cell_type": "markdown",
   "metadata": {},
   "source": [
    "Now, what if we were asked about the probability that the height of a person chosen randomly will be above 6.5ft?\n",
    "\n",
    "<img src=\"Area-under-the-curve-between-6.5-and-infinity.jpeg\" width=\"400\" height=\"400\" align=\"center\"/>"
   ]
  },
  {
   "cell_type": "code",
   "execution_count": null,
   "metadata": {},
   "outputs": [],
   "source": [
    "cdf_value = norm.cdf(6.5 , loc = 5.3 , scale = 1 )\n",
    "1-cdf_value"
   ]
  },
  {
   "cell_type": "markdown",
   "metadata": {},
   "source": [
    "#### Binomial Distribution\n",
    "Binomial Distribution is a Discrete Distribution.It describes the outcome of binary scenarios, e.g. toss of a coin, it will either be head or tails.\n",
    "\n",
    "The binomial distribution model deals with finding the probability of success of an event which has only two possible outcomes in a series of experiments. For example, tossing of a coin always gives a head or a tail. The probability of finding exactly 3 heads in tossing a coin repeatedly for 10 times is estimated during the binomial distribution.\n",
    "\n",
    "\n",
    "It has three parameters:\n",
    "\n",
    "- <font color='red'>n</font>  - number of trials.\n",
    "\n",
    "- <font color='red'>p</font>  - probability of occurence of each trial (e.g. for toss of a coin 0.5 each).\n",
    "\n",
    "- <font color='red'>size</font> size - The shape of the returned array.\n",
    "\n",
    "\n",
    "binom.pmf(successes, attempts, chances of success per attempt (prob))"
   ]
  },
  {
   "cell_type": "markdown",
   "metadata": {},
   "source": [
    "You are rolling a single 6-sided die 12 times, and you want to find out the probability of getting 3 as an outcome 5 times. Here, getting 3 is a success outcome, while getting anything else (1, 2, 4, 5, 6) is a failure outcome. Clearly, on each roll, your probability of getting 3 is (1/6).\n",
    "\n",
    "According to the data we have here, rolling a die 12 times, you should get 3 as an outcome 2 times (12 *(1/6)).\n",
    "\n",
    "Now, how do we actually calculate the probability of observing 3 as an outcome 5 times?\n",
    "\n",
    "Using the above formula we can easily solve for it. We have an experiment that occurs 12 times (n = 12), number of outcomes in question is 5 (k = 5), and probability is (1/6) or 0.17 rounded (p = 0.17)."
   ]
  },
  {
   "cell_type": "code",
   "execution_count": null,
   "metadata": {},
   "outputs": [],
   "source": [
    "from scipy.stats import binom\n",
    "\n",
    "binom.pmf(5,12,0.17)"
   ]
  },
  {
   "cell_type": "markdown",
   "metadata": {},
   "source": [
    "#### Example\n",
    "\n",
    "A student takes a ten-question true/false exam.\n",
    "\n",
    "1. Find the probability that the student gets exactly six of the questions right simply by guessing the answer on every question.\n",
    "\n",
    "\n",
    "2. Find the probability that the student will obtain a passing grade of  60%  or greater simply by guessing."
   ]
  },
  {
   "cell_type": "code",
   "execution_count": null,
   "metadata": {},
   "outputs": [],
   "source": [
    "# part 1\n",
    "binom.pmf(6,10,0.5)"
   ]
  },
  {
   "cell_type": "markdown",
   "metadata": {},
   "source": [
    "**Part 2**\n",
    "\n",
    "The student must guess correctly on at least  60%  of the questions, which is  (0.60)⋅(10)=6  questions. The probability sought is not  𝑃(6)  (an easy mistake to make, but \n",
    "\n",
    "𝑃(𝑋≥6)=𝑃(6)+𝑃(7)+𝑃(8)+𝑃(9)+𝑃(10)"
   ]
  },
  {
   "cell_type": "code",
   "execution_count": null,
   "metadata": {},
   "outputs": [],
   "source": [
    "binom.pmf(6,10,0.5)+binom.pmf(7,10,0.5)+binom.pmf(8,10,0.5)+binom.pmf(9,10,0.5)+binom.pmf(10,10,0.5)"
   ]
  },
  {
   "cell_type": "code",
   "execution_count": null,
   "metadata": {},
   "outputs": [],
   "source": [
    "#binom.cdf(4,12,0.2)\n",
    "1-binom.cdf(5,10,0.5)"
   ]
  },
  {
   "cell_type": "code",
   "execution_count": null,
   "metadata": {},
   "outputs": [],
   "source": [
    "import seaborn as sns\n",
    "x = np.arange(0,11)\n",
    "y = binom.pmf(x,10,0.5)\n",
    "sns.barplot(x,y)"
   ]
  },
  {
   "cell_type": "markdown",
   "metadata": {},
   "source": [
    "#### Example\n",
    "\n",
    "Suppose there are twelve questions in a data analysis class quiz. Each question has five possible answers, amd only one of them is correct. Find the probablity of having four or less correct answers if a student attempts to answer every question at random"
   ]
  },
  {
   "cell_type": "code",
   "execution_count": null,
   "metadata": {},
   "outputs": [],
   "source": [
    "# Solution\n",
    "from scipy.stats import binom\n",
    "\n",
    "# prbbaility of exact four correct\n",
    "prob_4 = binom.pmf(4, 12, 0.2)\n",
    "\n",
    "print(\"prob of 4 correct:\", prob_4)\n",
    "'''\n",
    "To find the probability of having four or less correct answers by random attempts, we apply\n",
    "\n",
    "the above function binom.pmf() with x = 0,1,...,4 \n",
    "'''\n",
    "prob_4less = binom.pmf(4, 12, 0.2)+binom.pmf(3, 12, 0.2)+binom.pmf(2, 12, 0.2)+binom.pmf(1, 12, 0.2)+binom.pmf(0, 12, 0.2)\n",
    "print(\"prob of 4 or less corrcet:\",prob_4less)\n",
    "\n",
    "# Using cdf()\n",
    "prob_4less_cdf = binom.cdf(4, 12, 0.2)\n",
    "print(\"prob of 4 or less corrcet using cdf:\",prob_4less_cdf)\n",
    "\n",
    "## Distribution of all possible results on the test.\n",
    "y = np.arange(0,13)\n",
    "x = binom.pmf(y, 12, 0.2)\n",
    "plt.bar(y,x, color = 'r')\n",
    "plt.grid()\n",
    "plt.xlabel('corrcet answers')\n",
    "plt.ylabel('Probility')"
   ]
  },
  {
   "cell_type": "code",
   "execution_count": null,
   "metadata": {},
   "outputs": [],
   "source": []
  },
  {
   "cell_type": "markdown",
   "metadata": {},
   "source": [
    "#### Sampling\n",
    "\n",
    "**sample()** is an inbuilt function of **random module** in Python that returns a particular length list of items chosen from the sequence i.e. list, tuple, string or set. Used for random sampling without replacement.\n",
    "\n",
    "**Syntax** : random.sample(sequence, r)\n",
    "\n",
    "**Parameters**:\n",
    "\n",
    "**sequence**: Can be a list, tuple, string, or set.\n",
    "\n",
    "**r**: An Integer value, it specify the length of a sample.\n",
    "\n",
    "**Returns**: r length new list of elements chosen from the sequence.\n",
    "\n",
    "\n",
    "**Note**: Output will be different everytime as it returns a random item."
   ]
  },
  {
   "cell_type": "code",
   "execution_count": null,
   "metadata": {},
   "outputs": [],
   "source": [
    "from random import sample"
   ]
  },
  {
   "cell_type": "code",
   "execution_count": null,
   "metadata": {},
   "outputs": [],
   "source": [
    "list1 = [1, 2, 3, 4, 5]  \n",
    "sample(list1,3) \n",
    "    "
   ]
  },
  {
   "cell_type": "code",
   "execution_count": null,
   "metadata": {},
   "outputs": [],
   "source": [
    "# Prints list of random items of \n",
    "# length 3 from the given list. \n",
    "list1 = [1, 2, 3, 4, 5, 6]  \n",
    "print(\"With list:\", sample(list1, 3)) "
   ]
  },
  {
   "cell_type": "code",
   "execution_count": null,
   "metadata": {},
   "outputs": [],
   "source": [
    "# Prints list of random items of \n",
    "# length 4 from the given string.  \n",
    "string = \"University of California\"\n",
    "print(\"With string:\", sample(string, 6)) "
   ]
  },
  {
   "cell_type": "code",
   "execution_count": null,
   "metadata": {},
   "outputs": [],
   "source": [
    "# Prints list of random items of \n",
    "# length 4 from the given tuple. \n",
    "tuple1 = (\"john\", \"computer\", \"science\", \n",
    "                   \"portal\", \"scientist\", \"silicon valley\") \n",
    "print(\"With tuple:\", sample(tuple1, 4)) \n",
    "  "
   ]
  },
  {
   "cell_type": "code",
   "execution_count": null,
   "metadata": {},
   "outputs": [],
   "source": [
    "# Prints list of random items of \n",
    "# length 3 from the given set. \n",
    "set1 = {\"a\", \"b\", \"c\", \"d\", \"e\", \"f\", \"g\"} \n",
    "print(\"With set:\", sample(set1, 4)) "
   ]
  },
  {
   "cell_type": "code",
   "execution_count": null,
   "metadata": {},
   "outputs": [],
   "source": []
  },
  {
   "cell_type": "markdown",
   "metadata": {},
   "source": [
    "**Raise Exception**\n",
    "\n",
    "If the sample size i.e. r is larger than the sequence size, ValueError is raised."
   ]
  },
  {
   "cell_type": "code",
   "execution_count": null,
   "metadata": {},
   "outputs": [],
   "source": [
    "len(set1)"
   ]
  },
  {
   "cell_type": "code",
   "execution_count": null,
   "metadata": {},
   "outputs": [],
   "source": [
    "print(\"With set:\", sample(set1, 10)) "
   ]
  },
  {
   "cell_type": "code",
   "execution_count": null,
   "metadata": {},
   "outputs": [],
   "source": [
    "# From dictionary\n",
    "dict1 = {\n",
    "  \"Kelly\": 55,\n",
    "  \"jhon\": 70,\n",
    "  \"Donald\": 60,\n",
    "  \"Lennin\" :50\n",
    "}\n",
    "print (\"choosing 2 random items from a dictionary using sample method \",sample(dict1.items(), k=2))\n"
   ]
  },
  {
   "cell_type": "markdown",
   "metadata": {},
   "source": [
    "### random sample with replacement to including repetition\n",
    "\n",
    "If you want to get a random sample with replacement, for example, you have a list of names, and you want to get random names from it, but including repetition then it also possible.\n",
    "\n",
    "To do this, we cannot use the *random.sample()* function. We can do that using a *random.choices()* function introduced in Python 3.6. "
   ]
  },
  {
   "cell_type": "code",
   "execution_count": null,
   "metadata": {},
   "outputs": [],
   "source": [
    "import random\n",
    "names = [\"Roger\", \"Nadal\", \"Novac\", \"Andre\", \"Sarena\", \"Mariya\", \"Martina\"]\n",
    "print(\"random sample with replacement to including repetition \", random.choices(names, k=3))"
   ]
  },
  {
   "cell_type": "markdown",
   "metadata": {},
   "source": [
    "#### Get the same sample list every time\n",
    "It is possible to get the same list of items every time from the random.sample function. We can do this by using *random.seed* and *random.sample* function together. let see this with an example."
   ]
  },
  {
   "cell_type": "code",
   "execution_count": null,
   "metadata": {},
   "outputs": [],
   "source": [
    "list = [20, 30, 40, 50, 60]\n",
    "random.seed(4)\n",
    "sample_list = sample(list, 2)\n",
    "print(\"random List\", sample_list)\n",
    "\n",
    "random.seed(4)\n",
    "sample_list = sample(list, 2)\n",
    "print(\"random List\", sample_list)"
   ]
  },
  {
   "cell_type": "markdown",
   "metadata": {},
   "source": [
    "#### Get a sample array from a large multidimensional array in Python\n",
    "Most of the time we work with 2-d or 3-d arrays in Python. Let assume you want to pick more that one random rows from the multidimensional array then how to do it? Let see this with an example. In this example, We used numpy.random.choice() function to pick multiple random rows from the multidimensional array."
   ]
  },
  {
   "cell_type": "code",
   "execution_count": null,
   "metadata": {},
   "outputs": [],
   "source": [
    "array_2d = np.array([[2 ,4, 6], [5, 10, 15], [6, 12, 18], [7, 14, 21], [8, 16, 24]]) \n",
    "print(\"Printing 2D Array\")\n",
    "print(array_2d)\n"
   ]
  },
  {
   "cell_type": "code",
   "execution_count": null,
   "metadata": {},
   "outputs": [],
   "source": [
    "array_2d.shape[0]"
   ]
  },
  {
   "cell_type": "code",
   "execution_count": null,
   "metadata": {},
   "outputs": [],
   "source": [
    "print(\"Choose multiple random row from 2D array\")\n",
    "randRows = np.random.randint(array_2d.shape[0], size=2)\n",
    "for i in randRows:\n",
    "    print(array_2d[i,:])"
   ]
  },
  {
   "cell_type": "code",
   "execution_count": null,
   "metadata": {},
   "outputs": [],
   "source": [
    "randomRows"
   ]
  },
  {
   "cell_type": "code",
   "execution_count": null,
   "metadata": {},
   "outputs": [],
   "source": [
    "import random\n",
    "list1 = [1, 2, 3, 4, 5]  \n",
    "random.choices(list1,k=3)"
   ]
  },
  {
   "cell_type": "markdown",
   "metadata": {},
   "source": [
    "#### Pandas Dataframe.sample()\n",
    "Pandas **sample()** is used to generate a sample random row or column from the function caller data frame.\n",
    "\n",
    "**Syntax** \n",
    "\n",
    "DataFrame.sample(n=None, frac=None, replace=False, weights=None, random_state=None, axis=None)\n",
    "\n",
    "**Parameters**:\n",
    "\n",
    "**n**: int value, Number of random rows to generate.\n",
    "\n",
    "**frac**: Float value, Returns (float value * length of data frame values ). frac cannot be used with n.\n",
    "\n",
    "**replace**: Boolean value, return sample with replacement if True.\n",
    "**axis**: 0 or ‘row’ for Rows and 1 or ‘column’ for Columns.\n",
    "\n",
    "**Return type** : New object of same type as caller."
   ]
  },
  {
   "cell_type": "code",
   "execution_count": null,
   "metadata": {},
   "outputs": [],
   "source": [
    "# Random row from Data Frame "
   ]
  },
  {
   "cell_type": "code",
   "execution_count": null,
   "metadata": {},
   "outputs": [],
   "source": [
    "df1 = pd.read_csv(\"employees.csv\")\n",
    "print(\"Dimension of data\", df1.shape)\n",
    "print(\"\\n\")\n",
    "df1.head()"
   ]
  },
  {
   "cell_type": "code",
   "execution_count": null,
   "metadata": {},
   "outputs": [],
   "source": [
    "df1['Salary'].sample(3)"
   ]
  },
  {
   "cell_type": "code",
   "execution_count": null,
   "metadata": {},
   "outputs": [],
   "source": [
    "df1['Salary'].sample(3, random_state = 123)"
   ]
  },
  {
   "cell_type": "code",
   "execution_count": null,
   "metadata": {},
   "outputs": [],
   "source": [
    "row1 = df1.sample(n=1)\n",
    "print(\"row1\",row1)\n",
    "\n",
    "row2 = df1.sample(n=1)\n",
    "print(\"row2\", row2)"
   ]
  },
  {
   "cell_type": "markdown",
   "metadata": {},
   "source": [
    "As seen in the output image, the two random sample rows generated are different from each other."
   ]
  },
  {
   "cell_type": "code",
   "execution_count": null,
   "metadata": {},
   "outputs": [],
   "source": [
    "## Generating 25% sample of data frame\n",
    "df1_25p = df1.sample(frac = 0.25)\n",
    "df1_25p.shape"
   ]
  },
  {
   "cell_type": "code",
   "execution_count": null,
   "metadata": {},
   "outputs": [],
   "source": [
    "# checking if sample is 0.25 times data or not \n",
    "  \n",
    "if (0.25*(len(df1))== len(df1_25p)): \n",
    "    print( \"good\") \n",
    "    print(len(df1), len(df1_25p)) "
   ]
  },
  {
   "cell_type": "code",
   "execution_count": null,
   "metadata": {},
   "outputs": [],
   "source": [
    "df1.sample(10, replace = True)"
   ]
  },
  {
   "cell_type": "markdown",
   "metadata": {},
   "source": [
    "### Statistical Tests\n",
    "\n",
    "Although there are hundreds of statistical hypothesis tests that you could use, there is only a small subset that you may need to use in a machine learning project.\n",
    "\n",
    "In this lecture, you will discover the most popular statistical hypothesis tests for a machine learning."
   ]
  },
  {
   "cell_type": "markdown",
   "metadata": {},
   "source": [
    "### Correlation Tests\n",
    "\n",
    "This section lists statistical tests that can be used to check if two samples are related. It is a measure of the linear correlation between two variables X and Y. It has a value between +1 and −1, where 1 is total positive linear correlation, 0 is no linear correlation, and −1 is total negative linear correlation. \n",
    "\n",
    "#### Pearson’s Correlation Coefficient\n",
    "Tests whether two samples have a linear relationship.\n",
    "\n",
    "Assumptions\n",
    "\n",
    "- Observations in each sample are independent and identically distributed (iid).\n",
    "- Observations in each sample are normally distributed.\n",
    "- Observations in each sample have the same variance.\n",
    "\n",
    "- Interpretation\n",
    "\n",
    "- H0: the two samples are independent.\n",
    "- H1: there is a dependency between the samples.\n",
    "\n",
    "https://docs.scipy.org/doc/scipy/reference/generated/scipy.stats.pearsonr.html"
   ]
  },
  {
   "cell_type": "markdown",
   "metadata": {},
   "source": [
    "#### Pearson's Correlation Coefficient"
   ]
  },
  {
   "cell_type": "code",
   "execution_count": null,
   "metadata": {},
   "outputs": [],
   "source": [
    "from scipy.stats import pearsonr\n",
    "data1 = np.random.random_sample((100,1))\n",
    "data2 = np.random.random_sample((100,1))\n",
    "stat, p = pearsonr(data1, data2)\n",
    "\n",
    "print('stat=%.3f, p=%.3f' % (stat, p))\n",
    "\n",
    "if p > 0.05:\n",
    "    print('Probably independent')\n",
    "else:\n",
    "    print('Probably dependent')"
   ]
  },
  {
   "cell_type": "code",
   "execution_count": null,
   "metadata": {},
   "outputs": [],
   "source": [
    "import matplotlib.pyplot as plt\n",
    "%matplotlib inline\n",
    "plt.scatter(data1,data2)"
   ]
  },
  {
   "cell_type": "code",
   "execution_count": null,
   "metadata": {},
   "outputs": [],
   "source": [
    "import pandas as pd\n",
    "pd.Series(data1).corr(pd.Series(data2))"
   ]
  },
  {
   "cell_type": "markdown",
   "metadata": {},
   "source": [
    "#### Spearman’s Rank Correlation"
   ]
  },
  {
   "cell_type": "code",
   "execution_count": null,
   "metadata": {},
   "outputs": [],
   "source": [
    "# Example of the Spearman's Rank Correlation Test\n",
    "from scipy.stats import spearmanr\n",
    "stat, p = spearmanr(data, data1)\n",
    "print('stat=%.3f, p=%.3f' % (stat, p))\n",
    "alpha = 0.05\n",
    "if p > alpha:\n",
    "\tprint('Probably independent')\n",
    "else:\n",
    "\tprint('Probably dependent')"
   ]
  },
  {
   "cell_type": "markdown",
   "metadata": {},
   "source": [
    "#### Chi-Squared Test\n",
    "\n",
    "Tests whether two categorical variables are related or independent.\n",
    "\n",
    "Assumptions\n",
    "\n",
    "- Observations used in the calculation of the contingency table are independent.\n",
    "\n",
    "- 25 or more examples in each cell of the contingency table.\n",
    "\n",
    "Interpretation\n",
    "\n",
    "- H0: the two samples are independent.\n",
    "- H1: there is a dependency between the samples.\n",
    "\n",
    "https://docs.scipy.org/doc/scipy/reference/generated/scipy.stats.chi2_contingency.html"
   ]
  },
  {
   "cell_type": "code",
   "execution_count": null,
   "metadata": {},
   "outputs": [],
   "source": [
    "from scipy.stats import chi2_contingency\n",
    "obs = [[10, 20, 30],[6,  9,  17]]\n",
    "stat, p, dof, expected = chi2_contingency(obs)\n",
    "print('stat=%.3f, p=%.3f' % (stat, p))\n",
    "if p > 0.05:\n",
    "\tprint('Probably independent')\n",
    "else:\n",
    "\tprint('Probably dependent')"
   ]
  },
  {
   "cell_type": "markdown",
   "metadata": {},
   "source": [
    "#### Student’s t-test\n",
    "Tests whether the means of two independent samples are significantly different.\n",
    "\n",
    "#### Usage \n",
    "- A one-sample location test of whether the mean of a population has a value specified in a null hypothesis.\n",
    "- A two-sample location test of the null hypothesis such that the means of two populations are equal. All such tests are usually called Student's t-tests, though strictly speaking that name should only be used if the variances of the two populations are also assumed to be equal; the form of the test used when this assumption is dropped is sometimes called Welch's t-test. These tests are often referred to as \"unpaired\" or \"independent samples\" t-tests, as they are typically applied when the statistical units underlying the two samples being compared are non-overlapping. \n",
    "\n",
    "Assumptions\n",
    "\n",
    "- Observations in each sample are independent and identically distributed (iid).\n",
    "- Observations in each sample are normally distributed.\n",
    "- Observations in each sample have the same variance.\n",
    "\n",
    "Interpretation\n",
    "\n",
    "- H0: the means of the samples are equal.\n",
    "- H1: the means of the samples are unequal.\n",
    "\n",
    "https://docs.scipy.org/doc/scipy/reference/generated/scipy.stats.ttest_ind.html"
   ]
  },
  {
   "cell_type": "markdown",
   "metadata": {},
   "source": [
    "#### One sample t-test\n",
    "https://docs.scipy.org/doc/scipy-0.14.0/reference/generated/scipy.stats.ttest_1samp.html"
   ]
  },
  {
   "cell_type": "code",
   "execution_count": null,
   "metadata": {},
   "outputs": [],
   "source": [
    "from scipy.stats import ttest_1samp\n",
    "x=np.random.normal(loc = 1.0, scale = 0.005, size =100)\n",
    "stat, p = ttest_1samp(x,.9)\n",
    "\n",
    "print('stat=%.3f, p=%.3f' % (stat, p))\n",
    "\n",
    "alpha = 0.05\n",
    "if p > alpha:\n",
    "    print('Similar')\n",
    "else:\n",
    "    print('different')"
   ]
  },
  {
   "cell_type": "code",
   "execution_count": null,
   "metadata": {},
   "outputs": [],
   "source": [
    "np.mean(x)"
   ]
  },
  {
   "cell_type": "code",
   "execution_count": null,
   "metadata": {},
   "outputs": [],
   "source": [
    "mu, sigma = 20, 0.1  # mean and standard deviation \n",
    "s = np.random.normal(mu, sigma, 10)\n",
    "mean_s = np.mean(s)\n",
    "print(\"mean_s:\", mean_s)\n",
    "tset, pval = ttest_1samp (s, 15.0) \n",
    "print(\"p-values\", pval)\n",
    "\n",
    "alpha = 0.05\n",
    "if pval < alpha:    # alpha value is 0.05 or 5%\n",
    "   print(\" we are rejecting null hypothesis\")\n",
    "else:\n",
    "  print(\"we are accepting null hypothesis\")"
   ]
  },
  {
   "cell_type": "code",
   "execution_count": null,
   "metadata": {},
   "outputs": [],
   "source": [
    "tset, pval = ttest_1samp (s, 20) \n",
    "print(\"p-values\", pval)\n",
    "\n",
    "alpha = 0.05\n",
    "if pval < alpha:    # alpha value is 0.05 or 5%\n",
    "   print(\" we are rejecting null hypothesis\")\n",
    "else:\n",
    "  print(\"we are accepting null hypothesis\")"
   ]
  },
  {
   "cell_type": "code",
   "execution_count": null,
   "metadata": {},
   "outputs": [],
   "source": [
    "from scipy.stats import ttest_ind\n",
    "data1 = np.random.random_sample((100,1))\n",
    "data2 = np.random.random_sample((100,1))\n",
    "stat, p = ttest_ind(data1, data2)\n",
    "\n",
    "print('stat=%.3f, p=%.3f' % (stat, p))\n",
    "\n",
    "if p > 0.05:\n",
    "    print('Probably the same distribution')\n",
    "else:\n",
    "    print('Probably different distribution')"
   ]
  },
  {
   "cell_type": "code",
   "execution_count": null,
   "metadata": {},
   "outputs": [],
   "source": [
    "print(np.mean(data1))\n",
    "print(np.mean(data2))"
   ]
  },
  {
   "cell_type": "code",
   "execution_count": null,
   "metadata": {},
   "outputs": [],
   "source": [
    "data1 = np.random.random_sample((20,1))\n",
    "data3 = np.random.uniform((-1,10,20))\n",
    "stat, p = ttest_ind(data1, data3)\n",
    "\n",
    "print('stat=%.3f, p=%.3f' % (stat, p))\n",
    "\n",
    "if p > 0.05:\n",
    "    print('Probably the same distribution')\n",
    "else:\n",
    "    print('Probably different distribution')"
   ]
  },
  {
   "cell_type": "markdown",
   "metadata": {},
   "source": [
    "#### Paired Student's t-test\n",
    "\n",
    "Paired Student's t-test¶\n",
    "Tests whether the means of two paired samples are significantly different.\n",
    "\n",
    "Paired samples t-tests typically consist of a sample of matched pairs of similar units, or one group of units that has been tested twice (a \"repeated measures\" t-test).\n",
    "\n",
    "A typical example of the repeated measures t-test would be where subjects are tested prior to a treatment, say for high blood pressure, and the same subjects are tested again after treatment with a blood-pressure lowering medication.\n",
    "\n",
    "https://docs.scipy.org/doc/scipy/reference/generated/scipy.stats.ttest_rel.html"
   ]
  },
  {
   "cell_type": "code",
   "execution_count": null,
   "metadata": {},
   "outputs": [],
   "source": [
    "from scipy.stats import ttest_rel\n",
    "data1 = [0.873, 2.817, 0.121, -0.945, -0.055, -1.436, 0.360, -1.478, -1.637, -1.869]\n",
    "data2 = [1.142, -0.432, -0.938, -0.729, -0.846, -0.157, 0.500, 1.183, -1.075, -0.169]\n",
    "stat, p = ttest_rel(data1, data2)\n",
    "print('stat=%.3f, p=%.3f' % (stat, p))\n",
    "\n",
    "if p > 0.05:\n",
    "\tprint('Probably the same distribution')\n",
    "else:\n",
    "\tprint('Probably different distributions')"
   ]
  },
  {
   "cell_type": "markdown",
   "metadata": {},
   "source": [
    "#### ANOVA\n",
    "\n",
    "There are sometimes situations where we may have multiple independent data samples.\n",
    "\n",
    "We can perform the Student’s t-test pairwise on each combination of the data samples to get an idea of which samples have different means. This can be onerous if we are only interested in whether all samples have the same distribution or not.\n",
    "\n",
    "Instead, we can use the analysis of variance test, or ANOVA for short. ANOVA is a statistical test that assumes that the mean across 2 or more groups are equal. \n",
    "\n",
    "Tests whether the means of two or more independent samples are significantly different.\n",
    "\n",
    "https://docs.scipy.org/doc/scipy/reference/generated/scipy.stats.f_oneway.html"
   ]
  },
  {
   "cell_type": "code",
   "execution_count": null,
   "metadata": {},
   "outputs": [],
   "source": [
    "from scipy.stats import f_oneway\n",
    "data1 = np.random.random_sample((100,1))\n",
    "data2 = np.random.random_sample((100,1))\n",
    "data3 = np.random.random_sample((100,1))\n",
    "\n",
    "stat, p = f_oneway(data1, data2, data3)\n",
    "print('stat=%.3f, p=%.3f' % (stat, p))\n",
    "if p > 0.05:\n",
    "\tprint('Probably the same distribution')\n",
    "else:\n",
    "\tprint('Probably different distributions')"
   ]
  },
  {
   "cell_type": "code",
   "execution_count": null,
   "metadata": {},
   "outputs": [],
   "source": [
    "stat12, p12 = ttest_ind(data1, data2)\n",
    "stat23, p23 = ttest_ind(data2, data3)\n",
    "stat31, p31 = ttest_ind(data3, data1)\n",
    "print(p12)\n",
    "print(p23)\n",
    "print(p31)"
   ]
  },
  {
   "cell_type": "markdown",
   "metadata": {},
   "source": [
    "#### Wilcoxon Signed Rank Test\n",
    "\n",
    "Tests whether the distributions of two paired samples are equal or not. The Wilcoxon signed-rank test is a non-parametric statistical hypothesis test used to compare two related samples, matched samples, or repeated measurements on a single sample to assess whether their population mean ranks differ (i.e. it is a paired difference test). It can be used as an alternative to the paired Student's t-test (also known as \"t-test for matched pairs\" or \"t-test for dependent samples\") when the distribution of the differences between the two samples cannot be assumed to be normally distributed. A Wilcoxon signed-rank test is a nonparametric test that can be used to determine whether two dependent samples were selected from populations having the same distribution.\n",
    "\n",
    "\n",
    "https://docs.scipy.org/doc/scipy/reference/generated/scipy.stats.wilcoxon.html"
   ]
  },
  {
   "cell_type": "code",
   "execution_count": null,
   "metadata": {},
   "outputs": [],
   "source": [
    "from scipy.stats import wilcoxon\n",
    "data1 = [0.725, 1.725, 0.245, -0.895, -1.566, -1.256, 1.678, -2.867, 1.345, 2.345]\n",
    "data2 = [2.567, -0.567, -0.825, -0.987, 0.256, 1.256, 0.800, 2.831, 1.075, 0.981]\n",
    "stat, p = wilcoxon(data1, data2)\n",
    "print('stat=%.3f, p=%.3f' % (stat, p))\n",
    "\n",
    "if p > 0.05:\n",
    "\tprint('Probably the same distribution')\n",
    "else:\n",
    "\tprint('Probably different distributions')"
   ]
  },
  {
   "cell_type": "markdown",
   "metadata": {},
   "source": [
    "#### Kruskal-Wallis H Test\n",
    "\n",
    "https://docs.scipy.org/doc/scipy/reference/generated/scipy.stats.kruskal.html"
   ]
  },
  {
   "cell_type": "code",
   "execution_count": null,
   "metadata": {},
   "outputs": [],
   "source": [
    "from scipy.stats import kruskal\n",
    "data1 = [0.725, 1.725, 0.245, -0.895, -1.566, -1.256, 1.678, -2.867, 1.345, 2.345]\n",
    "data2 = [2.567, -0.567, -0.825, -0.987, 0.256, 1.256, 0.800, 2.831, 1.075, 0.981]\n",
    "stat, p = kruskal(data1, data2)\n",
    "print('stat=%.3f, p=%.3f' % (stat, p))\n",
    "\n",
    "if p > 0.05:\n",
    "\tprint('Probably the same distribution')\n",
    "else:\n",
    "\tprint('Probably different distributions')"
   ]
  },
  {
   "cell_type": "markdown",
   "metadata": {},
   "source": [
    "#### Friedman Test\n",
    "\n",
    "https://docs.scipy.org/doc/scipy/reference/generated/scipy.stats.kruskal.html"
   ]
  },
  {
   "cell_type": "code",
   "execution_count": null,
   "metadata": {},
   "outputs": [],
   "source": [
    "from scipy.stats import friedmanchisquare\n",
    "data1 = np.random.random_sample((50,1))\n",
    "data2 = np.random.random_sample((50,1))\n",
    "data3 = np.random.random_sample((50,1))\n",
    "\n",
    "stat, p = friedmanchisquare(data1, data2, data3)\n",
    "print('stat=%.3f, p=%.3f' % (stat, p))\n",
    "if p > 0.05:\n",
    "\tprint('Probably the same distribution')\n",
    "else:\n",
    "\tprint('Probably different distributions')"
   ]
  },
  {
   "cell_type": "markdown",
   "metadata": {},
   "source": [
    "#### Normality test\n",
    "\n",
    "\n",
    "\n",
    "There are number of tests which can be performed to test the normality of the data. \n",
    "\n",
    "1. Shapiro-Wilk Test\n",
    "\n",
    "2. D’Agostino’s K^2 Test\n",
    "\n",
    "3. Anderson-Darling Test\n"
   ]
  },
  {
   "cell_type": "markdown",
   "metadata": {},
   "source": [
    "###  Shapiro test\n",
    "\n",
    "The Shapiro-Wilk test evaluates a data sample and quantifies how likely it is that the data was drawn from a Gaussian distribution, named for Samuel Shapiro and Martin Wilk.\n",
    "\n",
    "Assumption\n",
    "\n",
    "- Observations in each smaple are independet and identical distributed (iid)\n",
    "\n",
    "Interpretation:\n",
    "\n",
    "- H0: the sample has a Gaussian distribution.\n",
    "- H1: the sample does not have a Gaussian distribution.\n",
    "\n",
    "https://docs.scipy.org/doc/scipy/reference/generated/scipy.stats.shapiro.html\n",
    "\n",
    "**Syntax**\n",
    "scipy.stats.shapiro(x)\n",
    "\n",
    "**Parameters**\n",
    "\n",
    "   *x*: Array of sample data.\n",
    "\n",
    "**Output**\n",
    "\n",
    "   *w*: test statistic\n",
    "    \n",
    "   *p-value*: The p-value for the hypothesis test\n"
   ]
  },
  {
   "cell_type": "code",
   "execution_count": null,
   "metadata": {},
   "outputs": [],
   "source": [
    "from scipy.stats import shapiro\n",
    "\n",
    "np.random.seed(123456)\n",
    "mu,sigma = 0,0.01\n",
    "x = np.random.normal(mu,sigma, 1000)\n",
    "stat,p = shapiro(x)\n",
    "print('stat=%.3f, p=%.3f' % (stat, p))\n",
    "\n",
    "if p > 0.05:\n",
    "\n",
    "    print('Probably Gaussian')\n",
    "else:\n",
    "\tprint('Probably not Gaussian')"
   ]
  },
  {
   "cell_type": "markdown",
   "metadata": {},
   "source": [
    "Let us take another example"
   ]
  },
  {
   "cell_type": "code",
   "execution_count": null,
   "metadata": {},
   "outputs": [],
   "source": [
    "x = np.random.uniform(-1,0, 100)\n",
    "stat,p = shapiro(x)\n",
    "print('stat=%.3f, p=%.3f' % (stat, p))\n",
    "\n",
    "if p > 0.05:\n",
    "\n",
    "    print('Probably Gaussian')\n",
    "else:\n",
    "\tprint('Probably not Gaussian')"
   ]
  },
  {
   "cell_type": "code",
   "execution_count": null,
   "metadata": {},
   "outputs": [],
   "source": [
    "from numpy import random\n",
    "# seed the random number generator\n",
    "random.seed(123)\n",
    "# generate univariate observations\n",
    "data = 5 * random. randn(1000) + 50\n",
    "# summarize\n",
    "print('mean=%.3f stdv=%.3f' % (np.mean(data), np.std(data)))"
   ]
  },
  {
   "cell_type": "markdown",
   "metadata": {},
   "source": [
    "#### Visual Normality Checks"
   ]
  },
  {
   "cell_type": "code",
   "execution_count": null,
   "metadata": {},
   "outputs": [],
   "source": [
    "# Histogram\n",
    "plt.hist(data)"
   ]
  },
  {
   "cell_type": "markdown",
   "metadata": {},
   "source": [
    "#### Quantile-Quantile Plot"
   ]
  },
  {
   "cell_type": "code",
   "execution_count": null,
   "metadata": {},
   "outputs": [],
   "source": [
    "from statsmodels.graphics.gofplots import qqplot\n",
    "qqplot(data, line = 's')"
   ]
  },
  {
   "cell_type": "markdown",
   "metadata": {},
   "source": [
    "#### Stationary Tests\n",
    "This section lists statistical tests that can be used to check if a time series is stationary or not.\n",
    "\n",
    "### Augmented Dickey-Fuller Unit Root Test\n",
    "\n",
    "Tests whether a time series has a unit root, e.g. has a trend or more generally is autoregressive.\n",
    "\n",
    "Assumptions\n",
    "\n",
    "- Observations in are temporally ordered.\n",
    "\n",
    "Interpretation\n",
    "\n",
    "- H0: a unit root is present (series is non-stationary).\n",
    "- H1: a unit root is not present (series is stationary)."
   ]
  },
  {
   "cell_type": "code",
   "execution_count": null,
   "metadata": {},
   "outputs": [],
   "source": [
    "# Example of the Augmented Dickey-Fuller unit root test\n",
    "from statsmodels.tsa.stattools import adfuller\n",
    "data = [0, 1, 2, 3, 4, 5, 6, 7, 8, 9]\n",
    "stat, p, lags, obs, crit, t = adfuller(data)\n",
    "print('stat=%.3f, p=%.3f' % (stat, p))\n",
    "if p > 0.05:\n",
    "\tprint('Probably not Stationary')\n",
    "else:\n",
    "\tprint('Probably Stationary')"
   ]
  },
  {
   "cell_type": "code",
   "execution_count": null,
   "metadata": {},
   "outputs": [],
   "source": []
  },
  {
   "cell_type": "markdown",
   "metadata": {},
   "source": [
    "[scipy stats](https://docs.scipy.org/doc/scipy/reference/tutorial/stats.html)\n",
    "\n",
    "[Normal Distribution](https://docs.scipy.org/doc/scipy/reference/generated/scipy.stats.norm.html)\n",
    "\n",
    "[Binomial Distribution](https://docs.scipy.org/doc/scipy/reference/generated/scipy.stats.binom.html)"
   ]
  }
 ],
 "metadata": {
  "kernelspec": {
   "display_name": "Python 3 (ipykernel)",
   "language": "python",
   "name": "python3"
  },
  "language_info": {
   "codemirror_mode": {
    "name": "ipython",
    "version": 3
   },
   "file_extension": ".py",
   "mimetype": "text/x-python",
   "name": "python",
   "nbconvert_exporter": "python",
   "pygments_lexer": "ipython3",
   "version": "3.9.7"
  },
  "varInspector": {
   "cols": {
    "lenName": 16,
    "lenType": 16,
    "lenVar": 40
   },
   "kernels_config": {
    "python": {
     "delete_cmd_postfix": "",
     "delete_cmd_prefix": "del ",
     "library": "var_list.py",
     "varRefreshCmd": "print(var_dic_list())"
    },
    "r": {
     "delete_cmd_postfix": ") ",
     "delete_cmd_prefix": "rm(",
     "library": "var_list.r",
     "varRefreshCmd": "cat(var_dic_list()) "
    }
   },
   "types_to_exclude": [
    "module",
    "function",
    "builtin_function_or_method",
    "instance",
    "_Feature"
   ],
   "window_display": false
  }
 },
 "nbformat": 4,
 "nbformat_minor": 2
}
